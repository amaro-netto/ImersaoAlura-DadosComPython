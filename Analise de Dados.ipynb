{
 "cells": [
  {
   "cell_type": "markdown",
   "id": "22810d47",
   "metadata": {
    "vscode": {
     "languageId": "html"
    }
   },
   "source": [
    "### Aula 1 - Analise de Dados Python"
   ]
  },
  {
   "cell_type": "code",
   "execution_count": 2,
   "id": "b23fe443",
   "metadata": {},
   "outputs": [],
   "source": [
    "import pandas as pd"
   ]
  },
  {
   "cell_type": "code",
   "execution_count": 3,
   "id": "560b20ab",
   "metadata": {},
   "outputs": [],
   "source": [
    "df = pd.read_csv(\"https://raw.githubusercontent.com/guilhermeonrails/data-jobs/refs/heads/main/salaries.csv\")"
   ]
  },
  {
   "cell_type": "code",
   "execution_count": 4,
   "id": "fb466c9a",
   "metadata": {},
   "outputs": [
    {
     "data": {
      "application/vnd.microsoft.datawrangler.viewer.v0+json": {
       "columns": [
        {
         "name": "index",
         "rawType": "int64",
         "type": "integer"
        },
        {
         "name": "work_year",
         "rawType": "float64",
         "type": "float"
        },
        {
         "name": "experience_level",
         "rawType": "object",
         "type": "string"
        },
        {
         "name": "employment_type",
         "rawType": "object",
         "type": "string"
        },
        {
         "name": "job_title",
         "rawType": "object",
         "type": "string"
        },
        {
         "name": "salary",
         "rawType": "int64",
         "type": "integer"
        },
        {
         "name": "salary_currency",
         "rawType": "object",
         "type": "string"
        },
        {
         "name": "salary_in_usd",
         "rawType": "int64",
         "type": "integer"
        },
        {
         "name": "employee_residence",
         "rawType": "object",
         "type": "string"
        },
        {
         "name": "remote_ratio",
         "rawType": "int64",
         "type": "integer"
        },
        {
         "name": "company_location",
         "rawType": "object",
         "type": "string"
        },
        {
         "name": "company_size",
         "rawType": "object",
         "type": "string"
        }
       ],
       "ref": "6dd042ab-d8a3-4d8b-a5df-ea3f6ea953e3",
       "rows": [
        [
         "0",
         "2025.0",
         "SE",
         "FT",
         "Solutions Engineer",
         "214000",
         "USD",
         "214000",
         "US",
         "100",
         "US",
         "M"
        ],
        [
         "1",
         "2025.0",
         "SE",
         "FT",
         "Solutions Engineer",
         "136000",
         "USD",
         "136000",
         "US",
         "100",
         "US",
         "M"
        ],
        [
         "2",
         "2025.0",
         "MI",
         "FT",
         "Data Engineer",
         "158800",
         "USD",
         "158800",
         "AU",
         "0",
         "AU",
         "M"
        ],
        [
         "3",
         "2025.0",
         "MI",
         "FT",
         "Data Engineer",
         "139200",
         "USD",
         "139200",
         "AU",
         "0",
         "AU",
         "M"
        ],
        [
         "4",
         "2025.0",
         "EN",
         "FT",
         "Data Engineer",
         "90000",
         "USD",
         "90000",
         "US",
         "0",
         "US",
         "M"
        ]
       ],
       "shape": {
        "columns": 11,
        "rows": 5
       }
      },
      "text/html": [
       "<div>\n",
       "<style scoped>\n",
       "    .dataframe tbody tr th:only-of-type {\n",
       "        vertical-align: middle;\n",
       "    }\n",
       "\n",
       "    .dataframe tbody tr th {\n",
       "        vertical-align: top;\n",
       "    }\n",
       "\n",
       "    .dataframe thead th {\n",
       "        text-align: right;\n",
       "    }\n",
       "</style>\n",
       "<table border=\"1\" class=\"dataframe\">\n",
       "  <thead>\n",
       "    <tr style=\"text-align: right;\">\n",
       "      <th></th>\n",
       "      <th>work_year</th>\n",
       "      <th>experience_level</th>\n",
       "      <th>employment_type</th>\n",
       "      <th>job_title</th>\n",
       "      <th>salary</th>\n",
       "      <th>salary_currency</th>\n",
       "      <th>salary_in_usd</th>\n",
       "      <th>employee_residence</th>\n",
       "      <th>remote_ratio</th>\n",
       "      <th>company_location</th>\n",
       "      <th>company_size</th>\n",
       "    </tr>\n",
       "  </thead>\n",
       "  <tbody>\n",
       "    <tr>\n",
       "      <th>0</th>\n",
       "      <td>2025.0</td>\n",
       "      <td>SE</td>\n",
       "      <td>FT</td>\n",
       "      <td>Solutions Engineer</td>\n",
       "      <td>214000</td>\n",
       "      <td>USD</td>\n",
       "      <td>214000</td>\n",
       "      <td>US</td>\n",
       "      <td>100</td>\n",
       "      <td>US</td>\n",
       "      <td>M</td>\n",
       "    </tr>\n",
       "    <tr>\n",
       "      <th>1</th>\n",
       "      <td>2025.0</td>\n",
       "      <td>SE</td>\n",
       "      <td>FT</td>\n",
       "      <td>Solutions Engineer</td>\n",
       "      <td>136000</td>\n",
       "      <td>USD</td>\n",
       "      <td>136000</td>\n",
       "      <td>US</td>\n",
       "      <td>100</td>\n",
       "      <td>US</td>\n",
       "      <td>M</td>\n",
       "    </tr>\n",
       "    <tr>\n",
       "      <th>2</th>\n",
       "      <td>2025.0</td>\n",
       "      <td>MI</td>\n",
       "      <td>FT</td>\n",
       "      <td>Data Engineer</td>\n",
       "      <td>158800</td>\n",
       "      <td>USD</td>\n",
       "      <td>158800</td>\n",
       "      <td>AU</td>\n",
       "      <td>0</td>\n",
       "      <td>AU</td>\n",
       "      <td>M</td>\n",
       "    </tr>\n",
       "    <tr>\n",
       "      <th>3</th>\n",
       "      <td>2025.0</td>\n",
       "      <td>MI</td>\n",
       "      <td>FT</td>\n",
       "      <td>Data Engineer</td>\n",
       "      <td>139200</td>\n",
       "      <td>USD</td>\n",
       "      <td>139200</td>\n",
       "      <td>AU</td>\n",
       "      <td>0</td>\n",
       "      <td>AU</td>\n",
       "      <td>M</td>\n",
       "    </tr>\n",
       "    <tr>\n",
       "      <th>4</th>\n",
       "      <td>2025.0</td>\n",
       "      <td>EN</td>\n",
       "      <td>FT</td>\n",
       "      <td>Data Engineer</td>\n",
       "      <td>90000</td>\n",
       "      <td>USD</td>\n",
       "      <td>90000</td>\n",
       "      <td>US</td>\n",
       "      <td>0</td>\n",
       "      <td>US</td>\n",
       "      <td>M</td>\n",
       "    </tr>\n",
       "  </tbody>\n",
       "</table>\n",
       "</div>"
      ],
      "text/plain": [
       "   work_year experience_level employment_type           job_title  salary  \\\n",
       "0     2025.0               SE              FT  Solutions Engineer  214000   \n",
       "1     2025.0               SE              FT  Solutions Engineer  136000   \n",
       "2     2025.0               MI              FT       Data Engineer  158800   \n",
       "3     2025.0               MI              FT       Data Engineer  139200   \n",
       "4     2025.0               EN              FT       Data Engineer   90000   \n",
       "\n",
       "  salary_currency  salary_in_usd employee_residence  remote_ratio  \\\n",
       "0             USD         214000                 US           100   \n",
       "1             USD         136000                 US           100   \n",
       "2             USD         158800                 AU             0   \n",
       "3             USD         139200                 AU             0   \n",
       "4             USD          90000                 US             0   \n",
       "\n",
       "  company_location company_size  \n",
       "0               US            M  \n",
       "1               US            M  \n",
       "2               AU            M  \n",
       "3               AU            M  \n",
       "4               US            M  "
      ]
     },
     "execution_count": 4,
     "metadata": {},
     "output_type": "execute_result"
    }
   ],
   "source": [
    "df.head(5)"
   ]
  },
  {
   "cell_type": "code",
   "execution_count": 5,
   "id": "c9597f8a",
   "metadata": {},
   "outputs": [
    {
     "name": "stdout",
     "output_type": "stream",
     "text": [
      "<class 'pandas.core.frame.DataFrame'>\n",
      "RangeIndex: 133349 entries, 0 to 133348\n",
      "Data columns (total 11 columns):\n",
      " #   Column              Non-Null Count   Dtype  \n",
      "---  ------              --------------   -----  \n",
      " 0   work_year           133339 non-null  float64\n",
      " 1   experience_level    133349 non-null  object \n",
      " 2   employment_type     133349 non-null  object \n",
      " 3   job_title           133349 non-null  object \n",
      " 4   salary              133349 non-null  int64  \n",
      " 5   salary_currency     133349 non-null  object \n",
      " 6   salary_in_usd       133349 non-null  int64  \n",
      " 7   employee_residence  133349 non-null  object \n",
      " 8   remote_ratio        133349 non-null  int64  \n",
      " 9   company_location    133349 non-null  object \n",
      " 10  company_size        133349 non-null  object \n",
      "dtypes: float64(1), int64(3), object(7)\n",
      "memory usage: 11.2+ MB\n"
     ]
    }
   ],
   "source": [
    "df.info()"
   ]
  },
  {
   "cell_type": "code",
   "execution_count": 6,
   "id": "d957cddd",
   "metadata": {},
   "outputs": [
    {
     "data": {
      "application/vnd.microsoft.datawrangler.viewer.v0+json": {
       "columns": [
        {
         "name": "index",
         "rawType": "object",
         "type": "string"
        },
        {
         "name": "work_year",
         "rawType": "float64",
         "type": "float"
        },
        {
         "name": "salary",
         "rawType": "float64",
         "type": "float"
        },
        {
         "name": "salary_in_usd",
         "rawType": "float64",
         "type": "float"
        },
        {
         "name": "remote_ratio",
         "rawType": "float64",
         "type": "float"
        }
       ],
       "ref": "c54de4c8-2975-4efc-ad57-0d460cb1c733",
       "rows": [
        [
         "count",
         "133339.0",
         "133349.0",
         "133349.0",
         "133349.0"
        ],
        [
         "mean",
         "2024.3587697522855",
         "163283.32258959571",
         "157617.27209802848",
         "20.905668583941388"
        ],
        [
         "std",
         "0.6806266087848142",
         "217386.02157404198",
         "74288.3630973623",
         "40.590044190081535"
        ],
        [
         "min",
         "2020.0",
         "14000.0",
         "15000.0",
         "0.0"
        ],
        [
         "25%",
         "2024.0",
         "106020.0",
         "106000.0",
         "0.0"
        ],
        [
         "50%",
         "2024.0",
         "147000.0",
         "146206.0",
         "0.0"
        ],
        [
         "75%",
         "2025.0",
         "199000.0",
         "198000.0",
         "0.0"
        ],
        [
         "max",
         "2025.0",
         "30400000.0",
         "800000.0",
         "100.0"
        ]
       ],
       "shape": {
        "columns": 4,
        "rows": 8
       }
      },
      "text/html": [
       "<div>\n",
       "<style scoped>\n",
       "    .dataframe tbody tr th:only-of-type {\n",
       "        vertical-align: middle;\n",
       "    }\n",
       "\n",
       "    .dataframe tbody tr th {\n",
       "        vertical-align: top;\n",
       "    }\n",
       "\n",
       "    .dataframe thead th {\n",
       "        text-align: right;\n",
       "    }\n",
       "</style>\n",
       "<table border=\"1\" class=\"dataframe\">\n",
       "  <thead>\n",
       "    <tr style=\"text-align: right;\">\n",
       "      <th></th>\n",
       "      <th>work_year</th>\n",
       "      <th>salary</th>\n",
       "      <th>salary_in_usd</th>\n",
       "      <th>remote_ratio</th>\n",
       "    </tr>\n",
       "  </thead>\n",
       "  <tbody>\n",
       "    <tr>\n",
       "      <th>count</th>\n",
       "      <td>133339.000000</td>\n",
       "      <td>1.333490e+05</td>\n",
       "      <td>133349.000000</td>\n",
       "      <td>133349.000000</td>\n",
       "    </tr>\n",
       "    <tr>\n",
       "      <th>mean</th>\n",
       "      <td>2024.358770</td>\n",
       "      <td>1.632833e+05</td>\n",
       "      <td>157617.272098</td>\n",
       "      <td>20.905669</td>\n",
       "    </tr>\n",
       "    <tr>\n",
       "      <th>std</th>\n",
       "      <td>0.680627</td>\n",
       "      <td>2.173860e+05</td>\n",
       "      <td>74288.363097</td>\n",
       "      <td>40.590044</td>\n",
       "    </tr>\n",
       "    <tr>\n",
       "      <th>min</th>\n",
       "      <td>2020.000000</td>\n",
       "      <td>1.400000e+04</td>\n",
       "      <td>15000.000000</td>\n",
       "      <td>0.000000</td>\n",
       "    </tr>\n",
       "    <tr>\n",
       "      <th>25%</th>\n",
       "      <td>2024.000000</td>\n",
       "      <td>1.060200e+05</td>\n",
       "      <td>106000.000000</td>\n",
       "      <td>0.000000</td>\n",
       "    </tr>\n",
       "    <tr>\n",
       "      <th>50%</th>\n",
       "      <td>2024.000000</td>\n",
       "      <td>1.470000e+05</td>\n",
       "      <td>146206.000000</td>\n",
       "      <td>0.000000</td>\n",
       "    </tr>\n",
       "    <tr>\n",
       "      <th>75%</th>\n",
       "      <td>2025.000000</td>\n",
       "      <td>1.990000e+05</td>\n",
       "      <td>198000.000000</td>\n",
       "      <td>0.000000</td>\n",
       "    </tr>\n",
       "    <tr>\n",
       "      <th>max</th>\n",
       "      <td>2025.000000</td>\n",
       "      <td>3.040000e+07</td>\n",
       "      <td>800000.000000</td>\n",
       "      <td>100.000000</td>\n",
       "    </tr>\n",
       "  </tbody>\n",
       "</table>\n",
       "</div>"
      ],
      "text/plain": [
       "           work_year        salary  salary_in_usd   remote_ratio\n",
       "count  133339.000000  1.333490e+05  133349.000000  133349.000000\n",
       "mean     2024.358770  1.632833e+05  157617.272098      20.905669\n",
       "std         0.680627  2.173860e+05   74288.363097      40.590044\n",
       "min      2020.000000  1.400000e+04   15000.000000       0.000000\n",
       "25%      2024.000000  1.060200e+05  106000.000000       0.000000\n",
       "50%      2024.000000  1.470000e+05  146206.000000       0.000000\n",
       "75%      2025.000000  1.990000e+05  198000.000000       0.000000\n",
       "max      2025.000000  3.040000e+07  800000.000000     100.000000"
      ]
     },
     "execution_count": 6,
     "metadata": {},
     "output_type": "execute_result"
    }
   ],
   "source": [
    "df.describe()"
   ]
  },
  {
   "cell_type": "code",
   "execution_count": 7,
   "id": "be03eb3d",
   "metadata": {},
   "outputs": [
    {
     "data": {
      "text/plain": [
       "(133349, 11)"
      ]
     },
     "execution_count": 7,
     "metadata": {},
     "output_type": "execute_result"
    }
   ],
   "source": [
    "df.shape"
   ]
  },
  {
   "cell_type": "code",
   "execution_count": 8,
   "id": "008bfe09",
   "metadata": {},
   "outputs": [
    {
     "name": "stdout",
     "output_type": "stream",
     "text": [
      "A base de dados possui 133349 linhas e 11 colunas\n"
     ]
    }
   ],
   "source": [
    "linhas, colunas = df.shape[0], df.shape[1]\n",
    "print(f\"A base de dados possui {linhas} linhas e {colunas} colunas\")"
   ]
  },
  {
   "cell_type": "code",
   "execution_count": 9,
   "id": "ae1974ac",
   "metadata": {},
   "outputs": [
    {
     "data": {
      "text/plain": [
       "Index(['work_year', 'experience_level', 'employment_type', 'job_title',\n",
       "       'salary', 'salary_currency', 'salary_in_usd', 'employee_residence',\n",
       "       'remote_ratio', 'company_location', 'company_size'],\n",
       "      dtype='object')"
      ]
     },
     "execution_count": 9,
     "metadata": {},
     "output_type": "execute_result"
    }
   ],
   "source": [
    "df.columns"
   ]
  },
  {
   "cell_type": "code",
   "execution_count": 10,
   "id": "80aa9684",
   "metadata": {},
   "outputs": [
    {
     "data": {
      "text/plain": [
       "Index(['ano', 'senioridade', 'contrato', 'cargo', 'salario', 'moeda', 'dolar',\n",
       "       'residencia', 'remoto', 'localizacao', 'empresa'],\n",
       "      dtype='object')"
      ]
     },
     "execution_count": 10,
     "metadata": {},
     "output_type": "execute_result"
    }
   ],
   "source": [
    "renomear_colunas = {\n",
    "    'work_year':'ano',\n",
    "    'experience_level':'senioridade',\n",
    "    'employment_type':'contrato',\n",
    "    'job_title':'cargo',\n",
    "    'salary':'salario',\n",
    "    'salary_currency':'moeda',\n",
    "    'salary_in_usd':'dolar',\n",
    "    'employee_residence':'residencia',\n",
    "    'remote_ratio':'remoto',\n",
    "    'company_location':'localizacao',\n",
    "    'company_size':'empresa'\n",
    "}\n",
    "df.rename(columns=renomear_colunas, inplace=True)\n",
    "df.columns"
   ]
  },
  {
   "cell_type": "code",
   "execution_count": 11,
   "id": "476e7953",
   "metadata": {},
   "outputs": [
    {
     "data": {
      "application/vnd.microsoft.datawrangler.viewer.v0+json": {
       "columns": [
        {
         "name": "senioridade",
         "rawType": "object",
         "type": "string"
        },
        {
         "name": "count",
         "rawType": "int64",
         "type": "integer"
        }
       ],
       "ref": "24c745ab-592f-4ab5-a254-8f547edbf69c",
       "rows": [
        [
         "SE",
         "77241"
        ],
        [
         "MI",
         "40465"
        ],
        [
         "EN",
         "12443"
        ],
        [
         "EX",
         "3200"
        ]
       ],
       "shape": {
        "columns": 1,
        "rows": 4
       }
      },
      "text/plain": [
       "senioridade\n",
       "SE    77241\n",
       "MI    40465\n",
       "EN    12443\n",
       "EX     3200\n",
       "Name: count, dtype: int64"
      ]
     },
     "execution_count": 11,
     "metadata": {},
     "output_type": "execute_result"
    }
   ],
   "source": [
    "df[\"senioridade\"].value_counts()"
   ]
  },
  {
   "cell_type": "code",
   "execution_count": 12,
   "id": "0b910364",
   "metadata": {},
   "outputs": [
    {
     "data": {
      "application/vnd.microsoft.datawrangler.viewer.v0+json": {
       "columns": [
        {
         "name": "contrato",
         "rawType": "object",
         "type": "string"
        },
        {
         "name": "count",
         "rawType": "int64",
         "type": "integer"
        }
       ],
       "ref": "6b00f043-93b2-4254-82f6-5a4964cb8060",
       "rows": [
        [
         "FT",
         "132563"
        ],
        [
         "CT",
         "394"
        ],
        [
         "PT",
         "376"
        ],
        [
         "FL",
         "16"
        ]
       ],
       "shape": {
        "columns": 1,
        "rows": 4
       }
      },
      "text/plain": [
       "contrato\n",
       "FT    132563\n",
       "CT       394\n",
       "PT       376\n",
       "FL        16\n",
       "Name: count, dtype: int64"
      ]
     },
     "execution_count": 12,
     "metadata": {},
     "output_type": "execute_result"
    }
   ],
   "source": [
    "df[\"contrato\"].value_counts()"
   ]
  },
  {
   "cell_type": "code",
   "execution_count": 13,
   "id": "a2f1dc69",
   "metadata": {},
   "outputs": [
    {
     "data": {
      "application/vnd.microsoft.datawrangler.viewer.v0+json": {
       "columns": [
        {
         "name": "remoto",
         "rawType": "int64",
         "type": "integer"
        },
        {
         "name": "count",
         "rawType": "int64",
         "type": "integer"
        }
       ],
       "ref": "4433070e-27d7-405c-8bce-85bff0770b2b",
       "rows": [
        [
         "0",
         "105312"
        ],
        [
         "100",
         "27718"
        ],
        [
         "50",
         "319"
        ]
       ],
       "shape": {
        "columns": 1,
        "rows": 3
       }
      },
      "text/plain": [
       "remoto\n",
       "0      105312\n",
       "100     27718\n",
       "50        319\n",
       "Name: count, dtype: int64"
      ]
     },
     "execution_count": 13,
     "metadata": {},
     "output_type": "execute_result"
    }
   ],
   "source": [
    "df[\"remoto\"].value_counts()"
   ]
  },
  {
   "cell_type": "code",
   "execution_count": 14,
   "id": "85e4f9ce",
   "metadata": {},
   "outputs": [
    {
     "data": {
      "application/vnd.microsoft.datawrangler.viewer.v0+json": {
       "columns": [
        {
         "name": "empresa",
         "rawType": "object",
         "type": "string"
        },
        {
         "name": "count",
         "rawType": "int64",
         "type": "integer"
        }
       ],
       "ref": "cb7cfe63-d39a-460f-9dce-aa3722e62c14",
       "rows": [
        [
         "M",
         "129561"
        ],
        [
         "L",
         "3574"
        ],
        [
         "S",
         "214"
        ]
       ],
       "shape": {
        "columns": 1,
        "rows": 3
       }
      },
      "text/plain": [
       "empresa\n",
       "M    129561\n",
       "L      3574\n",
       "S       214\n",
       "Name: count, dtype: int64"
      ]
     },
     "execution_count": 14,
     "metadata": {},
     "output_type": "execute_result"
    }
   ],
   "source": [
    "df[\"empresa\"].value_counts()"
   ]
  },
  {
   "cell_type": "code",
   "execution_count": 15,
   "id": "71a937b3",
   "metadata": {},
   "outputs": [
    {
     "data": {
      "application/vnd.microsoft.datawrangler.viewer.v0+json": {
       "columns": [
        {
         "name": "senioridade",
         "rawType": "object",
         "type": "string"
        },
        {
         "name": "count",
         "rawType": "int64",
         "type": "integer"
        }
       ],
       "ref": "a1ae6e7d-7a29-4dbc-b4e0-0f4c30055ab3",
       "rows": [
        [
         "Senior",
         "77241"
        ],
        [
         "Pleno",
         "40465"
        ],
        [
         "Junior",
         "12443"
        ],
        [
         "Executive",
         "3200"
        ]
       ],
       "shape": {
        "columns": 1,
        "rows": 4
       }
      },
      "text/plain": [
       "senioridade\n",
       "Senior       77241\n",
       "Pleno        40465\n",
       "Junior       12443\n",
       "Executive     3200\n",
       "Name: count, dtype: int64"
      ]
     },
     "execution_count": 15,
     "metadata": {},
     "output_type": "execute_result"
    }
   ],
   "source": [
    "senioridade = {\n",
    "    'SE': 'Senior' ,\n",
    "    'MI': 'Pleno' ,\n",
    "    'EN': 'Junior' ,\n",
    "    'EX': 'Executive'\n",
    "}\n",
    "\n",
    "df[\"senioridade\"] = df[\"senioridade\"].replace(senioridade)\n",
    "df[\"senioridade\"].value_counts()"
   ]
  },
  {
   "cell_type": "code",
   "execution_count": 16,
   "id": "fd8449e1",
   "metadata": {},
   "outputs": [
    {
     "data": {
      "application/vnd.microsoft.datawrangler.viewer.v0+json": {
       "columns": [
        {
         "name": "contrato",
         "rawType": "object",
         "type": "string"
        },
        {
         "name": "count",
         "rawType": "int64",
         "type": "integer"
        }
       ],
       "ref": "10ceee0f-8d02-4dad-94d2-c100a6d3c610",
       "rows": [
        [
         "Tempo Integral",
         "132563"
        ],
        [
         "Contrato",
         "394"
        ],
        [
         "Tempo Parcial",
         "376"
        ],
        [
         "Freelancer",
         "16"
        ]
       ],
       "shape": {
        "columns": 1,
        "rows": 4
       }
      },
      "text/plain": [
       "contrato\n",
       "Tempo Integral    132563\n",
       "Contrato             394\n",
       "Tempo Parcial        376\n",
       "Freelancer            16\n",
       "Name: count, dtype: int64"
      ]
     },
     "execution_count": 16,
     "metadata": {},
     "output_type": "execute_result"
    }
   ],
   "source": [
    "contrato = {\n",
    "    'FT': 'Tempo Integral',\n",
    "    'CT': 'Contrato',\n",
    "    'PT': 'Tempo Parcial',\n",
    "    'FL': 'Freelancer'\n",
    "}\n",
    "\n",
    "df[\"contrato\"] = df[\"contrato\"].map(contrato)\n",
    "df[\"contrato\"].value_counts()"
   ]
  },
  {
   "cell_type": "code",
   "execution_count": 17,
   "id": "78d421ba",
   "metadata": {},
   "outputs": [
    {
     "data": {
      "application/vnd.microsoft.datawrangler.viewer.v0+json": {
       "columns": [
        {
         "name": "empresa",
         "rawType": "object",
         "type": "string"
        },
        {
         "name": "count",
         "rawType": "int64",
         "type": "integer"
        }
       ],
       "ref": "ca4cdfd9-fe1f-4944-a099-a1e1fd1f3fab",
       "rows": [
        [
         "Média",
         "129561"
        ],
        [
         "Grande",
         "3574"
        ],
        [
         "Pequena",
         "214"
        ]
       ],
       "shape": {
        "columns": 1,
        "rows": 3
       }
      },
      "text/plain": [
       "empresa\n",
       "Média      129561\n",
       "Grande       3574\n",
       "Pequena       214\n",
       "Name: count, dtype: int64"
      ]
     },
     "execution_count": 17,
     "metadata": {},
     "output_type": "execute_result"
    }
   ],
   "source": [
    "empresa = {\n",
    "    'S': 'Pequena',\n",
    "    'M': 'Média',\n",
    "    'L': 'Grande'\n",
    "}\n",
    "\n",
    "df[\"empresa\"] = df[\"empresa\"].map(empresa)\n",
    "df[\"empresa\"].value_counts()"
   ]
  },
  {
   "cell_type": "code",
   "execution_count": 18,
   "id": "bda8dcc8",
   "metadata": {},
   "outputs": [
    {
     "data": {
      "application/vnd.microsoft.datawrangler.viewer.v0+json": {
       "columns": [
        {
         "name": "remoto",
         "rawType": "object",
         "type": "string"
        },
        {
         "name": "count",
         "rawType": "int64",
         "type": "integer"
        }
       ],
       "ref": "016c76d3-60f0-4392-82cb-261bd49d4e19",
       "rows": [
        [
         "Presencial",
         "105312"
        ],
        [
         "Remoto",
         "27718"
        ],
        [
         "Híbrido",
         "319"
        ]
       ],
       "shape": {
        "columns": 1,
        "rows": 3
       }
      },
      "text/plain": [
       "remoto\n",
       "Presencial    105312\n",
       "Remoto         27718\n",
       "Híbrido          319\n",
       "Name: count, dtype: int64"
      ]
     },
     "execution_count": 18,
     "metadata": {},
     "output_type": "execute_result"
    }
   ],
   "source": [
    "traducao_remoto = {\n",
    "    0: 'Presencial',\n",
    "    100: 'Remoto',\n",
    "    50: 'Híbrido'\n",
    "}\n",
    "\n",
    "df[\"remoto\"] = df[\"remoto\"].map(traducao_remoto)\n",
    "df[\"remoto\"].value_counts()"
   ]
  },
  {
   "cell_type": "code",
   "execution_count": 19,
   "id": "764309e6",
   "metadata": {},
   "outputs": [
    {
     "data": {
      "application/vnd.microsoft.datawrangler.viewer.v0+json": {
       "columns": [
        {
         "name": "index",
         "rawType": "int64",
         "type": "integer"
        },
        {
         "name": "ano",
         "rawType": "float64",
         "type": "float"
        },
        {
         "name": "senioridade",
         "rawType": "object",
         "type": "string"
        },
        {
         "name": "contrato",
         "rawType": "object",
         "type": "string"
        },
        {
         "name": "cargo",
         "rawType": "object",
         "type": "string"
        },
        {
         "name": "salario",
         "rawType": "int64",
         "type": "integer"
        },
        {
         "name": "moeda",
         "rawType": "object",
         "type": "string"
        },
        {
         "name": "dolar",
         "rawType": "int64",
         "type": "integer"
        },
        {
         "name": "residencia",
         "rawType": "object",
         "type": "string"
        },
        {
         "name": "remoto",
         "rawType": "object",
         "type": "string"
        },
        {
         "name": "localizacao",
         "rawType": "object",
         "type": "string"
        },
        {
         "name": "empresa",
         "rawType": "object",
         "type": "string"
        }
       ],
       "ref": "3b3e2556-7210-49e6-81a0-ddf48c7148b2",
       "rows": [
        [
         "0",
         "2025.0",
         "Senior",
         "Tempo Integral",
         "Solutions Engineer",
         "214000",
         "USD",
         "214000",
         "US",
         "Remoto",
         "US",
         "Média"
        ],
        [
         "1",
         "2025.0",
         "Senior",
         "Tempo Integral",
         "Solutions Engineer",
         "136000",
         "USD",
         "136000",
         "US",
         "Remoto",
         "US",
         "Média"
        ],
        [
         "2",
         "2025.0",
         "Pleno",
         "Tempo Integral",
         "Data Engineer",
         "158800",
         "USD",
         "158800",
         "AU",
         "Presencial",
         "AU",
         "Média"
        ],
        [
         "3",
         "2025.0",
         "Pleno",
         "Tempo Integral",
         "Data Engineer",
         "139200",
         "USD",
         "139200",
         "AU",
         "Presencial",
         "AU",
         "Média"
        ],
        [
         "4",
         "2025.0",
         "Junior",
         "Tempo Integral",
         "Data Engineer",
         "90000",
         "USD",
         "90000",
         "US",
         "Presencial",
         "US",
         "Média"
        ]
       ],
       "shape": {
        "columns": 11,
        "rows": 5
       }
      },
      "text/html": [
       "<div>\n",
       "<style scoped>\n",
       "    .dataframe tbody tr th:only-of-type {\n",
       "        vertical-align: middle;\n",
       "    }\n",
       "\n",
       "    .dataframe tbody tr th {\n",
       "        vertical-align: top;\n",
       "    }\n",
       "\n",
       "    .dataframe thead th {\n",
       "        text-align: right;\n",
       "    }\n",
       "</style>\n",
       "<table border=\"1\" class=\"dataframe\">\n",
       "  <thead>\n",
       "    <tr style=\"text-align: right;\">\n",
       "      <th></th>\n",
       "      <th>ano</th>\n",
       "      <th>senioridade</th>\n",
       "      <th>contrato</th>\n",
       "      <th>cargo</th>\n",
       "      <th>salario</th>\n",
       "      <th>moeda</th>\n",
       "      <th>dolar</th>\n",
       "      <th>residencia</th>\n",
       "      <th>remoto</th>\n",
       "      <th>localizacao</th>\n",
       "      <th>empresa</th>\n",
       "    </tr>\n",
       "  </thead>\n",
       "  <tbody>\n",
       "    <tr>\n",
       "      <th>0</th>\n",
       "      <td>2025.0</td>\n",
       "      <td>Senior</td>\n",
       "      <td>Tempo Integral</td>\n",
       "      <td>Solutions Engineer</td>\n",
       "      <td>214000</td>\n",
       "      <td>USD</td>\n",
       "      <td>214000</td>\n",
       "      <td>US</td>\n",
       "      <td>Remoto</td>\n",
       "      <td>US</td>\n",
       "      <td>Média</td>\n",
       "    </tr>\n",
       "    <tr>\n",
       "      <th>1</th>\n",
       "      <td>2025.0</td>\n",
       "      <td>Senior</td>\n",
       "      <td>Tempo Integral</td>\n",
       "      <td>Solutions Engineer</td>\n",
       "      <td>136000</td>\n",
       "      <td>USD</td>\n",
       "      <td>136000</td>\n",
       "      <td>US</td>\n",
       "      <td>Remoto</td>\n",
       "      <td>US</td>\n",
       "      <td>Média</td>\n",
       "    </tr>\n",
       "    <tr>\n",
       "      <th>2</th>\n",
       "      <td>2025.0</td>\n",
       "      <td>Pleno</td>\n",
       "      <td>Tempo Integral</td>\n",
       "      <td>Data Engineer</td>\n",
       "      <td>158800</td>\n",
       "      <td>USD</td>\n",
       "      <td>158800</td>\n",
       "      <td>AU</td>\n",
       "      <td>Presencial</td>\n",
       "      <td>AU</td>\n",
       "      <td>Média</td>\n",
       "    </tr>\n",
       "    <tr>\n",
       "      <th>3</th>\n",
       "      <td>2025.0</td>\n",
       "      <td>Pleno</td>\n",
       "      <td>Tempo Integral</td>\n",
       "      <td>Data Engineer</td>\n",
       "      <td>139200</td>\n",
       "      <td>USD</td>\n",
       "      <td>139200</td>\n",
       "      <td>AU</td>\n",
       "      <td>Presencial</td>\n",
       "      <td>AU</td>\n",
       "      <td>Média</td>\n",
       "    </tr>\n",
       "    <tr>\n",
       "      <th>4</th>\n",
       "      <td>2025.0</td>\n",
       "      <td>Junior</td>\n",
       "      <td>Tempo Integral</td>\n",
       "      <td>Data Engineer</td>\n",
       "      <td>90000</td>\n",
       "      <td>USD</td>\n",
       "      <td>90000</td>\n",
       "      <td>US</td>\n",
       "      <td>Presencial</td>\n",
       "      <td>US</td>\n",
       "      <td>Média</td>\n",
       "    </tr>\n",
       "  </tbody>\n",
       "</table>\n",
       "</div>"
      ],
      "text/plain": [
       "      ano senioridade        contrato               cargo  salario moeda  \\\n",
       "0  2025.0      Senior  Tempo Integral  Solutions Engineer   214000   USD   \n",
       "1  2025.0      Senior  Tempo Integral  Solutions Engineer   136000   USD   \n",
       "2  2025.0       Pleno  Tempo Integral       Data Engineer   158800   USD   \n",
       "3  2025.0       Pleno  Tempo Integral       Data Engineer   139200   USD   \n",
       "4  2025.0      Junior  Tempo Integral       Data Engineer    90000   USD   \n",
       "\n",
       "    dolar residencia      remoto localizacao empresa  \n",
       "0  214000         US      Remoto          US   Média  \n",
       "1  136000         US      Remoto          US   Média  \n",
       "2  158800         AU  Presencial          AU   Média  \n",
       "3  139200         AU  Presencial          AU   Média  \n",
       "4   90000         US  Presencial          US   Média  "
      ]
     },
     "execution_count": 19,
     "metadata": {},
     "output_type": "execute_result"
    }
   ],
   "source": [
    "df.head()"
   ]
  },
  {
   "cell_type": "code",
   "execution_count": 20,
   "id": "3dce6850",
   "metadata": {},
   "outputs": [
    {
     "data": {
      "application/vnd.microsoft.datawrangler.viewer.v0+json": {
       "columns": [
        {
         "name": "index",
         "rawType": "object",
         "type": "string"
        },
        {
         "name": "senioridade",
         "rawType": "object",
         "type": "unknown"
        },
        {
         "name": "contrato",
         "rawType": "object",
         "type": "unknown"
        },
        {
         "name": "cargo",
         "rawType": "object",
         "type": "unknown"
        },
        {
         "name": "moeda",
         "rawType": "object",
         "type": "unknown"
        },
        {
         "name": "residencia",
         "rawType": "object",
         "type": "unknown"
        },
        {
         "name": "remoto",
         "rawType": "object",
         "type": "unknown"
        },
        {
         "name": "localizacao",
         "rawType": "object",
         "type": "unknown"
        },
        {
         "name": "empresa",
         "rawType": "object",
         "type": "unknown"
        }
       ],
       "ref": "947ebef2-4807-4360-9344-ff64b66c0a6c",
       "rows": [
        [
         "count",
         "133349",
         "133349",
         "133349",
         "133349",
         "133349",
         "133349",
         "133349",
         "133349"
        ],
        [
         "unique",
         "4",
         "4",
         "390",
         "26",
         "102",
         "3",
         "95",
         "3"
        ],
        [
         "top",
         "Senior",
         "Tempo Integral",
         "Data Scientist",
         "USD",
         "US",
         "Presencial",
         "US",
         "Média"
        ],
        [
         "freq",
         "77241",
         "132563",
         "17314",
         "126140",
         "119579",
         "105312",
         "119641",
         "129561"
        ]
       ],
       "shape": {
        "columns": 8,
        "rows": 4
       }
      },
      "text/html": [
       "<div>\n",
       "<style scoped>\n",
       "    .dataframe tbody tr th:only-of-type {\n",
       "        vertical-align: middle;\n",
       "    }\n",
       "\n",
       "    .dataframe tbody tr th {\n",
       "        vertical-align: top;\n",
       "    }\n",
       "\n",
       "    .dataframe thead th {\n",
       "        text-align: right;\n",
       "    }\n",
       "</style>\n",
       "<table border=\"1\" class=\"dataframe\">\n",
       "  <thead>\n",
       "    <tr style=\"text-align: right;\">\n",
       "      <th></th>\n",
       "      <th>senioridade</th>\n",
       "      <th>contrato</th>\n",
       "      <th>cargo</th>\n",
       "      <th>moeda</th>\n",
       "      <th>residencia</th>\n",
       "      <th>remoto</th>\n",
       "      <th>localizacao</th>\n",
       "      <th>empresa</th>\n",
       "    </tr>\n",
       "  </thead>\n",
       "  <tbody>\n",
       "    <tr>\n",
       "      <th>count</th>\n",
       "      <td>133349</td>\n",
       "      <td>133349</td>\n",
       "      <td>133349</td>\n",
       "      <td>133349</td>\n",
       "      <td>133349</td>\n",
       "      <td>133349</td>\n",
       "      <td>133349</td>\n",
       "      <td>133349</td>\n",
       "    </tr>\n",
       "    <tr>\n",
       "      <th>unique</th>\n",
       "      <td>4</td>\n",
       "      <td>4</td>\n",
       "      <td>390</td>\n",
       "      <td>26</td>\n",
       "      <td>102</td>\n",
       "      <td>3</td>\n",
       "      <td>95</td>\n",
       "      <td>3</td>\n",
       "    </tr>\n",
       "    <tr>\n",
       "      <th>top</th>\n",
       "      <td>Senior</td>\n",
       "      <td>Tempo Integral</td>\n",
       "      <td>Data Scientist</td>\n",
       "      <td>USD</td>\n",
       "      <td>US</td>\n",
       "      <td>Presencial</td>\n",
       "      <td>US</td>\n",
       "      <td>Média</td>\n",
       "    </tr>\n",
       "    <tr>\n",
       "      <th>freq</th>\n",
       "      <td>77241</td>\n",
       "      <td>132563</td>\n",
       "      <td>17314</td>\n",
       "      <td>126140</td>\n",
       "      <td>119579</td>\n",
       "      <td>105312</td>\n",
       "      <td>119641</td>\n",
       "      <td>129561</td>\n",
       "    </tr>\n",
       "  </tbody>\n",
       "</table>\n",
       "</div>"
      ],
      "text/plain": [
       "       senioridade        contrato           cargo   moeda residencia  \\\n",
       "count       133349          133349          133349  133349     133349   \n",
       "unique           4               4             390      26        102   \n",
       "top         Senior  Tempo Integral  Data Scientist     USD         US   \n",
       "freq         77241          132563           17314  126140     119579   \n",
       "\n",
       "            remoto localizacao empresa  \n",
       "count       133349      133349  133349  \n",
       "unique           3          95       3  \n",
       "top     Presencial          US   Média  \n",
       "freq        105312      119641  129561  "
      ]
     },
     "execution_count": 20,
     "metadata": {},
     "output_type": "execute_result"
    }
   ],
   "source": [
    "df.describe(include='object')"
   ]
  },
  {
   "cell_type": "code",
   "execution_count": 21,
   "id": "29dd53d1",
   "metadata": {},
   "outputs": [
    {
     "data": {
      "application/vnd.microsoft.datawrangler.viewer.v0+json": {
       "columns": [
        {
         "name": "index",
         "rawType": "object",
         "type": "string"
        },
        {
         "name": "ano",
         "rawType": "float64",
         "type": "float"
        },
        {
         "name": "salario",
         "rawType": "float64",
         "type": "float"
        },
        {
         "name": "dolar",
         "rawType": "float64",
         "type": "float"
        }
       ],
       "ref": "72cc6e99-8425-4a44-9797-a6044cd42b50",
       "rows": [
        [
         "count",
         "133339.0",
         "133349.0",
         "133349.0"
        ],
        [
         "mean",
         "2024.3587697522855",
         "163283.32258959571",
         "157617.27209802848"
        ],
        [
         "std",
         "0.6806266087848142",
         "217386.02157404198",
         "74288.3630973623"
        ],
        [
         "min",
         "2020.0",
         "14000.0",
         "15000.0"
        ],
        [
         "25%",
         "2024.0",
         "106020.0",
         "106000.0"
        ],
        [
         "50%",
         "2024.0",
         "147000.0",
         "146206.0"
        ],
        [
         "75%",
         "2025.0",
         "199000.0",
         "198000.0"
        ],
        [
         "max",
         "2025.0",
         "30400000.0",
         "800000.0"
        ]
       ],
       "shape": {
        "columns": 3,
        "rows": 8
       }
      },
      "text/html": [
       "<div>\n",
       "<style scoped>\n",
       "    .dataframe tbody tr th:only-of-type {\n",
       "        vertical-align: middle;\n",
       "    }\n",
       "\n",
       "    .dataframe tbody tr th {\n",
       "        vertical-align: top;\n",
       "    }\n",
       "\n",
       "    .dataframe thead th {\n",
       "        text-align: right;\n",
       "    }\n",
       "</style>\n",
       "<table border=\"1\" class=\"dataframe\">\n",
       "  <thead>\n",
       "    <tr style=\"text-align: right;\">\n",
       "      <th></th>\n",
       "      <th>ano</th>\n",
       "      <th>salario</th>\n",
       "      <th>dolar</th>\n",
       "    </tr>\n",
       "  </thead>\n",
       "  <tbody>\n",
       "    <tr>\n",
       "      <th>count</th>\n",
       "      <td>133339.000000</td>\n",
       "      <td>1.333490e+05</td>\n",
       "      <td>133349.000000</td>\n",
       "    </tr>\n",
       "    <tr>\n",
       "      <th>mean</th>\n",
       "      <td>2024.358770</td>\n",
       "      <td>1.632833e+05</td>\n",
       "      <td>157617.272098</td>\n",
       "    </tr>\n",
       "    <tr>\n",
       "      <th>std</th>\n",
       "      <td>0.680627</td>\n",
       "      <td>2.173860e+05</td>\n",
       "      <td>74288.363097</td>\n",
       "    </tr>\n",
       "    <tr>\n",
       "      <th>min</th>\n",
       "      <td>2020.000000</td>\n",
       "      <td>1.400000e+04</td>\n",
       "      <td>15000.000000</td>\n",
       "    </tr>\n",
       "    <tr>\n",
       "      <th>25%</th>\n",
       "      <td>2024.000000</td>\n",
       "      <td>1.060200e+05</td>\n",
       "      <td>106000.000000</td>\n",
       "    </tr>\n",
       "    <tr>\n",
       "      <th>50%</th>\n",
       "      <td>2024.000000</td>\n",
       "      <td>1.470000e+05</td>\n",
       "      <td>146206.000000</td>\n",
       "    </tr>\n",
       "    <tr>\n",
       "      <th>75%</th>\n",
       "      <td>2025.000000</td>\n",
       "      <td>1.990000e+05</td>\n",
       "      <td>198000.000000</td>\n",
       "    </tr>\n",
       "    <tr>\n",
       "      <th>max</th>\n",
       "      <td>2025.000000</td>\n",
       "      <td>3.040000e+07</td>\n",
       "      <td>800000.000000</td>\n",
       "    </tr>\n",
       "  </tbody>\n",
       "</table>\n",
       "</div>"
      ],
      "text/plain": [
       "                 ano       salario          dolar\n",
       "count  133339.000000  1.333490e+05  133349.000000\n",
       "mean     2024.358770  1.632833e+05  157617.272098\n",
       "std         0.680627  2.173860e+05   74288.363097\n",
       "min      2020.000000  1.400000e+04   15000.000000\n",
       "25%      2024.000000  1.060200e+05  106000.000000\n",
       "50%      2024.000000  1.470000e+05  146206.000000\n",
       "75%      2025.000000  1.990000e+05  198000.000000\n",
       "max      2025.000000  3.040000e+07  800000.000000"
      ]
     },
     "execution_count": 21,
     "metadata": {},
     "output_type": "execute_result"
    }
   ],
   "source": [
    "df.describe()"
   ]
  },
  {
   "cell_type": "markdown",
   "id": "f802e601",
   "metadata": {},
   "source": [
    "### Aula 2 - Preparação e limpeza dos Dados"
   ]
  },
  {
   "cell_type": "code",
   "execution_count": 22,
   "id": "67299e20",
   "metadata": {},
   "outputs": [
    {
     "data": {
      "application/vnd.microsoft.datawrangler.viewer.v0+json": {
       "columns": [
        {
         "name": "index",
         "rawType": "int64",
         "type": "integer"
        },
        {
         "name": "ano",
         "rawType": "bool",
         "type": "boolean"
        },
        {
         "name": "senioridade",
         "rawType": "bool",
         "type": "boolean"
        },
        {
         "name": "contrato",
         "rawType": "bool",
         "type": "boolean"
        },
        {
         "name": "cargo",
         "rawType": "bool",
         "type": "boolean"
        },
        {
         "name": "salario",
         "rawType": "bool",
         "type": "boolean"
        },
        {
         "name": "moeda",
         "rawType": "bool",
         "type": "boolean"
        },
        {
         "name": "dolar",
         "rawType": "bool",
         "type": "boolean"
        },
        {
         "name": "residencia",
         "rawType": "bool",
         "type": "boolean"
        },
        {
         "name": "remoto",
         "rawType": "bool",
         "type": "boolean"
        },
        {
         "name": "localizacao",
         "rawType": "bool",
         "type": "boolean"
        },
        {
         "name": "empresa",
         "rawType": "bool",
         "type": "boolean"
        }
       ],
       "ref": "df1f6245-8c76-4397-99e2-cb75e3208799",
       "rows": [
        [
         "0",
         "False",
         "False",
         "False",
         "False",
         "False",
         "False",
         "False",
         "False",
         "False",
         "False",
         "False"
        ],
        [
         "1",
         "False",
         "False",
         "False",
         "False",
         "False",
         "False",
         "False",
         "False",
         "False",
         "False",
         "False"
        ],
        [
         "2",
         "False",
         "False",
         "False",
         "False",
         "False",
         "False",
         "False",
         "False",
         "False",
         "False",
         "False"
        ],
        [
         "3",
         "False",
         "False",
         "False",
         "False",
         "False",
         "False",
         "False",
         "False",
         "False",
         "False",
         "False"
        ],
        [
         "4",
         "False",
         "False",
         "False",
         "False",
         "False",
         "False",
         "False",
         "False",
         "False",
         "False",
         "False"
        ],
        [
         "5",
         "False",
         "False",
         "False",
         "False",
         "False",
         "False",
         "False",
         "False",
         "False",
         "False",
         "False"
        ],
        [
         "6",
         "False",
         "False",
         "False",
         "False",
         "False",
         "False",
         "False",
         "False",
         "False",
         "False",
         "False"
        ],
        [
         "7",
         "False",
         "False",
         "False",
         "False",
         "False",
         "False",
         "False",
         "False",
         "False",
         "False",
         "False"
        ],
        [
         "8",
         "False",
         "False",
         "False",
         "False",
         "False",
         "False",
         "False",
         "False",
         "False",
         "False",
         "False"
        ],
        [
         "9",
         "False",
         "False",
         "False",
         "False",
         "False",
         "False",
         "False",
         "False",
         "False",
         "False",
         "False"
        ],
        [
         "10",
         "False",
         "False",
         "False",
         "False",
         "False",
         "False",
         "False",
         "False",
         "False",
         "False",
         "False"
        ],
        [
         "11",
         "False",
         "False",
         "False",
         "False",
         "False",
         "False",
         "False",
         "False",
         "False",
         "False",
         "False"
        ],
        [
         "12",
         "False",
         "False",
         "False",
         "False",
         "False",
         "False",
         "False",
         "False",
         "False",
         "False",
         "False"
        ],
        [
         "13",
         "False",
         "False",
         "False",
         "False",
         "False",
         "False",
         "False",
         "False",
         "False",
         "False",
         "False"
        ],
        [
         "14",
         "False",
         "False",
         "False",
         "False",
         "False",
         "False",
         "False",
         "False",
         "False",
         "False",
         "False"
        ],
        [
         "15",
         "False",
         "False",
         "False",
         "False",
         "False",
         "False",
         "False",
         "False",
         "False",
         "False",
         "False"
        ],
        [
         "16",
         "False",
         "False",
         "False",
         "False",
         "False",
         "False",
         "False",
         "False",
         "False",
         "False",
         "False"
        ],
        [
         "17",
         "False",
         "False",
         "False",
         "False",
         "False",
         "False",
         "False",
         "False",
         "False",
         "False",
         "False"
        ],
        [
         "18",
         "False",
         "False",
         "False",
         "False",
         "False",
         "False",
         "False",
         "False",
         "False",
         "False",
         "False"
        ],
        [
         "19",
         "False",
         "False",
         "False",
         "False",
         "False",
         "False",
         "False",
         "False",
         "False",
         "False",
         "False"
        ],
        [
         "20",
         "False",
         "False",
         "False",
         "False",
         "False",
         "False",
         "False",
         "False",
         "False",
         "False",
         "False"
        ],
        [
         "21",
         "False",
         "False",
         "False",
         "False",
         "False",
         "False",
         "False",
         "False",
         "False",
         "False",
         "False"
        ],
        [
         "22",
         "False",
         "False",
         "False",
         "False",
         "False",
         "False",
         "False",
         "False",
         "False",
         "False",
         "False"
        ],
        [
         "23",
         "False",
         "False",
         "False",
         "False",
         "False",
         "False",
         "False",
         "False",
         "False",
         "False",
         "False"
        ],
        [
         "24",
         "False",
         "False",
         "False",
         "False",
         "False",
         "False",
         "False",
         "False",
         "False",
         "False",
         "False"
        ],
        [
         "25",
         "False",
         "False",
         "False",
         "False",
         "False",
         "False",
         "False",
         "False",
         "False",
         "False",
         "False"
        ],
        [
         "26",
         "False",
         "False",
         "False",
         "False",
         "False",
         "False",
         "False",
         "False",
         "False",
         "False",
         "False"
        ],
        [
         "27",
         "False",
         "False",
         "False",
         "False",
         "False",
         "False",
         "False",
         "False",
         "False",
         "False",
         "False"
        ],
        [
         "28",
         "False",
         "False",
         "False",
         "False",
         "False",
         "False",
         "False",
         "False",
         "False",
         "False",
         "False"
        ],
        [
         "29",
         "False",
         "False",
         "False",
         "False",
         "False",
         "False",
         "False",
         "False",
         "False",
         "False",
         "False"
        ],
        [
         "30",
         "False",
         "False",
         "False",
         "False",
         "False",
         "False",
         "False",
         "False",
         "False",
         "False",
         "False"
        ],
        [
         "31",
         "False",
         "False",
         "False",
         "False",
         "False",
         "False",
         "False",
         "False",
         "False",
         "False",
         "False"
        ],
        [
         "32",
         "False",
         "False",
         "False",
         "False",
         "False",
         "False",
         "False",
         "False",
         "False",
         "False",
         "False"
        ],
        [
         "33",
         "False",
         "False",
         "False",
         "False",
         "False",
         "False",
         "False",
         "False",
         "False",
         "False",
         "False"
        ],
        [
         "34",
         "False",
         "False",
         "False",
         "False",
         "False",
         "False",
         "False",
         "False",
         "False",
         "False",
         "False"
        ],
        [
         "35",
         "False",
         "False",
         "False",
         "False",
         "False",
         "False",
         "False",
         "False",
         "False",
         "False",
         "False"
        ],
        [
         "36",
         "False",
         "False",
         "False",
         "False",
         "False",
         "False",
         "False",
         "False",
         "False",
         "False",
         "False"
        ],
        [
         "37",
         "False",
         "False",
         "False",
         "False",
         "False",
         "False",
         "False",
         "False",
         "False",
         "False",
         "False"
        ],
        [
         "38",
         "False",
         "False",
         "False",
         "False",
         "False",
         "False",
         "False",
         "False",
         "False",
         "False",
         "False"
        ],
        [
         "39",
         "False",
         "False",
         "False",
         "False",
         "False",
         "False",
         "False",
         "False",
         "False",
         "False",
         "False"
        ],
        [
         "40",
         "False",
         "False",
         "False",
         "False",
         "False",
         "False",
         "False",
         "False",
         "False",
         "False",
         "False"
        ],
        [
         "41",
         "False",
         "False",
         "False",
         "False",
         "False",
         "False",
         "False",
         "False",
         "False",
         "False",
         "False"
        ],
        [
         "42",
         "False",
         "False",
         "False",
         "False",
         "False",
         "False",
         "False",
         "False",
         "False",
         "False",
         "False"
        ],
        [
         "43",
         "False",
         "False",
         "False",
         "False",
         "False",
         "False",
         "False",
         "False",
         "False",
         "False",
         "False"
        ],
        [
         "44",
         "False",
         "False",
         "False",
         "False",
         "False",
         "False",
         "False",
         "False",
         "False",
         "False",
         "False"
        ],
        [
         "45",
         "False",
         "False",
         "False",
         "False",
         "False",
         "False",
         "False",
         "False",
         "False",
         "False",
         "False"
        ],
        [
         "46",
         "False",
         "False",
         "False",
         "False",
         "False",
         "False",
         "False",
         "False",
         "False",
         "False",
         "False"
        ],
        [
         "47",
         "False",
         "False",
         "False",
         "False",
         "False",
         "False",
         "False",
         "False",
         "False",
         "False",
         "False"
        ],
        [
         "48",
         "False",
         "False",
         "False",
         "False",
         "False",
         "False",
         "False",
         "False",
         "False",
         "False",
         "False"
        ],
        [
         "49",
         "False",
         "False",
         "False",
         "False",
         "False",
         "False",
         "False",
         "False",
         "False",
         "False",
         "False"
        ]
       ],
       "shape": {
        "columns": 11,
        "rows": 133349
       }
      },
      "text/html": [
       "<div>\n",
       "<style scoped>\n",
       "    .dataframe tbody tr th:only-of-type {\n",
       "        vertical-align: middle;\n",
       "    }\n",
       "\n",
       "    .dataframe tbody tr th {\n",
       "        vertical-align: top;\n",
       "    }\n",
       "\n",
       "    .dataframe thead th {\n",
       "        text-align: right;\n",
       "    }\n",
       "</style>\n",
       "<table border=\"1\" class=\"dataframe\">\n",
       "  <thead>\n",
       "    <tr style=\"text-align: right;\">\n",
       "      <th></th>\n",
       "      <th>ano</th>\n",
       "      <th>senioridade</th>\n",
       "      <th>contrato</th>\n",
       "      <th>cargo</th>\n",
       "      <th>salario</th>\n",
       "      <th>moeda</th>\n",
       "      <th>dolar</th>\n",
       "      <th>residencia</th>\n",
       "      <th>remoto</th>\n",
       "      <th>localizacao</th>\n",
       "      <th>empresa</th>\n",
       "    </tr>\n",
       "  </thead>\n",
       "  <tbody>\n",
       "    <tr>\n",
       "      <th>0</th>\n",
       "      <td>False</td>\n",
       "      <td>False</td>\n",
       "      <td>False</td>\n",
       "      <td>False</td>\n",
       "      <td>False</td>\n",
       "      <td>False</td>\n",
       "      <td>False</td>\n",
       "      <td>False</td>\n",
       "      <td>False</td>\n",
       "      <td>False</td>\n",
       "      <td>False</td>\n",
       "    </tr>\n",
       "    <tr>\n",
       "      <th>1</th>\n",
       "      <td>False</td>\n",
       "      <td>False</td>\n",
       "      <td>False</td>\n",
       "      <td>False</td>\n",
       "      <td>False</td>\n",
       "      <td>False</td>\n",
       "      <td>False</td>\n",
       "      <td>False</td>\n",
       "      <td>False</td>\n",
       "      <td>False</td>\n",
       "      <td>False</td>\n",
       "    </tr>\n",
       "    <tr>\n",
       "      <th>2</th>\n",
       "      <td>False</td>\n",
       "      <td>False</td>\n",
       "      <td>False</td>\n",
       "      <td>False</td>\n",
       "      <td>False</td>\n",
       "      <td>False</td>\n",
       "      <td>False</td>\n",
       "      <td>False</td>\n",
       "      <td>False</td>\n",
       "      <td>False</td>\n",
       "      <td>False</td>\n",
       "    </tr>\n",
       "    <tr>\n",
       "      <th>3</th>\n",
       "      <td>False</td>\n",
       "      <td>False</td>\n",
       "      <td>False</td>\n",
       "      <td>False</td>\n",
       "      <td>False</td>\n",
       "      <td>False</td>\n",
       "      <td>False</td>\n",
       "      <td>False</td>\n",
       "      <td>False</td>\n",
       "      <td>False</td>\n",
       "      <td>False</td>\n",
       "    </tr>\n",
       "    <tr>\n",
       "      <th>4</th>\n",
       "      <td>False</td>\n",
       "      <td>False</td>\n",
       "      <td>False</td>\n",
       "      <td>False</td>\n",
       "      <td>False</td>\n",
       "      <td>False</td>\n",
       "      <td>False</td>\n",
       "      <td>False</td>\n",
       "      <td>False</td>\n",
       "      <td>False</td>\n",
       "      <td>False</td>\n",
       "    </tr>\n",
       "    <tr>\n",
       "      <th>...</th>\n",
       "      <td>...</td>\n",
       "      <td>...</td>\n",
       "      <td>...</td>\n",
       "      <td>...</td>\n",
       "      <td>...</td>\n",
       "      <td>...</td>\n",
       "      <td>...</td>\n",
       "      <td>...</td>\n",
       "      <td>...</td>\n",
       "      <td>...</td>\n",
       "      <td>...</td>\n",
       "    </tr>\n",
       "    <tr>\n",
       "      <th>133344</th>\n",
       "      <td>False</td>\n",
       "      <td>False</td>\n",
       "      <td>False</td>\n",
       "      <td>False</td>\n",
       "      <td>False</td>\n",
       "      <td>False</td>\n",
       "      <td>False</td>\n",
       "      <td>False</td>\n",
       "      <td>False</td>\n",
       "      <td>False</td>\n",
       "      <td>False</td>\n",
       "    </tr>\n",
       "    <tr>\n",
       "      <th>133345</th>\n",
       "      <td>False</td>\n",
       "      <td>False</td>\n",
       "      <td>False</td>\n",
       "      <td>False</td>\n",
       "      <td>False</td>\n",
       "      <td>False</td>\n",
       "      <td>False</td>\n",
       "      <td>False</td>\n",
       "      <td>False</td>\n",
       "      <td>False</td>\n",
       "      <td>False</td>\n",
       "    </tr>\n",
       "    <tr>\n",
       "      <th>133346</th>\n",
       "      <td>False</td>\n",
       "      <td>False</td>\n",
       "      <td>False</td>\n",
       "      <td>False</td>\n",
       "      <td>False</td>\n",
       "      <td>False</td>\n",
       "      <td>False</td>\n",
       "      <td>False</td>\n",
       "      <td>False</td>\n",
       "      <td>False</td>\n",
       "      <td>False</td>\n",
       "    </tr>\n",
       "    <tr>\n",
       "      <th>133347</th>\n",
       "      <td>False</td>\n",
       "      <td>False</td>\n",
       "      <td>False</td>\n",
       "      <td>False</td>\n",
       "      <td>False</td>\n",
       "      <td>False</td>\n",
       "      <td>False</td>\n",
       "      <td>False</td>\n",
       "      <td>False</td>\n",
       "      <td>False</td>\n",
       "      <td>False</td>\n",
       "    </tr>\n",
       "    <tr>\n",
       "      <th>133348</th>\n",
       "      <td>False</td>\n",
       "      <td>False</td>\n",
       "      <td>False</td>\n",
       "      <td>False</td>\n",
       "      <td>False</td>\n",
       "      <td>False</td>\n",
       "      <td>False</td>\n",
       "      <td>False</td>\n",
       "      <td>False</td>\n",
       "      <td>False</td>\n",
       "      <td>False</td>\n",
       "    </tr>\n",
       "  </tbody>\n",
       "</table>\n",
       "<p>133349 rows × 11 columns</p>\n",
       "</div>"
      ],
      "text/plain": [
       "          ano  senioridade  contrato  cargo  salario  moeda  dolar  \\\n",
       "0       False        False     False  False    False  False  False   \n",
       "1       False        False     False  False    False  False  False   \n",
       "2       False        False     False  False    False  False  False   \n",
       "3       False        False     False  False    False  False  False   \n",
       "4       False        False     False  False    False  False  False   \n",
       "...       ...          ...       ...    ...      ...    ...    ...   \n",
       "133344  False        False     False  False    False  False  False   \n",
       "133345  False        False     False  False    False  False  False   \n",
       "133346  False        False     False  False    False  False  False   \n",
       "133347  False        False     False  False    False  False  False   \n",
       "133348  False        False     False  False    False  False  False   \n",
       "\n",
       "        residencia  remoto  localizacao  empresa  \n",
       "0            False   False        False    False  \n",
       "1            False   False        False    False  \n",
       "2            False   False        False    False  \n",
       "3            False   False        False    False  \n",
       "4            False   False        False    False  \n",
       "...            ...     ...          ...      ...  \n",
       "133344       False   False        False    False  \n",
       "133345       False   False        False    False  \n",
       "133346       False   False        False    False  \n",
       "133347       False   False        False    False  \n",
       "133348       False   False        False    False  \n",
       "\n",
       "[133349 rows x 11 columns]"
      ]
     },
     "execution_count": 22,
     "metadata": {},
     "output_type": "execute_result"
    }
   ],
   "source": [
    "# Analisar valores nulos/ausentes\n",
    "df.isnull()"
   ]
  },
  {
   "cell_type": "code",
   "execution_count": 23,
   "id": "928a444b",
   "metadata": {},
   "outputs": [
    {
     "data": {
      "application/vnd.microsoft.datawrangler.viewer.v0+json": {
       "columns": [
        {
         "name": "index",
         "rawType": "int64",
         "type": "integer"
        },
        {
         "name": "ano",
         "rawType": "float64",
         "type": "float"
        },
        {
         "name": "senioridade",
         "rawType": "object",
         "type": "string"
        },
        {
         "name": "contrato",
         "rawType": "object",
         "type": "string"
        },
        {
         "name": "cargo",
         "rawType": "object",
         "type": "string"
        },
        {
         "name": "salario",
         "rawType": "int64",
         "type": "integer"
        },
        {
         "name": "moeda",
         "rawType": "object",
         "type": "string"
        },
        {
         "name": "dolar",
         "rawType": "int64",
         "type": "integer"
        },
        {
         "name": "residencia",
         "rawType": "object",
         "type": "string"
        },
        {
         "name": "remoto",
         "rawType": "object",
         "type": "string"
        },
        {
         "name": "localizacao",
         "rawType": "object",
         "type": "string"
        },
        {
         "name": "empresa",
         "rawType": "object",
         "type": "string"
        }
       ],
       "ref": "0c060628-5568-4f24-a3c3-e9a005cd24a2",
       "rows": [
        [
         "0",
         "2025.0",
         "Senior",
         "Tempo Integral",
         "Solutions Engineer",
         "214000",
         "USD",
         "214000",
         "US",
         "Remoto",
         "US",
         "Média"
        ],
        [
         "1",
         "2025.0",
         "Senior",
         "Tempo Integral",
         "Solutions Engineer",
         "136000",
         "USD",
         "136000",
         "US",
         "Remoto",
         "US",
         "Média"
        ],
        [
         "2",
         "2025.0",
         "Pleno",
         "Tempo Integral",
         "Data Engineer",
         "158800",
         "USD",
         "158800",
         "AU",
         "Presencial",
         "AU",
         "Média"
        ],
        [
         "3",
         "2025.0",
         "Pleno",
         "Tempo Integral",
         "Data Engineer",
         "139200",
         "USD",
         "139200",
         "AU",
         "Presencial",
         "AU",
         "Média"
        ],
        [
         "4",
         "2025.0",
         "Junior",
         "Tempo Integral",
         "Data Engineer",
         "90000",
         "USD",
         "90000",
         "US",
         "Presencial",
         "US",
         "Média"
        ]
       ],
       "shape": {
        "columns": 11,
        "rows": 5
       }
      },
      "text/html": [
       "<div>\n",
       "<style scoped>\n",
       "    .dataframe tbody tr th:only-of-type {\n",
       "        vertical-align: middle;\n",
       "    }\n",
       "\n",
       "    .dataframe tbody tr th {\n",
       "        vertical-align: top;\n",
       "    }\n",
       "\n",
       "    .dataframe thead th {\n",
       "        text-align: right;\n",
       "    }\n",
       "</style>\n",
       "<table border=\"1\" class=\"dataframe\">\n",
       "  <thead>\n",
       "    <tr style=\"text-align: right;\">\n",
       "      <th></th>\n",
       "      <th>ano</th>\n",
       "      <th>senioridade</th>\n",
       "      <th>contrato</th>\n",
       "      <th>cargo</th>\n",
       "      <th>salario</th>\n",
       "      <th>moeda</th>\n",
       "      <th>dolar</th>\n",
       "      <th>residencia</th>\n",
       "      <th>remoto</th>\n",
       "      <th>localizacao</th>\n",
       "      <th>empresa</th>\n",
       "    </tr>\n",
       "  </thead>\n",
       "  <tbody>\n",
       "    <tr>\n",
       "      <th>0</th>\n",
       "      <td>2025.0</td>\n",
       "      <td>Senior</td>\n",
       "      <td>Tempo Integral</td>\n",
       "      <td>Solutions Engineer</td>\n",
       "      <td>214000</td>\n",
       "      <td>USD</td>\n",
       "      <td>214000</td>\n",
       "      <td>US</td>\n",
       "      <td>Remoto</td>\n",
       "      <td>US</td>\n",
       "      <td>Média</td>\n",
       "    </tr>\n",
       "    <tr>\n",
       "      <th>1</th>\n",
       "      <td>2025.0</td>\n",
       "      <td>Senior</td>\n",
       "      <td>Tempo Integral</td>\n",
       "      <td>Solutions Engineer</td>\n",
       "      <td>136000</td>\n",
       "      <td>USD</td>\n",
       "      <td>136000</td>\n",
       "      <td>US</td>\n",
       "      <td>Remoto</td>\n",
       "      <td>US</td>\n",
       "      <td>Média</td>\n",
       "    </tr>\n",
       "    <tr>\n",
       "      <th>2</th>\n",
       "      <td>2025.0</td>\n",
       "      <td>Pleno</td>\n",
       "      <td>Tempo Integral</td>\n",
       "      <td>Data Engineer</td>\n",
       "      <td>158800</td>\n",
       "      <td>USD</td>\n",
       "      <td>158800</td>\n",
       "      <td>AU</td>\n",
       "      <td>Presencial</td>\n",
       "      <td>AU</td>\n",
       "      <td>Média</td>\n",
       "    </tr>\n",
       "    <tr>\n",
       "      <th>3</th>\n",
       "      <td>2025.0</td>\n",
       "      <td>Pleno</td>\n",
       "      <td>Tempo Integral</td>\n",
       "      <td>Data Engineer</td>\n",
       "      <td>139200</td>\n",
       "      <td>USD</td>\n",
       "      <td>139200</td>\n",
       "      <td>AU</td>\n",
       "      <td>Presencial</td>\n",
       "      <td>AU</td>\n",
       "      <td>Média</td>\n",
       "    </tr>\n",
       "    <tr>\n",
       "      <th>4</th>\n",
       "      <td>2025.0</td>\n",
       "      <td>Junior</td>\n",
       "      <td>Tempo Integral</td>\n",
       "      <td>Data Engineer</td>\n",
       "      <td>90000</td>\n",
       "      <td>USD</td>\n",
       "      <td>90000</td>\n",
       "      <td>US</td>\n",
       "      <td>Presencial</td>\n",
       "      <td>US</td>\n",
       "      <td>Média</td>\n",
       "    </tr>\n",
       "  </tbody>\n",
       "</table>\n",
       "</div>"
      ],
      "text/plain": [
       "      ano senioridade        contrato               cargo  salario moeda  \\\n",
       "0  2025.0      Senior  Tempo Integral  Solutions Engineer   214000   USD   \n",
       "1  2025.0      Senior  Tempo Integral  Solutions Engineer   136000   USD   \n",
       "2  2025.0       Pleno  Tempo Integral       Data Engineer   158800   USD   \n",
       "3  2025.0       Pleno  Tempo Integral       Data Engineer   139200   USD   \n",
       "4  2025.0      Junior  Tempo Integral       Data Engineer    90000   USD   \n",
       "\n",
       "    dolar residencia      remoto localizacao empresa  \n",
       "0  214000         US      Remoto          US   Média  \n",
       "1  136000         US      Remoto          US   Média  \n",
       "2  158800         AU  Presencial          AU   Média  \n",
       "3  139200         AU  Presencial          AU   Média  \n",
       "4   90000         US  Presencial          US   Média  "
      ]
     },
     "execution_count": 23,
     "metadata": {},
     "output_type": "execute_result"
    }
   ],
   "source": [
    "# Analisar a base de dados\n",
    "df.head()"
   ]
  },
  {
   "cell_type": "code",
   "execution_count": 24,
   "id": "ba3d72bd",
   "metadata": {},
   "outputs": [
    {
     "data": {
      "application/vnd.microsoft.datawrangler.viewer.v0+json": {
       "columns": [
        {
         "name": "index",
         "rawType": "object",
         "type": "string"
        },
        {
         "name": "0",
         "rawType": "int64",
         "type": "integer"
        }
       ],
       "ref": "e763390d-6891-49f9-ae3e-67b6ed96566b",
       "rows": [
        [
         "ano",
         "10"
        ],
        [
         "senioridade",
         "0"
        ],
        [
         "contrato",
         "0"
        ],
        [
         "cargo",
         "0"
        ],
        [
         "salario",
         "0"
        ],
        [
         "moeda",
         "0"
        ],
        [
         "dolar",
         "0"
        ],
        [
         "residencia",
         "0"
        ],
        [
         "remoto",
         "0"
        ],
        [
         "localizacao",
         "0"
        ],
        [
         "empresa",
         "0"
        ]
       ],
       "shape": {
        "columns": 1,
        "rows": 11
       }
      },
      "text/plain": [
       "ano            10\n",
       "senioridade     0\n",
       "contrato        0\n",
       "cargo           0\n",
       "salario         0\n",
       "moeda           0\n",
       "dolar           0\n",
       "residencia      0\n",
       "remoto          0\n",
       "localizacao     0\n",
       "empresa         0\n",
       "dtype: int64"
      ]
     },
     "execution_count": 24,
     "metadata": {},
     "output_type": "execute_result"
    }
   ],
   "source": [
    "# Somar todos os campos que possuem valores nulos\n",
    "df.isnull().sum()"
   ]
  },
  {
   "cell_type": "code",
   "execution_count": 25,
   "id": "c14bd525",
   "metadata": {},
   "outputs": [
    {
     "data": {
      "text/plain": [
       "array([2025.,   nan, 2024., 2022., 2023., 2020., 2021.])"
      ]
     },
     "execution_count": 25,
     "metadata": {},
     "output_type": "execute_result"
    }
   ],
   "source": [
    "# Trazer os valores únicos da coluna 'ano'\n",
    "df['ano'].unique()"
   ]
  },
  {
   "cell_type": "code",
   "execution_count": 26,
   "id": "b8bf2525",
   "metadata": {},
   "outputs": [
    {
     "data": {
      "application/vnd.microsoft.datawrangler.viewer.v0+json": {
       "columns": [
        {
         "name": "index",
         "rawType": "int64",
         "type": "integer"
        },
        {
         "name": "ano",
         "rawType": "float64",
         "type": "float"
        },
        {
         "name": "senioridade",
         "rawType": "object",
         "type": "string"
        },
        {
         "name": "contrato",
         "rawType": "object",
         "type": "string"
        },
        {
         "name": "cargo",
         "rawType": "object",
         "type": "string"
        },
        {
         "name": "salario",
         "rawType": "int64",
         "type": "integer"
        },
        {
         "name": "moeda",
         "rawType": "object",
         "type": "string"
        },
        {
         "name": "dolar",
         "rawType": "int64",
         "type": "integer"
        },
        {
         "name": "residencia",
         "rawType": "object",
         "type": "string"
        },
        {
         "name": "remoto",
         "rawType": "object",
         "type": "string"
        },
        {
         "name": "localizacao",
         "rawType": "object",
         "type": "string"
        },
        {
         "name": "empresa",
         "rawType": "object",
         "type": "string"
        }
       ],
       "ref": "d0b6ebf5-ef7b-4591-a6bf-a6ce39cc686b",
       "rows": [
        [
         "5588",
         null,
         "Senior",
         "Tempo Integral",
         "Product Manager",
         "184500",
         "USD",
         "184500",
         "US",
         "Presencial",
         "US",
         "Média"
        ],
        [
         "59692",
         null,
         "Pleno",
         "Tempo Integral",
         "Engineer",
         "110000",
         "USD",
         "110000",
         "DE",
         "Presencial",
         "DE",
         "Média"
        ],
        [
         "59710",
         null,
         "Junior",
         "Tempo Integral",
         "Data Scientist",
         "208800",
         "USD",
         "208800",
         "US",
         "Presencial",
         "US",
         "Média"
        ],
        [
         "59759",
         null,
         "Senior",
         "Tempo Integral",
         "Software Engineer",
         "135000",
         "USD",
         "135000",
         "US",
         "Presencial",
         "US",
         "Média"
        ],
        [
         "59789",
         null,
         "Senior",
         "Tempo Integral",
         "Engineer",
         "112000",
         "USD",
         "112000",
         "US",
         "Presencial",
         "US",
         "Média"
        ],
        [
         "131000",
         null,
         "Senior",
         "Tempo Integral",
         "Machine Learning Engineer",
         "163800",
         "USD",
         "163800",
         "US",
         "Presencial",
         "US",
         "Média"
        ],
        [
         "131006",
         null,
         "Senior",
         "Tempo Integral",
         "Data Analytics Manager",
         "204500",
         "USD",
         "204500",
         "US",
         "Presencial",
         "US",
         "Média"
        ],
        [
         "133054",
         null,
         "Junior",
         "Tempo Integral",
         "Data Scientist",
         "40000",
         "USD",
         "40000",
         "JP",
         "Remoto",
         "MY",
         "Grande"
        ],
        [
         "133281",
         null,
         "Pleno",
         "Tempo Integral",
         "Machine Learning Engineer",
         "180000",
         "PLN",
         "46597",
         "PL",
         "Remoto",
         "PL",
         "Grande"
        ],
        [
         "133317",
         null,
         "Pleno",
         "Tempo Integral",
         "Data Scientist",
         "130000",
         "USD",
         "130000",
         "US",
         "Híbrido",
         "US",
         "Grande"
        ]
       ],
       "shape": {
        "columns": 11,
        "rows": 10
       }
      },
      "text/html": [
       "<div>\n",
       "<style scoped>\n",
       "    .dataframe tbody tr th:only-of-type {\n",
       "        vertical-align: middle;\n",
       "    }\n",
       "\n",
       "    .dataframe tbody tr th {\n",
       "        vertical-align: top;\n",
       "    }\n",
       "\n",
       "    .dataframe thead th {\n",
       "        text-align: right;\n",
       "    }\n",
       "</style>\n",
       "<table border=\"1\" class=\"dataframe\">\n",
       "  <thead>\n",
       "    <tr style=\"text-align: right;\">\n",
       "      <th></th>\n",
       "      <th>ano</th>\n",
       "      <th>senioridade</th>\n",
       "      <th>contrato</th>\n",
       "      <th>cargo</th>\n",
       "      <th>salario</th>\n",
       "      <th>moeda</th>\n",
       "      <th>dolar</th>\n",
       "      <th>residencia</th>\n",
       "      <th>remoto</th>\n",
       "      <th>localizacao</th>\n",
       "      <th>empresa</th>\n",
       "    </tr>\n",
       "  </thead>\n",
       "  <tbody>\n",
       "    <tr>\n",
       "      <th>5588</th>\n",
       "      <td>NaN</td>\n",
       "      <td>Senior</td>\n",
       "      <td>Tempo Integral</td>\n",
       "      <td>Product Manager</td>\n",
       "      <td>184500</td>\n",
       "      <td>USD</td>\n",
       "      <td>184500</td>\n",
       "      <td>US</td>\n",
       "      <td>Presencial</td>\n",
       "      <td>US</td>\n",
       "      <td>Média</td>\n",
       "    </tr>\n",
       "    <tr>\n",
       "      <th>59692</th>\n",
       "      <td>NaN</td>\n",
       "      <td>Pleno</td>\n",
       "      <td>Tempo Integral</td>\n",
       "      <td>Engineer</td>\n",
       "      <td>110000</td>\n",
       "      <td>USD</td>\n",
       "      <td>110000</td>\n",
       "      <td>DE</td>\n",
       "      <td>Presencial</td>\n",
       "      <td>DE</td>\n",
       "      <td>Média</td>\n",
       "    </tr>\n",
       "    <tr>\n",
       "      <th>59710</th>\n",
       "      <td>NaN</td>\n",
       "      <td>Junior</td>\n",
       "      <td>Tempo Integral</td>\n",
       "      <td>Data Scientist</td>\n",
       "      <td>208800</td>\n",
       "      <td>USD</td>\n",
       "      <td>208800</td>\n",
       "      <td>US</td>\n",
       "      <td>Presencial</td>\n",
       "      <td>US</td>\n",
       "      <td>Média</td>\n",
       "    </tr>\n",
       "    <tr>\n",
       "      <th>59759</th>\n",
       "      <td>NaN</td>\n",
       "      <td>Senior</td>\n",
       "      <td>Tempo Integral</td>\n",
       "      <td>Software Engineer</td>\n",
       "      <td>135000</td>\n",
       "      <td>USD</td>\n",
       "      <td>135000</td>\n",
       "      <td>US</td>\n",
       "      <td>Presencial</td>\n",
       "      <td>US</td>\n",
       "      <td>Média</td>\n",
       "    </tr>\n",
       "    <tr>\n",
       "      <th>59789</th>\n",
       "      <td>NaN</td>\n",
       "      <td>Senior</td>\n",
       "      <td>Tempo Integral</td>\n",
       "      <td>Engineer</td>\n",
       "      <td>112000</td>\n",
       "      <td>USD</td>\n",
       "      <td>112000</td>\n",
       "      <td>US</td>\n",
       "      <td>Presencial</td>\n",
       "      <td>US</td>\n",
       "      <td>Média</td>\n",
       "    </tr>\n",
       "    <tr>\n",
       "      <th>131000</th>\n",
       "      <td>NaN</td>\n",
       "      <td>Senior</td>\n",
       "      <td>Tempo Integral</td>\n",
       "      <td>Machine Learning Engineer</td>\n",
       "      <td>163800</td>\n",
       "      <td>USD</td>\n",
       "      <td>163800</td>\n",
       "      <td>US</td>\n",
       "      <td>Presencial</td>\n",
       "      <td>US</td>\n",
       "      <td>Média</td>\n",
       "    </tr>\n",
       "    <tr>\n",
       "      <th>131006</th>\n",
       "      <td>NaN</td>\n",
       "      <td>Senior</td>\n",
       "      <td>Tempo Integral</td>\n",
       "      <td>Data Analytics Manager</td>\n",
       "      <td>204500</td>\n",
       "      <td>USD</td>\n",
       "      <td>204500</td>\n",
       "      <td>US</td>\n",
       "      <td>Presencial</td>\n",
       "      <td>US</td>\n",
       "      <td>Média</td>\n",
       "    </tr>\n",
       "    <tr>\n",
       "      <th>133054</th>\n",
       "      <td>NaN</td>\n",
       "      <td>Junior</td>\n",
       "      <td>Tempo Integral</td>\n",
       "      <td>Data Scientist</td>\n",
       "      <td>40000</td>\n",
       "      <td>USD</td>\n",
       "      <td>40000</td>\n",
       "      <td>JP</td>\n",
       "      <td>Remoto</td>\n",
       "      <td>MY</td>\n",
       "      <td>Grande</td>\n",
       "    </tr>\n",
       "    <tr>\n",
       "      <th>133281</th>\n",
       "      <td>NaN</td>\n",
       "      <td>Pleno</td>\n",
       "      <td>Tempo Integral</td>\n",
       "      <td>Machine Learning Engineer</td>\n",
       "      <td>180000</td>\n",
       "      <td>PLN</td>\n",
       "      <td>46597</td>\n",
       "      <td>PL</td>\n",
       "      <td>Remoto</td>\n",
       "      <td>PL</td>\n",
       "      <td>Grande</td>\n",
       "    </tr>\n",
       "    <tr>\n",
       "      <th>133317</th>\n",
       "      <td>NaN</td>\n",
       "      <td>Pleno</td>\n",
       "      <td>Tempo Integral</td>\n",
       "      <td>Data Scientist</td>\n",
       "      <td>130000</td>\n",
       "      <td>USD</td>\n",
       "      <td>130000</td>\n",
       "      <td>US</td>\n",
       "      <td>Híbrido</td>\n",
       "      <td>US</td>\n",
       "      <td>Grande</td>\n",
       "    </tr>\n",
       "  </tbody>\n",
       "</table>\n",
       "</div>"
      ],
      "text/plain": [
       "        ano senioridade        contrato                      cargo  salario  \\\n",
       "5588    NaN      Senior  Tempo Integral            Product Manager   184500   \n",
       "59692   NaN       Pleno  Tempo Integral                   Engineer   110000   \n",
       "59710   NaN      Junior  Tempo Integral             Data Scientist   208800   \n",
       "59759   NaN      Senior  Tempo Integral          Software Engineer   135000   \n",
       "59789   NaN      Senior  Tempo Integral                   Engineer   112000   \n",
       "131000  NaN      Senior  Tempo Integral  Machine Learning Engineer   163800   \n",
       "131006  NaN      Senior  Tempo Integral     Data Analytics Manager   204500   \n",
       "133054  NaN      Junior  Tempo Integral             Data Scientist    40000   \n",
       "133281  NaN       Pleno  Tempo Integral  Machine Learning Engineer   180000   \n",
       "133317  NaN       Pleno  Tempo Integral             Data Scientist   130000   \n",
       "\n",
       "       moeda   dolar residencia      remoto localizacao empresa  \n",
       "5588     USD  184500         US  Presencial          US   Média  \n",
       "59692    USD  110000         DE  Presencial          DE   Média  \n",
       "59710    USD  208800         US  Presencial          US   Média  \n",
       "59759    USD  135000         US  Presencial          US   Média  \n",
       "59789    USD  112000         US  Presencial          US   Média  \n",
       "131000   USD  163800         US  Presencial          US   Média  \n",
       "131006   USD  204500         US  Presencial          US   Média  \n",
       "133054   USD   40000         JP      Remoto          MY  Grande  \n",
       "133281   PLN   46597         PL      Remoto          PL  Grande  \n",
       "133317   USD  130000         US     Híbrido          US  Grande  "
      ]
     },
     "execution_count": 26,
     "metadata": {},
     "output_type": "execute_result"
    }
   ],
   "source": [
    "# Filtrar registros com valores nulos na coluna 'ano'\n",
    "df[df.isnull().any(axis=1)]"
   ]
  },
  {
   "cell_type": "code",
   "execution_count": 27,
   "id": "da423781",
   "metadata": {},
   "outputs": [],
   "source": [
    "#Importar numpy para manipulação de dados numericos\n",
    "import numpy as np"
   ]
  },
  {
   "cell_type": "code",
   "execution_count": 28,
   "id": "0058e4dc",
   "metadata": {},
   "outputs": [
    {
     "data": {
      "application/vnd.microsoft.datawrangler.viewer.v0+json": {
       "columns": [
        {
         "name": "index",
         "rawType": "int64",
         "type": "integer"
        },
        {
         "name": "nome",
         "rawType": "object",
         "type": "string"
        },
        {
         "name": "salario",
         "rawType": "float64",
         "type": "float"
        },
        {
         "name": "salario_medio",
         "rawType": "float64",
         "type": "float"
        },
        {
         "name": "salario_mediana",
         "rawType": "float64",
         "type": "float"
        }
       ],
       "ref": "02e8e5e6-1386-4c3a-8dd1-133dffd724be",
       "rows": [
        [
         "0",
         "Ana",
         "4000.0",
         "4000.0",
         "4000.0"
        ],
        [
         "1",
         "Bruno",
         null,
         "36333.33",
         "5000.0"
        ],
        [
         "2",
         "Carlos",
         "5000.0",
         "5000.0",
         "5000.0"
        ],
        [
         "3",
         "Daniele",
         null,
         "36333.33",
         "5000.0"
        ],
        [
         "4",
         "val",
         "100000.0",
         "100000.0",
         "100000.0"
        ]
       ],
       "shape": {
        "columns": 4,
        "rows": 5
       }
      },
      "text/html": [
       "<div>\n",
       "<style scoped>\n",
       "    .dataframe tbody tr th:only-of-type {\n",
       "        vertical-align: middle;\n",
       "    }\n",
       "\n",
       "    .dataframe tbody tr th {\n",
       "        vertical-align: top;\n",
       "    }\n",
       "\n",
       "    .dataframe thead th {\n",
       "        text-align: right;\n",
       "    }\n",
       "</style>\n",
       "<table border=\"1\" class=\"dataframe\">\n",
       "  <thead>\n",
       "    <tr style=\"text-align: right;\">\n",
       "      <th></th>\n",
       "      <th>nome</th>\n",
       "      <th>salario</th>\n",
       "      <th>salario_medio</th>\n",
       "      <th>salario_mediana</th>\n",
       "    </tr>\n",
       "  </thead>\n",
       "  <tbody>\n",
       "    <tr>\n",
       "      <th>0</th>\n",
       "      <td>Ana</td>\n",
       "      <td>4000.0</td>\n",
       "      <td>4000.00</td>\n",
       "      <td>4000.0</td>\n",
       "    </tr>\n",
       "    <tr>\n",
       "      <th>1</th>\n",
       "      <td>Bruno</td>\n",
       "      <td>NaN</td>\n",
       "      <td>36333.33</td>\n",
       "      <td>5000.0</td>\n",
       "    </tr>\n",
       "    <tr>\n",
       "      <th>2</th>\n",
       "      <td>Carlos</td>\n",
       "      <td>5000.0</td>\n",
       "      <td>5000.00</td>\n",
       "      <td>5000.0</td>\n",
       "    </tr>\n",
       "    <tr>\n",
       "      <th>3</th>\n",
       "      <td>Daniele</td>\n",
       "      <td>NaN</td>\n",
       "      <td>36333.33</td>\n",
       "      <td>5000.0</td>\n",
       "    </tr>\n",
       "    <tr>\n",
       "      <th>4</th>\n",
       "      <td>val</td>\n",
       "      <td>100000.0</td>\n",
       "      <td>100000.00</td>\n",
       "      <td>100000.0</td>\n",
       "    </tr>\n",
       "  </tbody>\n",
       "</table>\n",
       "</div>"
      ],
      "text/plain": [
       "      nome   salario  salario_medio  salario_mediana\n",
       "0      Ana    4000.0        4000.00           4000.0\n",
       "1    Bruno       NaN       36333.33           5000.0\n",
       "2   Carlos    5000.0        5000.00           5000.0\n",
       "3  Daniele       NaN       36333.33           5000.0\n",
       "4      val  100000.0      100000.00         100000.0"
      ]
     },
     "execution_count": 28,
     "metadata": {},
     "output_type": "execute_result"
    }
   ],
   "source": [
    "#Analisando salarios\n",
    "# Criar um DataFrame\n",
    "df_salarios = pd.DataFrame({\n",
    "'nome': ['Ana', 'Bruno', 'Carlos', 'Daniele', 'val'],\n",
    "'salario': [4000, np.nan, 5000, np.nan, 100000],\n",
    "})\n",
    "\n",
    "# Calcular a média salarial e substituir valores nulos pela média e arrendondar os valores\n",
    "df_salarios['salario_medio'] = df_salarios['salario'].fillna(df_salarios['salario'].mean().round(2))\n",
    "# calcular a mediana salarial e substituir valores nulos pela mediana\n",
    "df_salarios['salario_mediana'] = df_salarios['salario'].fillna(df_salarios['salario'].median())\n",
    "\n",
    "df_salarios"
   ]
  },
  {
   "cell_type": "code",
   "execution_count": 29,
   "id": "69637575",
   "metadata": {},
   "outputs": [
    {
     "data": {
      "application/vnd.microsoft.datawrangler.viewer.v0+json": {
       "columns": [
        {
         "name": "index",
         "rawType": "int64",
         "type": "integer"
        },
        {
         "name": "nome",
         "rawType": "object",
         "type": "string"
        },
        {
         "name": "salario",
         "rawType": "float64",
         "type": "float"
        },
        {
         "name": "salario_medio",
         "rawType": "float64",
         "type": "float"
        },
        {
         "name": "salario_mediana",
         "rawType": "float64",
         "type": "float"
        }
       ],
       "ref": "4aeeb948-c245-46a5-b58e-5f182d3b5fc0",
       "rows": [
        [
         "0",
         "Ana",
         "4000.0",
         "4000.0",
         "4000.0"
        ],
        [
         "1",
         "Bruno",
         null,
         "36333.33",
         "5000.0"
        ],
        [
         "2",
         "Carlos",
         "5000.0",
         "5000.0",
         "5000.0"
        ],
        [
         "3",
         "Daniele",
         null,
         "36333.33",
         "5000.0"
        ],
        [
         "4",
         "val",
         "100000.0",
         "100000.0",
         "100000.0"
        ]
       ],
       "shape": {
        "columns": 4,
        "rows": 5
       }
      },
      "text/html": [
       "<div>\n",
       "<style scoped>\n",
       "    .dataframe tbody tr th:only-of-type {\n",
       "        vertical-align: middle;\n",
       "    }\n",
       "\n",
       "    .dataframe tbody tr th {\n",
       "        vertical-align: top;\n",
       "    }\n",
       "\n",
       "    .dataframe thead th {\n",
       "        text-align: right;\n",
       "    }\n",
       "</style>\n",
       "<table border=\"1\" class=\"dataframe\">\n",
       "  <thead>\n",
       "    <tr style=\"text-align: right;\">\n",
       "      <th></th>\n",
       "      <th>nome</th>\n",
       "      <th>salario</th>\n",
       "      <th>salario_medio</th>\n",
       "      <th>salario_mediana</th>\n",
       "    </tr>\n",
       "  </thead>\n",
       "  <tbody>\n",
       "    <tr>\n",
       "      <th>0</th>\n",
       "      <td>Ana</td>\n",
       "      <td>4000.0</td>\n",
       "      <td>4000.00</td>\n",
       "      <td>4000.0</td>\n",
       "    </tr>\n",
       "    <tr>\n",
       "      <th>1</th>\n",
       "      <td>Bruno</td>\n",
       "      <td>NaN</td>\n",
       "      <td>36333.33</td>\n",
       "      <td>5000.0</td>\n",
       "    </tr>\n",
       "    <tr>\n",
       "      <th>2</th>\n",
       "      <td>Carlos</td>\n",
       "      <td>5000.0</td>\n",
       "      <td>5000.00</td>\n",
       "      <td>5000.0</td>\n",
       "    </tr>\n",
       "    <tr>\n",
       "      <th>3</th>\n",
       "      <td>Daniele</td>\n",
       "      <td>NaN</td>\n",
       "      <td>36333.33</td>\n",
       "      <td>5000.0</td>\n",
       "    </tr>\n",
       "    <tr>\n",
       "      <th>4</th>\n",
       "      <td>val</td>\n",
       "      <td>100000.0</td>\n",
       "      <td>100000.00</td>\n",
       "      <td>100000.0</td>\n",
       "    </tr>\n",
       "  </tbody>\n",
       "</table>\n",
       "</div>"
      ],
      "text/plain": [
       "      nome   salario  salario_medio  salario_mediana\n",
       "0      Ana    4000.0        4000.00           4000.0\n",
       "1    Bruno       NaN       36333.33           5000.0\n",
       "2   Carlos    5000.0        5000.00           5000.0\n",
       "3  Daniele       NaN       36333.33           5000.0\n",
       "4      val  100000.0      100000.00         100000.0"
      ]
     },
     "execution_count": 29,
     "metadata": {},
     "output_type": "execute_result"
    }
   ],
   "source": [
    "#Analisando salarios\n",
    "# Criar um DataFrame\n",
    "df_salarios = pd.DataFrame({\n",
    "'nome': ['Ana', 'Bruno', 'Carlos', 'Daniele', 'val'],\n",
    "'salario': [4000, np.nan, 5000, np.nan, 100000],\n",
    "})\n",
    "\n",
    "# Calcular a média salarial e substituir valores nulos pela média e arrendondar os valores\n",
    "df_salarios['salario_medio'] = df_salarios['salario'].fillna(df_salarios['salario'].mean().round(2))\n",
    "# calcular a mediana salarial e substituir valores nulos pela mediana\n",
    "df_salarios['salario_mediana'] = df_salarios['salario'].fillna(df_salarios['salario'].median())\n",
    "\n",
    "df_salarios"
   ]
  },
  {
   "cell_type": "code",
   "execution_count": 30,
   "id": "3ee873ea",
   "metadata": {},
   "outputs": [
    {
     "data": {
      "application/vnd.microsoft.datawrangler.viewer.v0+json": {
       "columns": [
        {
         "name": "index",
         "rawType": "int64",
         "type": "integer"
        },
        {
         "name": "dia",
         "rawType": "object",
         "type": "string"
        },
        {
         "name": "temperatura",
         "rawType": "float64",
         "type": "float"
        },
        {
         "name": "preenchido_bfill",
         "rawType": "float64",
         "type": "float"
        }
       ],
       "ref": "1d4a3ca9-a540-46ad-bbba-88118bcfdedd",
       "rows": [
        [
         "0",
         "Segunda",
         "30.0",
         "30.0"
        ],
        [
         "1",
         "Terça",
         null,
         "28.0"
        ],
        [
         "2",
         "Quarta",
         null,
         "28.0"
        ],
        [
         "3",
         "Quinta",
         "28.0",
         "28.0"
        ],
        [
         "4",
         "Sexta",
         "27.0",
         "27.0"
        ]
       ],
       "shape": {
        "columns": 3,
        "rows": 5
       }
      },
      "text/html": [
       "<div>\n",
       "<style scoped>\n",
       "    .dataframe tbody tr th:only-of-type {\n",
       "        vertical-align: middle;\n",
       "    }\n",
       "\n",
       "    .dataframe tbody tr th {\n",
       "        vertical-align: top;\n",
       "    }\n",
       "\n",
       "    .dataframe thead th {\n",
       "        text-align: right;\n",
       "    }\n",
       "</style>\n",
       "<table border=\"1\" class=\"dataframe\">\n",
       "  <thead>\n",
       "    <tr style=\"text-align: right;\">\n",
       "      <th></th>\n",
       "      <th>dia</th>\n",
       "      <th>temperatura</th>\n",
       "      <th>preenchido_bfill</th>\n",
       "    </tr>\n",
       "  </thead>\n",
       "  <tbody>\n",
       "    <tr>\n",
       "      <th>0</th>\n",
       "      <td>Segunda</td>\n",
       "      <td>30.0</td>\n",
       "      <td>30.0</td>\n",
       "    </tr>\n",
       "    <tr>\n",
       "      <th>1</th>\n",
       "      <td>Terça</td>\n",
       "      <td>NaN</td>\n",
       "      <td>28.0</td>\n",
       "    </tr>\n",
       "    <tr>\n",
       "      <th>2</th>\n",
       "      <td>Quarta</td>\n",
       "      <td>NaN</td>\n",
       "      <td>28.0</td>\n",
       "    </tr>\n",
       "    <tr>\n",
       "      <th>3</th>\n",
       "      <td>Quinta</td>\n",
       "      <td>28.0</td>\n",
       "      <td>28.0</td>\n",
       "    </tr>\n",
       "    <tr>\n",
       "      <th>4</th>\n",
       "      <td>Sexta</td>\n",
       "      <td>27.0</td>\n",
       "      <td>27.0</td>\n",
       "    </tr>\n",
       "  </tbody>\n",
       "</table>\n",
       "</div>"
      ],
      "text/plain": [
       "       dia  temperatura  preenchido_bfill\n",
       "0  Segunda         30.0              30.0\n",
       "1    Terça          NaN              28.0\n",
       "2   Quarta          NaN              28.0\n",
       "3   Quinta         28.0              28.0\n",
       "4    Sexta         27.0              27.0"
      ]
     },
     "execution_count": 30,
     "metadata": {},
     "output_type": "execute_result"
    }
   ],
   "source": [
    "# Analisando temperaturas\n",
    "df_temperaturas = pd.DataFrame({\n",
    "    'dia': ['Segunda', 'Terça', 'Quarta', 'Quinta', 'Sexta'],\n",
    "    'temperatura': [30, np.nan, np.nan, 28, 27]\n",
    "    })\n",
    "\n",
    "# Usando Bfill (PREENCHE COM VALORES POSTERIORES)\n",
    "df_temperaturas['preenchido_bfill'] = df_temperaturas['temperatura'].bfill()\n",
    "\n",
    "df_temperaturas"
   ]
  },
  {
   "cell_type": "code",
   "execution_count": 31,
   "id": "b39e7de0",
   "metadata": {},
   "outputs": [
    {
     "data": {
      "application/vnd.microsoft.datawrangler.viewer.v0+json": {
       "columns": [
        {
         "name": "index",
         "rawType": "int64",
         "type": "integer"
        },
        {
         "name": "nome",
         "rawType": "object",
         "type": "string"
        },
        {
         "name": "cidade",
         "rawType": "object",
         "type": "unknown"
        },
        {
         "name": "cidade_preenchida",
         "rawType": "object",
         "type": "string"
        }
       ],
       "ref": "2211ad17-bd25-44bf-9591-80fe8a1e79cf",
       "rows": [
        [
         "0",
         "Ana",
         "São Paulo",
         "São Paulo"
        ],
        [
         "1",
         "Bruno",
         null,
         "Não Informado"
        ],
        [
         "2",
         "Carlos",
         "Curitiba",
         "Curitiba"
        ],
        [
         "3",
         "Daniele",
         null,
         "Não Informado"
        ],
        [
         "4",
         "val",
         "Belém",
         "Belém"
        ]
       ],
       "shape": {
        "columns": 3,
        "rows": 5
       }
      },
      "text/html": [
       "<div>\n",
       "<style scoped>\n",
       "    .dataframe tbody tr th:only-of-type {\n",
       "        vertical-align: middle;\n",
       "    }\n",
       "\n",
       "    .dataframe tbody tr th {\n",
       "        vertical-align: top;\n",
       "    }\n",
       "\n",
       "    .dataframe thead th {\n",
       "        text-align: right;\n",
       "    }\n",
       "</style>\n",
       "<table border=\"1\" class=\"dataframe\">\n",
       "  <thead>\n",
       "    <tr style=\"text-align: right;\">\n",
       "      <th></th>\n",
       "      <th>nome</th>\n",
       "      <th>cidade</th>\n",
       "      <th>cidade_preenchida</th>\n",
       "    </tr>\n",
       "  </thead>\n",
       "  <tbody>\n",
       "    <tr>\n",
       "      <th>0</th>\n",
       "      <td>Ana</td>\n",
       "      <td>São Paulo</td>\n",
       "      <td>São Paulo</td>\n",
       "    </tr>\n",
       "    <tr>\n",
       "      <th>1</th>\n",
       "      <td>Bruno</td>\n",
       "      <td>NaN</td>\n",
       "      <td>Não Informado</td>\n",
       "    </tr>\n",
       "    <tr>\n",
       "      <th>2</th>\n",
       "      <td>Carlos</td>\n",
       "      <td>Curitiba</td>\n",
       "      <td>Curitiba</td>\n",
       "    </tr>\n",
       "    <tr>\n",
       "      <th>3</th>\n",
       "      <td>Daniele</td>\n",
       "      <td>NaN</td>\n",
       "      <td>Não Informado</td>\n",
       "    </tr>\n",
       "    <tr>\n",
       "      <th>4</th>\n",
       "      <td>val</td>\n",
       "      <td>Belém</td>\n",
       "      <td>Belém</td>\n",
       "    </tr>\n",
       "  </tbody>\n",
       "</table>\n",
       "</div>"
      ],
      "text/plain": [
       "      nome     cidade cidade_preenchida\n",
       "0      Ana  São Paulo         São Paulo\n",
       "1    Bruno        NaN     Não Informado\n",
       "2   Carlos   Curitiba          Curitiba\n",
       "3  Daniele        NaN     Não Informado\n",
       "4      val      Belém             Belém"
      ]
     },
     "metadata": {},
     "output_type": "display_data"
    }
   ],
   "source": [
    "#Analisando cidades\n",
    "df_cidades = pd.DataFrame({\n",
    "    'nome': ['Ana', 'Bruno', 'Carlos', 'Daniele', 'val'],\n",
    "    'cidade': ['São Paulo', np.nan, 'Curitiba', np.nan, 'Belém'],\n",
    "})\n",
    "\n",
    "# Preencher valores nulos na coluna 'cidade' com 'Não Informado'\n",
    "df_cidades['cidade_preenchida'] = df_cidades['cidade'].fillna('Não Informado')\n",
    "display(df_cidades)"
   ]
  },
  {
   "cell_type": "code",
   "execution_count": 32,
   "id": "4e3d653e",
   "metadata": {},
   "outputs": [],
   "source": [
    "df_limpo = df.dropna()"
   ]
  },
  {
   "cell_type": "code",
   "execution_count": 33,
   "id": "5eb87e83",
   "metadata": {},
   "outputs": [
    {
     "data": {
      "application/vnd.microsoft.datawrangler.viewer.v0+json": {
       "columns": [
        {
         "name": "index",
         "rawType": "object",
         "type": "string"
        },
        {
         "name": "0",
         "rawType": "int64",
         "type": "integer"
        }
       ],
       "ref": "798e23ce-1e2a-4313-8995-185bf87a2fba",
       "rows": [
        [
         "ano",
         "0"
        ],
        [
         "senioridade",
         "0"
        ],
        [
         "contrato",
         "0"
        ],
        [
         "cargo",
         "0"
        ],
        [
         "salario",
         "0"
        ],
        [
         "moeda",
         "0"
        ],
        [
         "dolar",
         "0"
        ],
        [
         "residencia",
         "0"
        ],
        [
         "remoto",
         "0"
        ],
        [
         "localizacao",
         "0"
        ],
        [
         "empresa",
         "0"
        ]
       ],
       "shape": {
        "columns": 1,
        "rows": 11
       }
      },
      "text/plain": [
       "ano            0\n",
       "senioridade    0\n",
       "contrato       0\n",
       "cargo          0\n",
       "salario        0\n",
       "moeda          0\n",
       "dolar          0\n",
       "residencia     0\n",
       "remoto         0\n",
       "localizacao    0\n",
       "empresa        0\n",
       "dtype: int64"
      ]
     },
     "execution_count": 33,
     "metadata": {},
     "output_type": "execute_result"
    }
   ],
   "source": [
    "df_limpo.isnull().sum()"
   ]
  },
  {
   "cell_type": "code",
   "execution_count": 34,
   "id": "9a2048ed",
   "metadata": {},
   "outputs": [
    {
     "data": {
      "application/vnd.microsoft.datawrangler.viewer.v0+json": {
       "columns": [
        {
         "name": "index",
         "rawType": "int64",
         "type": "integer"
        },
        {
         "name": "ano",
         "rawType": "float64",
         "type": "float"
        },
        {
         "name": "senioridade",
         "rawType": "object",
         "type": "string"
        },
        {
         "name": "contrato",
         "rawType": "object",
         "type": "string"
        },
        {
         "name": "cargo",
         "rawType": "object",
         "type": "string"
        },
        {
         "name": "salario",
         "rawType": "int64",
         "type": "integer"
        },
        {
         "name": "moeda",
         "rawType": "object",
         "type": "string"
        },
        {
         "name": "dolar",
         "rawType": "int64",
         "type": "integer"
        },
        {
         "name": "residencia",
         "rawType": "object",
         "type": "string"
        },
        {
         "name": "remoto",
         "rawType": "object",
         "type": "string"
        },
        {
         "name": "localizacao",
         "rawType": "object",
         "type": "string"
        },
        {
         "name": "empresa",
         "rawType": "object",
         "type": "string"
        }
       ],
       "ref": "5257c603-34bf-41a7-87aa-af4206542b3b",
       "rows": [
        [
         "0",
         "2025.0",
         "Senior",
         "Tempo Integral",
         "Solutions Engineer",
         "214000",
         "USD",
         "214000",
         "US",
         "Remoto",
         "US",
         "Média"
        ],
        [
         "1",
         "2025.0",
         "Senior",
         "Tempo Integral",
         "Solutions Engineer",
         "136000",
         "USD",
         "136000",
         "US",
         "Remoto",
         "US",
         "Média"
        ],
        [
         "2",
         "2025.0",
         "Pleno",
         "Tempo Integral",
         "Data Engineer",
         "158800",
         "USD",
         "158800",
         "AU",
         "Presencial",
         "AU",
         "Média"
        ],
        [
         "3",
         "2025.0",
         "Pleno",
         "Tempo Integral",
         "Data Engineer",
         "139200",
         "USD",
         "139200",
         "AU",
         "Presencial",
         "AU",
         "Média"
        ],
        [
         "4",
         "2025.0",
         "Junior",
         "Tempo Integral",
         "Data Engineer",
         "90000",
         "USD",
         "90000",
         "US",
         "Presencial",
         "US",
         "Média"
        ]
       ],
       "shape": {
        "columns": 11,
        "rows": 5
       }
      },
      "text/html": [
       "<div>\n",
       "<style scoped>\n",
       "    .dataframe tbody tr th:only-of-type {\n",
       "        vertical-align: middle;\n",
       "    }\n",
       "\n",
       "    .dataframe tbody tr th {\n",
       "        vertical-align: top;\n",
       "    }\n",
       "\n",
       "    .dataframe thead th {\n",
       "        text-align: right;\n",
       "    }\n",
       "</style>\n",
       "<table border=\"1\" class=\"dataframe\">\n",
       "  <thead>\n",
       "    <tr style=\"text-align: right;\">\n",
       "      <th></th>\n",
       "      <th>ano</th>\n",
       "      <th>senioridade</th>\n",
       "      <th>contrato</th>\n",
       "      <th>cargo</th>\n",
       "      <th>salario</th>\n",
       "      <th>moeda</th>\n",
       "      <th>dolar</th>\n",
       "      <th>residencia</th>\n",
       "      <th>remoto</th>\n",
       "      <th>localizacao</th>\n",
       "      <th>empresa</th>\n",
       "    </tr>\n",
       "  </thead>\n",
       "  <tbody>\n",
       "    <tr>\n",
       "      <th>0</th>\n",
       "      <td>2025.0</td>\n",
       "      <td>Senior</td>\n",
       "      <td>Tempo Integral</td>\n",
       "      <td>Solutions Engineer</td>\n",
       "      <td>214000</td>\n",
       "      <td>USD</td>\n",
       "      <td>214000</td>\n",
       "      <td>US</td>\n",
       "      <td>Remoto</td>\n",
       "      <td>US</td>\n",
       "      <td>Média</td>\n",
       "    </tr>\n",
       "    <tr>\n",
       "      <th>1</th>\n",
       "      <td>2025.0</td>\n",
       "      <td>Senior</td>\n",
       "      <td>Tempo Integral</td>\n",
       "      <td>Solutions Engineer</td>\n",
       "      <td>136000</td>\n",
       "      <td>USD</td>\n",
       "      <td>136000</td>\n",
       "      <td>US</td>\n",
       "      <td>Remoto</td>\n",
       "      <td>US</td>\n",
       "      <td>Média</td>\n",
       "    </tr>\n",
       "    <tr>\n",
       "      <th>2</th>\n",
       "      <td>2025.0</td>\n",
       "      <td>Pleno</td>\n",
       "      <td>Tempo Integral</td>\n",
       "      <td>Data Engineer</td>\n",
       "      <td>158800</td>\n",
       "      <td>USD</td>\n",
       "      <td>158800</td>\n",
       "      <td>AU</td>\n",
       "      <td>Presencial</td>\n",
       "      <td>AU</td>\n",
       "      <td>Média</td>\n",
       "    </tr>\n",
       "    <tr>\n",
       "      <th>3</th>\n",
       "      <td>2025.0</td>\n",
       "      <td>Pleno</td>\n",
       "      <td>Tempo Integral</td>\n",
       "      <td>Data Engineer</td>\n",
       "      <td>139200</td>\n",
       "      <td>USD</td>\n",
       "      <td>139200</td>\n",
       "      <td>AU</td>\n",
       "      <td>Presencial</td>\n",
       "      <td>AU</td>\n",
       "      <td>Média</td>\n",
       "    </tr>\n",
       "    <tr>\n",
       "      <th>4</th>\n",
       "      <td>2025.0</td>\n",
       "      <td>Junior</td>\n",
       "      <td>Tempo Integral</td>\n",
       "      <td>Data Engineer</td>\n",
       "      <td>90000</td>\n",
       "      <td>USD</td>\n",
       "      <td>90000</td>\n",
       "      <td>US</td>\n",
       "      <td>Presencial</td>\n",
       "      <td>US</td>\n",
       "      <td>Média</td>\n",
       "    </tr>\n",
       "  </tbody>\n",
       "</table>\n",
       "</div>"
      ],
      "text/plain": [
       "      ano senioridade        contrato               cargo  salario moeda  \\\n",
       "0  2025.0      Senior  Tempo Integral  Solutions Engineer   214000   USD   \n",
       "1  2025.0      Senior  Tempo Integral  Solutions Engineer   136000   USD   \n",
       "2  2025.0       Pleno  Tempo Integral       Data Engineer   158800   USD   \n",
       "3  2025.0       Pleno  Tempo Integral       Data Engineer   139200   USD   \n",
       "4  2025.0      Junior  Tempo Integral       Data Engineer    90000   USD   \n",
       "\n",
       "    dolar residencia      remoto localizacao empresa  \n",
       "0  214000         US      Remoto          US   Média  \n",
       "1  136000         US      Remoto          US   Média  \n",
       "2  158800         AU  Presencial          AU   Média  \n",
       "3  139200         AU  Presencial          AU   Média  \n",
       "4   90000         US  Presencial          US   Média  "
      ]
     },
     "execution_count": 34,
     "metadata": {},
     "output_type": "execute_result"
    }
   ],
   "source": [
    "df_limpo.head()"
   ]
  },
  {
   "cell_type": "code",
   "execution_count": 35,
   "id": "bb7076e9",
   "metadata": {},
   "outputs": [
    {
     "name": "stdout",
     "output_type": "stream",
     "text": [
      "<class 'pandas.core.frame.DataFrame'>\n",
      "Index: 133339 entries, 0 to 133348\n",
      "Data columns (total 11 columns):\n",
      " #   Column       Non-Null Count   Dtype  \n",
      "---  ------       --------------   -----  \n",
      " 0   ano          133339 non-null  float64\n",
      " 1   senioridade  133339 non-null  object \n",
      " 2   contrato     133339 non-null  object \n",
      " 3   cargo        133339 non-null  object \n",
      " 4   salario      133339 non-null  int64  \n",
      " 5   moeda        133339 non-null  object \n",
      " 6   dolar        133339 non-null  int64  \n",
      " 7   residencia   133339 non-null  object \n",
      " 8   remoto       133339 non-null  object \n",
      " 9   localizacao  133339 non-null  object \n",
      " 10  empresa      133339 non-null  object \n",
      "dtypes: float64(1), int64(2), object(8)\n",
      "memory usage: 12.2+ MB\n"
     ]
    }
   ],
   "source": [
    "df_limpo.info()"
   ]
  },
  {
   "cell_type": "code",
   "execution_count": 36,
   "id": "0a0ebc05",
   "metadata": {},
   "outputs": [],
   "source": [
    "# Converter a coluna 'ano' para o tipo int64\n",
    "# Isso é necessário para garantir que a coluna 'ano' seja tratada como um número inteiro\n",
    "df_limpo = df_limpo.assign(ano = df_limpo['ano'].astype('int64'))"
   ]
  },
  {
   "cell_type": "code",
   "execution_count": 37,
   "id": "a8e004e8",
   "metadata": {},
   "outputs": [
    {
     "data": {
      "application/vnd.microsoft.datawrangler.viewer.v0+json": {
       "columns": [
        {
         "name": "index",
         "rawType": "int64",
         "type": "integer"
        },
        {
         "name": "ano",
         "rawType": "int64",
         "type": "integer"
        },
        {
         "name": "senioridade",
         "rawType": "object",
         "type": "string"
        },
        {
         "name": "contrato",
         "rawType": "object",
         "type": "string"
        },
        {
         "name": "cargo",
         "rawType": "object",
         "type": "string"
        },
        {
         "name": "salario",
         "rawType": "int64",
         "type": "integer"
        },
        {
         "name": "moeda",
         "rawType": "object",
         "type": "string"
        },
        {
         "name": "dolar",
         "rawType": "int64",
         "type": "integer"
        },
        {
         "name": "residencia",
         "rawType": "object",
         "type": "string"
        },
        {
         "name": "remoto",
         "rawType": "object",
         "type": "string"
        },
        {
         "name": "localizacao",
         "rawType": "object",
         "type": "string"
        },
        {
         "name": "empresa",
         "rawType": "object",
         "type": "string"
        }
       ],
       "ref": "770163fc-ef11-451b-8c39-f659bc253697",
       "rows": [
        [
         "0",
         "2025",
         "Senior",
         "Tempo Integral",
         "Solutions Engineer",
         "214000",
         "USD",
         "214000",
         "US",
         "Remoto",
         "US",
         "Média"
        ],
        [
         "1",
         "2025",
         "Senior",
         "Tempo Integral",
         "Solutions Engineer",
         "136000",
         "USD",
         "136000",
         "US",
         "Remoto",
         "US",
         "Média"
        ],
        [
         "2",
         "2025",
         "Pleno",
         "Tempo Integral",
         "Data Engineer",
         "158800",
         "USD",
         "158800",
         "AU",
         "Presencial",
         "AU",
         "Média"
        ],
        [
         "3",
         "2025",
         "Pleno",
         "Tempo Integral",
         "Data Engineer",
         "139200",
         "USD",
         "139200",
         "AU",
         "Presencial",
         "AU",
         "Média"
        ],
        [
         "4",
         "2025",
         "Junior",
         "Tempo Integral",
         "Data Engineer",
         "90000",
         "USD",
         "90000",
         "US",
         "Presencial",
         "US",
         "Média"
        ]
       ],
       "shape": {
        "columns": 11,
        "rows": 5
       }
      },
      "text/html": [
       "<div>\n",
       "<style scoped>\n",
       "    .dataframe tbody tr th:only-of-type {\n",
       "        vertical-align: middle;\n",
       "    }\n",
       "\n",
       "    .dataframe tbody tr th {\n",
       "        vertical-align: top;\n",
       "    }\n",
       "\n",
       "    .dataframe thead th {\n",
       "        text-align: right;\n",
       "    }\n",
       "</style>\n",
       "<table border=\"1\" class=\"dataframe\">\n",
       "  <thead>\n",
       "    <tr style=\"text-align: right;\">\n",
       "      <th></th>\n",
       "      <th>ano</th>\n",
       "      <th>senioridade</th>\n",
       "      <th>contrato</th>\n",
       "      <th>cargo</th>\n",
       "      <th>salario</th>\n",
       "      <th>moeda</th>\n",
       "      <th>dolar</th>\n",
       "      <th>residencia</th>\n",
       "      <th>remoto</th>\n",
       "      <th>localizacao</th>\n",
       "      <th>empresa</th>\n",
       "    </tr>\n",
       "  </thead>\n",
       "  <tbody>\n",
       "    <tr>\n",
       "      <th>0</th>\n",
       "      <td>2025</td>\n",
       "      <td>Senior</td>\n",
       "      <td>Tempo Integral</td>\n",
       "      <td>Solutions Engineer</td>\n",
       "      <td>214000</td>\n",
       "      <td>USD</td>\n",
       "      <td>214000</td>\n",
       "      <td>US</td>\n",
       "      <td>Remoto</td>\n",
       "      <td>US</td>\n",
       "      <td>Média</td>\n",
       "    </tr>\n",
       "    <tr>\n",
       "      <th>1</th>\n",
       "      <td>2025</td>\n",
       "      <td>Senior</td>\n",
       "      <td>Tempo Integral</td>\n",
       "      <td>Solutions Engineer</td>\n",
       "      <td>136000</td>\n",
       "      <td>USD</td>\n",
       "      <td>136000</td>\n",
       "      <td>US</td>\n",
       "      <td>Remoto</td>\n",
       "      <td>US</td>\n",
       "      <td>Média</td>\n",
       "    </tr>\n",
       "    <tr>\n",
       "      <th>2</th>\n",
       "      <td>2025</td>\n",
       "      <td>Pleno</td>\n",
       "      <td>Tempo Integral</td>\n",
       "      <td>Data Engineer</td>\n",
       "      <td>158800</td>\n",
       "      <td>USD</td>\n",
       "      <td>158800</td>\n",
       "      <td>AU</td>\n",
       "      <td>Presencial</td>\n",
       "      <td>AU</td>\n",
       "      <td>Média</td>\n",
       "    </tr>\n",
       "    <tr>\n",
       "      <th>3</th>\n",
       "      <td>2025</td>\n",
       "      <td>Pleno</td>\n",
       "      <td>Tempo Integral</td>\n",
       "      <td>Data Engineer</td>\n",
       "      <td>139200</td>\n",
       "      <td>USD</td>\n",
       "      <td>139200</td>\n",
       "      <td>AU</td>\n",
       "      <td>Presencial</td>\n",
       "      <td>AU</td>\n",
       "      <td>Média</td>\n",
       "    </tr>\n",
       "    <tr>\n",
       "      <th>4</th>\n",
       "      <td>2025</td>\n",
       "      <td>Junior</td>\n",
       "      <td>Tempo Integral</td>\n",
       "      <td>Data Engineer</td>\n",
       "      <td>90000</td>\n",
       "      <td>USD</td>\n",
       "      <td>90000</td>\n",
       "      <td>US</td>\n",
       "      <td>Presencial</td>\n",
       "      <td>US</td>\n",
       "      <td>Média</td>\n",
       "    </tr>\n",
       "  </tbody>\n",
       "</table>\n",
       "</div>"
      ],
      "text/plain": [
       "    ano senioridade        contrato               cargo  salario moeda  \\\n",
       "0  2025      Senior  Tempo Integral  Solutions Engineer   214000   USD   \n",
       "1  2025      Senior  Tempo Integral  Solutions Engineer   136000   USD   \n",
       "2  2025       Pleno  Tempo Integral       Data Engineer   158800   USD   \n",
       "3  2025       Pleno  Tempo Integral       Data Engineer   139200   USD   \n",
       "4  2025      Junior  Tempo Integral       Data Engineer    90000   USD   \n",
       "\n",
       "    dolar residencia      remoto localizacao empresa  \n",
       "0  214000         US      Remoto          US   Média  \n",
       "1  136000         US      Remoto          US   Média  \n",
       "2  158800         AU  Presencial          AU   Média  \n",
       "3  139200         AU  Presencial          AU   Média  \n",
       "4   90000         US  Presencial          US   Média  "
      ]
     },
     "execution_count": 37,
     "metadata": {},
     "output_type": "execute_result"
    }
   ],
   "source": [
    "df_limpo.head()"
   ]
  },
  {
   "cell_type": "code",
   "execution_count": 38,
   "id": "f57bee0f",
   "metadata": {},
   "outputs": [
    {
     "name": "stdout",
     "output_type": "stream",
     "text": [
      "<class 'pandas.core.frame.DataFrame'>\n",
      "Index: 133339 entries, 0 to 133348\n",
      "Data columns (total 11 columns):\n",
      " #   Column       Non-Null Count   Dtype \n",
      "---  ------       --------------   ----- \n",
      " 0   ano          133339 non-null  int64 \n",
      " 1   senioridade  133339 non-null  object\n",
      " 2   contrato     133339 non-null  object\n",
      " 3   cargo        133339 non-null  object\n",
      " 4   salario      133339 non-null  int64 \n",
      " 5   moeda        133339 non-null  object\n",
      " 6   dolar        133339 non-null  int64 \n",
      " 7   residencia   133339 non-null  object\n",
      " 8   remoto       133339 non-null  object\n",
      " 9   localizacao  133339 non-null  object\n",
      " 10  empresa      133339 non-null  object\n",
      "dtypes: int64(3), object(8)\n",
      "memory usage: 12.2+ MB\n"
     ]
    }
   ],
   "source": [
    "df_limpo.info()"
   ]
  },
  {
   "cell_type": "markdown",
   "id": "68e0dae4",
   "metadata": {},
   "source": [
    "### Aula 3 - Visualização de Dados"
   ]
  },
  {
   "cell_type": "code",
   "execution_count": 39,
   "id": "a73333e7",
   "metadata": {},
   "outputs": [
    {
     "data": {
      "application/vnd.microsoft.datawrangler.viewer.v0+json": {
       "columns": [
        {
         "name": "index",
         "rawType": "int64",
         "type": "integer"
        },
        {
         "name": "ano",
         "rawType": "int64",
         "type": "integer"
        },
        {
         "name": "senioridade",
         "rawType": "object",
         "type": "string"
        },
        {
         "name": "contrato",
         "rawType": "object",
         "type": "string"
        },
        {
         "name": "cargo",
         "rawType": "object",
         "type": "string"
        },
        {
         "name": "salario",
         "rawType": "int64",
         "type": "integer"
        },
        {
         "name": "moeda",
         "rawType": "object",
         "type": "string"
        },
        {
         "name": "dolar",
         "rawType": "int64",
         "type": "integer"
        },
        {
         "name": "residencia",
         "rawType": "object",
         "type": "string"
        },
        {
         "name": "remoto",
         "rawType": "object",
         "type": "string"
        },
        {
         "name": "localizacao",
         "rawType": "object",
         "type": "string"
        },
        {
         "name": "empresa",
         "rawType": "object",
         "type": "string"
        }
       ],
       "ref": "b3e5b5a1-31fa-4b85-9b98-ff996dd0d408",
       "rows": [
        [
         "0",
         "2025",
         "Senior",
         "Tempo Integral",
         "Solutions Engineer",
         "214000",
         "USD",
         "214000",
         "US",
         "Remoto",
         "US",
         "Média"
        ],
        [
         "1",
         "2025",
         "Senior",
         "Tempo Integral",
         "Solutions Engineer",
         "136000",
         "USD",
         "136000",
         "US",
         "Remoto",
         "US",
         "Média"
        ],
        [
         "2",
         "2025",
         "Pleno",
         "Tempo Integral",
         "Data Engineer",
         "158800",
         "USD",
         "158800",
         "AU",
         "Presencial",
         "AU",
         "Média"
        ],
        [
         "3",
         "2025",
         "Pleno",
         "Tempo Integral",
         "Data Engineer",
         "139200",
         "USD",
         "139200",
         "AU",
         "Presencial",
         "AU",
         "Média"
        ],
        [
         "4",
         "2025",
         "Junior",
         "Tempo Integral",
         "Data Engineer",
         "90000",
         "USD",
         "90000",
         "US",
         "Presencial",
         "US",
         "Média"
        ]
       ],
       "shape": {
        "columns": 11,
        "rows": 5
       }
      },
      "text/html": [
       "<div>\n",
       "<style scoped>\n",
       "    .dataframe tbody tr th:only-of-type {\n",
       "        vertical-align: middle;\n",
       "    }\n",
       "\n",
       "    .dataframe tbody tr th {\n",
       "        vertical-align: top;\n",
       "    }\n",
       "\n",
       "    .dataframe thead th {\n",
       "        text-align: right;\n",
       "    }\n",
       "</style>\n",
       "<table border=\"1\" class=\"dataframe\">\n",
       "  <thead>\n",
       "    <tr style=\"text-align: right;\">\n",
       "      <th></th>\n",
       "      <th>ano</th>\n",
       "      <th>senioridade</th>\n",
       "      <th>contrato</th>\n",
       "      <th>cargo</th>\n",
       "      <th>salario</th>\n",
       "      <th>moeda</th>\n",
       "      <th>dolar</th>\n",
       "      <th>residencia</th>\n",
       "      <th>remoto</th>\n",
       "      <th>localizacao</th>\n",
       "      <th>empresa</th>\n",
       "    </tr>\n",
       "  </thead>\n",
       "  <tbody>\n",
       "    <tr>\n",
       "      <th>0</th>\n",
       "      <td>2025</td>\n",
       "      <td>Senior</td>\n",
       "      <td>Tempo Integral</td>\n",
       "      <td>Solutions Engineer</td>\n",
       "      <td>214000</td>\n",
       "      <td>USD</td>\n",
       "      <td>214000</td>\n",
       "      <td>US</td>\n",
       "      <td>Remoto</td>\n",
       "      <td>US</td>\n",
       "      <td>Média</td>\n",
       "    </tr>\n",
       "    <tr>\n",
       "      <th>1</th>\n",
       "      <td>2025</td>\n",
       "      <td>Senior</td>\n",
       "      <td>Tempo Integral</td>\n",
       "      <td>Solutions Engineer</td>\n",
       "      <td>136000</td>\n",
       "      <td>USD</td>\n",
       "      <td>136000</td>\n",
       "      <td>US</td>\n",
       "      <td>Remoto</td>\n",
       "      <td>US</td>\n",
       "      <td>Média</td>\n",
       "    </tr>\n",
       "    <tr>\n",
       "      <th>2</th>\n",
       "      <td>2025</td>\n",
       "      <td>Pleno</td>\n",
       "      <td>Tempo Integral</td>\n",
       "      <td>Data Engineer</td>\n",
       "      <td>158800</td>\n",
       "      <td>USD</td>\n",
       "      <td>158800</td>\n",
       "      <td>AU</td>\n",
       "      <td>Presencial</td>\n",
       "      <td>AU</td>\n",
       "      <td>Média</td>\n",
       "    </tr>\n",
       "    <tr>\n",
       "      <th>3</th>\n",
       "      <td>2025</td>\n",
       "      <td>Pleno</td>\n",
       "      <td>Tempo Integral</td>\n",
       "      <td>Data Engineer</td>\n",
       "      <td>139200</td>\n",
       "      <td>USD</td>\n",
       "      <td>139200</td>\n",
       "      <td>AU</td>\n",
       "      <td>Presencial</td>\n",
       "      <td>AU</td>\n",
       "      <td>Média</td>\n",
       "    </tr>\n",
       "    <tr>\n",
       "      <th>4</th>\n",
       "      <td>2025</td>\n",
       "      <td>Junior</td>\n",
       "      <td>Tempo Integral</td>\n",
       "      <td>Data Engineer</td>\n",
       "      <td>90000</td>\n",
       "      <td>USD</td>\n",
       "      <td>90000</td>\n",
       "      <td>US</td>\n",
       "      <td>Presencial</td>\n",
       "      <td>US</td>\n",
       "      <td>Média</td>\n",
       "    </tr>\n",
       "  </tbody>\n",
       "</table>\n",
       "</div>"
      ],
      "text/plain": [
       "    ano senioridade        contrato               cargo  salario moeda  \\\n",
       "0  2025      Senior  Tempo Integral  Solutions Engineer   214000   USD   \n",
       "1  2025      Senior  Tempo Integral  Solutions Engineer   136000   USD   \n",
       "2  2025       Pleno  Tempo Integral       Data Engineer   158800   USD   \n",
       "3  2025       Pleno  Tempo Integral       Data Engineer   139200   USD   \n",
       "4  2025      Junior  Tempo Integral       Data Engineer    90000   USD   \n",
       "\n",
       "    dolar residencia      remoto localizacao empresa  \n",
       "0  214000         US      Remoto          US   Média  \n",
       "1  136000         US      Remoto          US   Média  \n",
       "2  158800         AU  Presencial          AU   Média  \n",
       "3  139200         AU  Presencial          AU   Média  \n",
       "4   90000         US  Presencial          US   Média  "
      ]
     },
     "execution_count": 39,
     "metadata": {},
     "output_type": "execute_result"
    }
   ],
   "source": [
    "df_limpo.head()"
   ]
  },
  {
   "cell_type": "code",
   "execution_count": 40,
   "id": "3ec5917f",
   "metadata": {},
   "outputs": [
    {
     "data": {
      "text/plain": [
       "<Axes: title={'center': 'distribuição de senioridade'}, xlabel='senioridade'>"
      ]
     },
     "execution_count": 40,
     "metadata": {},
     "output_type": "execute_result"
    },
    {
     "data": {
      "image/png": "[encoded data removed]",
      "text/plain": [
       "<Figure size 640x480 with 1 Axes>"
      ]
     },
     "metadata": {},
     "output_type": "display_data"
    }
   ],
   "source": [
    "df_limpo['senioridade'].value_counts().plot(kind = 'bar', title = 'distribuição de senioridade')"
   ]
  },
  {
   "cell_type": "code",
   "execution_count": 41,
   "id": "32f0e971",
   "metadata": {},
   "outputs": [],
   "source": [
    "import seaborn as sns"
   ]
  },
  {
   "cell_type": "code",
   "execution_count": 42,
   "id": "4a77e4d8",
   "metadata": {},
   "outputs": [
    {
     "data": {
      "text/plain": [
       "<Axes: xlabel='senioridade', ylabel='dolar'>"
      ]
     },
     "execution_count": 42,
     "metadata": {},
     "output_type": "execute_result"
    },
    {
     "data": {
      "image/png": "[encoded data removed]",
      "text/plain": [
       "<Figure size 640x480 with 1 Axes>"
      ]
     },
     "metadata": {},
     "output_type": "display_data"
    }
   ],
   "source": [
    "sns.barplot(data=df_limpo, x='senioridade', y='dolar')"
   ]
  },
  {
   "cell_type": "code",
   "execution_count": 43,
   "id": "44a2bc77",
   "metadata": {},
   "outputs": [],
   "source": [
    "import matplotlib.pyplot as plt"
   ]
  },
  {
   "cell_type": "code",
   "execution_count": 44,
   "id": "7255ff6d",
   "metadata": {},
   "outputs": [
    {
     "data": {
      "image/png": "[encoded data removed]",
      "text/plain": [
       "<Figure size 800x500 with 1 Axes>"
      ]
     },
     "metadata": {},
     "output_type": "display_data"
    }
   ],
   "source": [
    "plt.figure(figsize=(8, 5))\n",
    "sns.barplot(data=df_limpo, x='senioridade', y='dolar')\n",
    "plt.title('Distribuição Salarial por Senioridade')\n",
    "plt.xlabel('Senioridade')\n",
    "plt.ylabel('Salário (USD)')\n",
    "plt.show()"
   ]
  },
  {
   "cell_type": "code",
   "execution_count": 45,
   "id": "41c56a99",
   "metadata": {},
   "outputs": [
    {
     "data": {
      "application/vnd.microsoft.datawrangler.viewer.v0+json": {
       "columns": [
        {
         "name": "senioridade",
         "rawType": "object",
         "type": "string"
        },
        {
         "name": "dolar",
         "rawType": "float64",
         "type": "float"
        }
       ],
       "ref": "fe8679b7-af5b-4cdd-bd31-748802a0049b",
       "rows": [
        [
         "Executive",
         "202027.6678125"
        ],
        [
         "Senior",
         "172850.83830079238"
        ],
        [
         "Pleno",
         "143044.8459789432"
        ],
        [
         "Junior",
         "99034.96326661843"
        ]
       ],
       "shape": {
        "columns": 1,
        "rows": 4
       }
      },
      "text/plain": [
       "senioridade\n",
       "Executive    202027.667813\n",
       "Senior       172850.838301\n",
       "Pleno        143044.845979\n",
       "Junior        99034.963267\n",
       "Name: dolar, dtype: float64"
      ]
     },
     "execution_count": 45,
     "metadata": {},
     "output_type": "execute_result"
    }
   ],
   "source": [
    "df_limpo.groupby('senioridade')['dolar'].mean().sort_values(ascending=False)"
   ]
  },
  {
   "cell_type": "code",
   "execution_count": 46,
   "id": "45fe1d11",
   "metadata": {},
   "outputs": [],
   "source": [
    "ordem = df_limpo.groupby('senioridade')['salario'].mean().sort_values(ascending=False).index"
   ]
  },
  {
   "cell_type": "code",
   "execution_count": 47,
   "id": "6d33942f",
   "metadata": {},
   "outputs": [
    {
     "data": {
      "image/png": "[encoded data removed]",
      "text/plain": [
       "<Figure size 800x500 with 1 Axes>"
      ]
     },
     "metadata": {},
     "output_type": "display_data"
    }
   ],
   "source": [
    "plt.figure(figsize=(8, 5))\n",
    "sns.barplot(data=df_limpo, x='senioridade', y='dolar', order=ordem)\n",
    "plt.title('Distribuição Salarial por Senioridade')\n",
    "plt.xlabel('Senioridade')\n",
    "plt.ylabel('Salário (USD)')\n",
    "plt.show()"
   ]
  },
  {
   "cell_type": "code",
   "execution_count": 48,
   "id": "1627780b",
   "metadata": {},
   "outputs": [
    {
     "data": {
      "image/png": "[encoded data removed]",
      "text/plain": [
       "<Figure size 800x400 with 1 Axes>"
      ]
     },
     "metadata": {},
     "output_type": "display_data"
    }
   ],
   "source": [
    "plt.figure(figsize=(8, 4))\n",
    "sns.histplot(df_limpo['dolar'], bins=50, kde=True)\n",
    "plt.title('Distribuição Salarial anuais')\n",
    "plt.xlabel('Salario')\n",
    "plt.ylabel('Frequência')\n",
    "plt.show()"
   ]
  },
  {
   "cell_type": "code",
   "execution_count": 49,
   "id": "424222d1",
   "metadata": {},
   "outputs": [
    {
     "data": {
      "text/plain": [
       "Text(0.5, 0, 'Salario')"
      ]
     },
     "execution_count": 49,
     "metadata": {},
     "output_type": "execute_result"
    },
    {
     "data": {
      "image/png": "[encoded data removed]",
      "text/plain": [
       "<Figure size 800x500 with 1 Axes>"
      ]
     },
     "metadata": {},
     "output_type": "display_data"
    }
   ],
   "source": [
    "plt.figure(figsize=(8, 5))\n",
    "sns.boxplot(x=df_limpo['dolar'])\n",
    "plt.title('Boxplot Salário')\n",
    "plt.xlabel('Salario')"
   ]
  },
  {
   "cell_type": "code",
   "execution_count": 50,
   "id": "a90f2354",
   "metadata": {},
   "outputs": [
    {
     "data": {
      "image/png": "[encoded data removed]",
      "text/plain": [
       "<Figure size 800x500 with 1 Axes>"
      ]
     },
     "metadata": {},
     "output_type": "display_data"
    }
   ],
   "source": [
    "ordem_senioridade = ['junior', 'pleno', 'senior', 'executive']\n",
    "\n",
    "plt.figure(figsize=(8, 5))\n",
    "sns.boxplot(x='senioridade', y='dolar', data=df_limpo, order=ordem)\n",
    "plt.title('Boxplot Salário por Senioridade')\n",
    "plt.xlabel('Salario dolar')\n",
    "plt.show()"
   ]
  },
  {
   "cell_type": "code",
   "execution_count": 51,
   "id": "adf57bcf",
   "metadata": {},
   "outputs": [
    {
     "data": {
      "image/png": "[encoded data removed]",
      "text/plain": [
       "<Figure size 800x500 with 1 Axes>"
      ]
     },
     "metadata": {},
     "output_type": "display_data"
    }
   ],
   "source": [
    "#Adicionar Cores aos Graficos\n",
    "ordem_senioridade = ['junior', 'pleno', 'senior', 'executive']\n",
    "\n",
    "plt.figure(figsize=(8, 5))\n",
    "sns.boxplot(x='senioridade', y='dolar', data=df_limpo, order=ordem, palette='Set2', hue='senioridade')\n",
    "plt.title('Boxplot Salário por Senioridade')\n",
    "plt.xlabel('Salario dolar')\n",
    "plt.show()"
   ]
  },
  {
   "cell_type": "code",
   "execution_count": 52,
   "id": "ccd1d830",
   "metadata": {},
   "outputs": [],
   "source": [
    "import plotly.express as px"
   ]
  },
  {
   "cell_type": "code",
   "execution_count": 53,
   "id": "29811859",
   "metadata": {},
   "outputs": [
    {
     "data": {
      "application/vnd.plotly.v1+json": {
       "config": {
        "plotlyServerURL": "https://plot.ly"
       },
       "data": [
        {
         "hovertemplate": "Senioridade=%{x}<br>Média Salarial (USD)=%{y}<extra></extra>",
         "legendgroup": "",
         "marker": {
          "color": "#636efa",
          "pattern": {
           "shape": ""
          }
         },
         "name": "",
         "orientation": "v",
         "showlegend": false,
         "textposition": "auto",
         "type": "bar",
         "x": [
          "Executive",
          "Senior",
          "Pleno",
          "Junior"
         ],
         "xaxis": "x",
         "y": {
          "bdata": "exSuV12pCEG8C9e0lhkFQbGbkMQmdgFB+EGKaa8t+EA=",
          "dtype": "f8"
         },
         "yaxis": "y"
        }
       ],
       "layout": {
        "barmode": "relative",
        "legend": {
         "tracegroupgap": 0
        },
        "template": {
         "data": {
          "bar": [
           {
            "error_x": {
             "color": "#2a3f5f"
            },
            "error_y": {
             "color": "#2a3f5f"
            },
            "marker": {
             "line": {
              "color": "#E5ECF6",
              "width": 0.5
             },
             "pattern": {
              "fillmode": "overlay",
              "size": 10,
              "solidity": 0.2
             }
            },
            "type": "bar"
           }
          ],
          "barpolar": [
           {
            "marker": {
             "line": {
              "color": "#E5ECF6",
              "width": 0.5
             },
             "pattern": {
              "fillmode": "overlay",
              "size": 10,
              "solidity": 0.2
             }
            },
            "type": "barpolar"
           }
          ],
          "carpet": [
           {
            "aaxis": {
             "endlinecolor": "#2a3f5f",
             "gridcolor": "white",
             "linecolor": "white",
             "minorgridcolor": "white",
             "startlinecolor": "#2a3f5f"
            },
            "baxis": {
             "endlinecolor": "#2a3f5f",
             "gridcolor": "white",
             "linecolor": "white",
             "minorgridcolor": "white",
             "startlinecolor": "#2a3f5f"
            },
            "type": "carpet"
           }
          ],
          "choropleth": [
           {
            "colorbar": {
             "outlinewidth": 0,
             "ticks": ""
            },
            "type": "choropleth"
           }
          ],
          "contour": [
           {
            "colorbar": {
             "outlinewidth": 0,
             "ticks": ""
            },
            "colorscale": [
             [
              0,
              "#0d0887"
             ],
             [
              0.1111111111111111,
              "#46039f"
             ],
             [
              0.2222222222222222,
              "#7201a8"
             ],
             [
              0.3333333333333333,
              "#9c179e"
             ],
             [
              0.4444444444444444,
              "#bd3786"
             ],
             [
              0.5555555555555556,
              "#d8576b"
             ],
             [
              0.6666666666666666,
              "#ed7953"
             ],
             [
              0.7777777777777778,
              "#fb9f3a"
             ],
             [
              0.8888888888888888,
              "#fdca26"
             ],
             [
              1,
              "#f0f921"
             ]
            ],
            "type": "contour"
           }
          ],
          "contourcarpet": [
           {
            "colorbar": {
             "outlinewidth": 0,
             "ticks": ""
            },
            "type": "contourcarpet"
           }
          ],
          "heatmap": [
           {
            "colorbar": {
             "outlinewidth": 0,
             "ticks": ""
            },
            "colorscale": [
             [
              0,
              "#0d0887"
             ],
             [
              0.1111111111111111,
              "#46039f"
             ],
             [
              0.2222222222222222,
              "#7201a8"
             ],
             [
              0.3333333333333333,
              "#9c179e"
             ],
             [
              0.4444444444444444,
              "#bd3786"
             ],
             [
              0.5555555555555556,
              "#d8576b"
             ],
             [
              0.6666666666666666,
              "#ed7953"
             ],
             [
              0.7777777777777778,
              "#fb9f3a"
             ],
             [
              0.8888888888888888,
              "#fdca26"
             ],
             [
              1,
              "#f0f921"
             ]
            ],
            "type": "heatmap"
           }
          ],
          "histogram": [
           {
            "marker": {
             "pattern": {
              "fillmode": "overlay",
              "size": 10,
              "solidity": 0.2
             }
            },
            "type": "histogram"
           }
          ],
          "histogram2d": [
           {
            "colorbar": {
             "outlinewidth": 0,
             "ticks": ""
            },
            "colorscale": [
             [
              0,
              "#0d0887"
             ],
             [
              0.1111111111111111,
              "#46039f"
             ],
             [
              0.2222222222222222,
              "#7201a8"
             ],
             [
              0.3333333333333333,
              "#9c179e"
             ],
             [
              0.4444444444444444,
              "#bd3786"
             ],
             [
              0.5555555555555556,
              "#d8576b"
             ],
             [
              0.6666666666666666,
              "#ed7953"
             ],
             [
              0.7777777777777778,
              "#fb9f3a"
             ],
             [
              0.8888888888888888,
              "#fdca26"
             ],
             [
              1,
              "#f0f921"
             ]
            ],
            "type": "histogram2d"
           }
          ],
          "histogram2dcontour": [
           {
            "colorbar": {
             "outlinewidth": 0,
             "ticks": ""
            },
            "colorscale": [
             [
              0,
              "#0d0887"
             ],
             [
              0.1111111111111111,
              "#46039f"
             ],
             [
              0.2222222222222222,
              "#7201a8"
             ],
             [
              0.3333333333333333,
              "#9c179e"
             ],
             [
              0.4444444444444444,
              "#bd3786"
             ],
             [
              0.5555555555555556,
              "#d8576b"
             ],
             [
              0.6666666666666666,
              "#ed7953"
             ],
             [
              0.7777777777777778,
              "#fb9f3a"
             ],
             [
              0.8888888888888888,
              "#fdca26"
             ],
             [
              1,
              "#f0f921"
             ]
            ],
            "type": "histogram2dcontour"
           }
          ],
          "mesh3d": [
           {
            "colorbar": {
             "outlinewidth": 0,
             "ticks": ""
            },
            "type": "mesh3d"
           }
          ],
          "parcoords": [
           {
            "line": {
             "colorbar": {
              "outlinewidth": 0,
              "ticks": ""
             }
            },
            "type": "parcoords"
           }
          ],
          "pie": [
           {
            "automargin": true,
            "type": "pie"
           }
          ],
          "scatter": [
           {
            "fillpattern": {
             "fillmode": "overlay",
             "size": 10,
             "solidity": 0.2
            },
            "type": "scatter"
           }
          ],
          "scatter3d": [
           {
            "line": {
             "colorbar": {
              "outlinewidth": 0,
              "ticks": ""
             }
            },
            "marker": {
             "colorbar": {
              "outlinewidth": 0,
              "ticks": ""
             }
            },
            "type": "scatter3d"
           }
          ],
          "scattercarpet": [
           {
            "marker": {
             "colorbar": {
              "outlinewidth": 0,
              "ticks": ""
             }
            },
            "type": "scattercarpet"
           }
          ],
          "scattergeo": [
           {
            "marker": {
             "colorbar": {
              "outlinewidth": 0,
              "ticks": ""
             }
            },
            "type": "scattergeo"
           }
          ],
          "scattergl": [
           {
            "marker": {
             "colorbar": {
              "outlinewidth": 0,
              "ticks": ""
             }
            },
            "type": "scattergl"
           }
          ],
          "scattermap": [
           {
            "marker": {
             "colorbar": {
              "outlinewidth": 0,
              "ticks": ""
             }
            },
            "type": "scattermap"
           }
          ],
          "scattermapbox": [
           {
            "marker": {
             "colorbar": {
              "outlinewidth": 0,
              "ticks": ""
             }
            },
            "type": "scattermapbox"
           }
          ],
          "scatterpolar": [
           {
            "marker": {
             "colorbar": {
              "outlinewidth": 0,
              "ticks": ""
             }
            },
            "type": "scatterpolar"
           }
          ],
          "scatterpolargl": [
           {
            "marker": {
             "colorbar": {
              "outlinewidth": 0,
              "ticks": ""
             }
            },
            "type": "scatterpolargl"
           }
          ],
          "scatterternary": [
           {
            "marker": {
             "colorbar": {
              "outlinewidth": 0,
              "ticks": ""
             }
            },
            "type": "scatterternary"
           }
          ],
          "surface": [
           {
            "colorbar": {
             "outlinewidth": 0,
             "ticks": ""
            },
            "colorscale": [
             [
              0,
              "#0d0887"
             ],
             [
              0.1111111111111111,
              "#46039f"
             ],
             [
              0.2222222222222222,
              "#7201a8"
             ],
             [
              0.3333333333333333,
              "#9c179e"
             ],
             [
              0.4444444444444444,
              "#bd3786"
             ],
             [
              0.5555555555555556,
              "#d8576b"
             ],
             [
              0.6666666666666666,
              "#ed7953"
             ],
             [
              0.7777777777777778,
              "#fb9f3a"
             ],
             [
              0.8888888888888888,
              "#fdca26"
             ],
             [
              1,
              "#f0f921"
             ]
            ],
            "type": "surface"
           }
          ],
          "table": [
           {
            "cells": {
             "fill": {
              "color": "#EBF0F8"
             },
             "line": {
              "color": "white"
             }
            },
            "header": {
             "fill": {
              "color": "#C8D4E3"
             },
             "line": {
              "color": "white"
             }
            },
            "type": "table"
           }
          ]
         },
         "layout": {
          "annotationdefaults": {
           "arrowcolor": "#2a3f5f",
           "arrowhead": 0,
           "arrowwidth": 1
          },
          "autotypenumbers": "strict",
          "coloraxis": {
           "colorbar": {
            "outlinewidth": 0,
            "ticks": ""
           }
          },
          "colorscale": {
           "diverging": [
            [
             0,
             "#8e0152"
            ],
            [
             0.1,
             "#c51b7d"
            ],
            [
             0.2,
             "#de77ae"
            ],
            [
             0.3,
             "#f1b6da"
            ],
            [
             0.4,
             "#fde0ef"
            ],
            [
             0.5,
             "#f7f7f7"
            ],
            [
             0.6,
             "#e6f5d0"
            ],
            [
             0.7,
             "#b8e186"
            ],
            [
             0.8,
             "#7fbc41"
            ],
            [
             0.9,
             "#4d9221"
            ],
            [
             1,
             "#276419"
            ]
           ],
           "sequential": [
            [
             0,
             "#0d0887"
            ],
            [
             0.1111111111111111,
             "#46039f"
            ],
            [
             0.2222222222222222,
             "#7201a8"
            ],
            [
             0.3333333333333333,
             "#9c179e"
            ],
            [
             0.4444444444444444,
             "#bd3786"
            ],
            [
             0.5555555555555556,
             "#d8576b"
            ],
            [
             0.6666666666666666,
             "#ed7953"
            ],
            [
             0.7777777777777778,
             "#fb9f3a"
            ],
            [
             0.8888888888888888,
             "#fdca26"
            ],
            [
             1,
             "#f0f921"
            ]
           ],
           "sequentialminus": [
            [
             0,
             "#0d0887"
            ],
            [
             0.1111111111111111,
             "#46039f"
            ],
            [
             0.2222222222222222,
             "#7201a8"
            ],
            [
             0.3333333333333333,
             "#9c179e"
            ],
            [
             0.4444444444444444,
             "#bd3786"
            ],
            [
             0.5555555555555556,
             "#d8576b"
            ],
            [
             0.6666666666666666,
             "#ed7953"
            ],
            [
             0.7777777777777778,
             "#fb9f3a"
            ],
            [
             0.8888888888888888,
             "#fdca26"
            ],
            [
             1,
             "#f0f921"
            ]
           ]
          },
          "colorway": [
           "#636efa",
           "#EF553B",
           "#00cc96",
           "#ab63fa",
           "#FFA15A",
           "#19d3f3",
           "#FF6692",
           "#B6E880",
           "#FF97FF",
           "#FECB52"
          ],
          "font": {
           "color": "#2a3f5f"
          },
          "geo": {
           "bgcolor": "white",
           "lakecolor": "white",
           "landcolor": "#E5ECF6",
           "showlakes": true,
           "showland": true,
           "subunitcolor": "white"
          },
          "hoverlabel": {
           "align": "left"
          },
          "hovermode": "closest",
          "mapbox": {
           "style": "light"
          },
          "paper_bgcolor": "white",
          "plot_bgcolor": "#E5ECF6",
          "polar": {
           "angularaxis": {
            "gridcolor": "white",
            "linecolor": "white",
            "ticks": ""
           },
           "bgcolor": "#E5ECF6",
           "radialaxis": {
            "gridcolor": "white",
            "linecolor": "white",
            "ticks": ""
           }
          },
          "scene": {
           "xaxis": {
            "backgroundcolor": "#E5ECF6",
            "gridcolor": "white",
            "gridwidth": 2,
            "linecolor": "white",
            "showbackground": true,
            "ticks": "",
            "zerolinecolor": "white"
           },
           "yaxis": {
            "backgroundcolor": "#E5ECF6",
            "gridcolor": "white",
            "gridwidth": 2,
            "linecolor": "white",
            "showbackground": true,
            "ticks": "",
            "zerolinecolor": "white"
           },
           "zaxis": {
            "backgroundcolor": "#E5ECF6",
            "gridcolor": "white",
            "gridwidth": 2,
            "linecolor": "white",
            "showbackground": true,
            "ticks": "",
            "zerolinecolor": "white"
           }
          },
          "shapedefaults": {
           "line": {
            "color": "#2a3f5f"
           }
          },
          "ternary": {
           "aaxis": {
            "gridcolor": "white",
            "linecolor": "white",
            "ticks": ""
           },
           "baxis": {
            "gridcolor": "white",
            "linecolor": "white",
            "ticks": ""
           },
           "bgcolor": "#E5ECF6",
           "caxis": {
            "gridcolor": "white",
            "linecolor": "white",
            "ticks": ""
           }
          },
          "title": {
           "x": 0.05
          },
          "xaxis": {
           "automargin": true,
           "gridcolor": "white",
           "linecolor": "white",
           "ticks": "",
           "title": {
            "standoff": 15
           },
           "zerolinecolor": "white",
           "zerolinewidth": 2
          },
          "yaxis": {
           "automargin": true,
           "gridcolor": "white",
           "linecolor": "white",
           "ticks": "",
           "title": {
            "standoff": 15
           },
           "zerolinecolor": "white",
           "zerolinewidth": 2
          }
         }
        },
        "title": {
         "text": "Média Salarial por Senioridade"
        },
        "xaxis": {
         "anchor": "y",
         "domain": [
          0,
          1
         ],
         "title": {
          "text": "Senioridade"
         }
        },
        "yaxis": {
         "anchor": "x",
         "domain": [
          0,
          1
         ],
         "title": {
          "text": "Média Salarial (USD)"
         }
        }
       }
      }
     },
     "metadata": {},
     "output_type": "display_data"
    }
   ],
   "source": [
    "df_agrupado = df_limpo.groupby('senioridade')['dolar'].mean().sort_values(ascending=False).reset_index()\n",
    "fig = px.bar(df_agrupado, x='senioridade', y='dolar',\n",
    "             title='Média Salarial por Senioridade',\n",
    "             labels={'dolar': 'Média Salarial (USD)', 'senioridade': 'Senioridade'})\n",
    "fig.show()"
   ]
  },
  {
   "cell_type": "code",
   "execution_count": 54,
   "id": "06714f31",
   "metadata": {},
   "outputs": [
    {
     "data": {
      "application/vnd.plotly.v1+json": {
       "config": {
        "plotlyServerURL": "https://plot.ly"
       },
       "data": [
        {
         "domain": {
          "x": [
           0,
           1
          ],
          "y": [
           0,
           1
          ]
         },
         "hole": 0.5,
         "hovertemplate": "remoto=%{label}<br>quantidade=%{value}<extra></extra>",
         "labels": [
          "Presencial",
          "Remoto",
          "Híbrido"
         ],
         "legendgroup": "",
         "name": "",
         "showlegend": true,
         "textinfo": "percent+label",
         "type": "pie",
         "values": {
          "bdata": "WZsBAERsAAA+AQAA",
          "dtype": "i4"
         }
        }
       ],
       "layout": {
        "legend": {
         "tracegroupgap": 0
        },
        "template": {
         "data": {
          "bar": [
           {
            "error_x": {
             "color": "#2a3f5f"
            },
            "error_y": {
             "color": "#2a3f5f"
            },
            "marker": {
             "line": {
              "color": "#E5ECF6",
              "width": 0.5
             },
             "pattern": {
              "fillmode": "overlay",
              "size": 10,
              "solidity": 0.2
             }
            },
            "type": "bar"
           }
          ],
          "barpolar": [
           {
            "marker": {
             "line": {
              "color": "#E5ECF6",
              "width": 0.5
             },
             "pattern": {
              "fillmode": "overlay",
              "size": 10,
              "solidity": 0.2
             }
            },
            "type": "barpolar"
           }
          ],
          "carpet": [
           {
            "aaxis": {
             "endlinecolor": "#2a3f5f",
             "gridcolor": "white",
             "linecolor": "white",
             "minorgridcolor": "white",
             "startlinecolor": "#2a3f5f"
            },
            "baxis": {
             "endlinecolor": "#2a3f5f",
             "gridcolor": "white",
             "linecolor": "white",
             "minorgridcolor": "white",
             "startlinecolor": "#2a3f5f"
            },
            "type": "carpet"
           }
          ],
          "choropleth": [
           {
            "colorbar": {
             "outlinewidth": 0,
             "ticks": ""
            },
            "type": "choropleth"
           }
          ],
          "contour": [
           {
            "colorbar": {
             "outlinewidth": 0,
             "ticks": ""
            },
            "colorscale": [
             [
              0,
              "#0d0887"
             ],
             [
              0.1111111111111111,
              "#46039f"
             ],
             [
              0.2222222222222222,
              "#7201a8"
             ],
             [
              0.3333333333333333,
              "#9c179e"
             ],
             [
              0.4444444444444444,
              "#bd3786"
             ],
             [
              0.5555555555555556,
              "#d8576b"
             ],
             [
              0.6666666666666666,
              "#ed7953"
             ],
             [
              0.7777777777777778,
              "#fb9f3a"
             ],
             [
              0.8888888888888888,
              "#fdca26"
             ],
             [
              1,
              "#f0f921"
             ]
            ],
            "type": "contour"
           }
          ],
          "contourcarpet": [
           {
            "colorbar": {
             "outlinewidth": 0,
             "ticks": ""
            },
            "type": "contourcarpet"
           }
          ],
          "heatmap": [
           {
            "colorbar": {
             "outlinewidth": 0,
             "ticks": ""
            },
            "colorscale": [
             [
              0,
              "#0d0887"
             ],
             [
              0.1111111111111111,
              "#46039f"
             ],
             [
              0.2222222222222222,
              "#7201a8"
             ],
             [
              0.3333333333333333,
              "#9c179e"
             ],
             [
              0.4444444444444444,
              "#bd3786"
             ],
             [
              0.5555555555555556,
              "#d8576b"
             ],
             [
              0.6666666666666666,
              "#ed7953"
             ],
             [
              0.7777777777777778,
              "#fb9f3a"
             ],
             [
              0.8888888888888888,
              "#fdca26"
             ],
             [
              1,
              "#f0f921"
             ]
            ],
            "type": "heatmap"
           }
          ],
          "histogram": [
           {
            "marker": {
             "pattern": {
              "fillmode": "overlay",
              "size": 10,
              "solidity": 0.2
             }
            },
            "type": "histogram"
           }
          ],
          "histogram2d": [
           {
            "colorbar": {
             "outlinewidth": 0,
             "ticks": ""
            },
            "colorscale": [
             [
              0,
              "#0d0887"
             ],
             [
              0.1111111111111111,
              "#46039f"
             ],
             [
              0.2222222222222222,
              "#7201a8"
             ],
             [
              0.3333333333333333,
              "#9c179e"
             ],
             [
              0.4444444444444444,
              "#bd3786"
             ],
             [
              0.5555555555555556,
              "#d8576b"
             ],
             [
              0.6666666666666666,
              "#ed7953"
             ],
             [
              0.7777777777777778,
              "#fb9f3a"
             ],
             [
              0.8888888888888888,
              "#fdca26"
             ],
             [
              1,
              "#f0f921"
             ]
            ],
            "type": "histogram2d"
           }
          ],
          "histogram2dcontour": [
           {
            "colorbar": {
             "outlinewidth": 0,
             "ticks": ""
            },
            "colorscale": [
             [
              0,
              "#0d0887"
             ],
             [
              0.1111111111111111,
              "#46039f"
             ],
             [
              0.2222222222222222,
              "#7201a8"
             ],
             [
              0.3333333333333333,
              "#9c179e"
             ],
             [
              0.4444444444444444,
              "#bd3786"
             ],
             [
              0.5555555555555556,
              "#d8576b"
             ],
             [
              0.6666666666666666,
              "#ed7953"
             ],
             [
              0.7777777777777778,
              "#fb9f3a"
             ],
             [
              0.8888888888888888,
              "#fdca26"
             ],
             [
              1,
              "#f0f921"
             ]
            ],
            "type": "histogram2dcontour"
           }
          ],
          "mesh3d": [
           {
            "colorbar": {
             "outlinewidth": 0,
             "ticks": ""
            },
            "type": "mesh3d"
           }
          ],
          "parcoords": [
           {
            "line": {
             "colorbar": {
              "outlinewidth": 0,
              "ticks": ""
             }
            },
            "type": "parcoords"
           }
          ],
          "pie": [
           {
            "automargin": true,
            "type": "pie"
           }
          ],
          "scatter": [
           {
            "fillpattern": {
             "fillmode": "overlay",
             "size": 10,
             "solidity": 0.2
            },
            "type": "scatter"
           }
          ],
          "scatter3d": [
           {
            "line": {
             "colorbar": {
              "outlinewidth": 0,
              "ticks": ""
             }
            },
            "marker": {
             "colorbar": {
              "outlinewidth": 0,
              "ticks": ""
             }
            },
            "type": "scatter3d"
           }
          ],
          "scattercarpet": [
           {
            "marker": {
             "colorbar": {
              "outlinewidth": 0,
              "ticks": ""
             }
            },
            "type": "scattercarpet"
           }
          ],
          "scattergeo": [
           {
            "marker": {
             "colorbar": {
              "outlinewidth": 0,
              "ticks": ""
             }
            },
            "type": "scattergeo"
           }
          ],
          "scattergl": [
           {
            "marker": {
             "colorbar": {
              "outlinewidth": 0,
              "ticks": ""
             }
            },
            "type": "scattergl"
           }
          ],
          "scattermap": [
           {
            "marker": {
             "colorbar": {
              "outlinewidth": 0,
              "ticks": ""
             }
            },
            "type": "scattermap"
           }
          ],
          "scattermapbox": [
           {
            "marker": {
             "colorbar": {
              "outlinewidth": 0,
              "ticks": ""
             }
            },
            "type": "scattermapbox"
           }
          ],
          "scatterpolar": [
           {
            "marker": {
             "colorbar": {
              "outlinewidth": 0,
              "ticks": ""
             }
            },
            "type": "scatterpolar"
           }
          ],
          "scatterpolargl": [
           {
            "marker": {
             "colorbar": {
              "outlinewidth": 0,
              "ticks": ""
             }
            },
            "type": "scatterpolargl"
           }
          ],
          "scatterternary": [
           {
            "marker": {
             "colorbar": {
              "outlinewidth": 0,
              "ticks": ""
             }
            },
            "type": "scatterternary"
           }
          ],
          "surface": [
           {
            "colorbar": {
             "outlinewidth": 0,
             "ticks": ""
            },
            "colorscale": [
             [
              0,
              "#0d0887"
             ],
             [
              0.1111111111111111,
              "#46039f"
             ],
             [
              0.2222222222222222,
              "#7201a8"
             ],
             [
              0.3333333333333333,
              "#9c179e"
             ],
             [
              0.4444444444444444,
              "#bd3786"
             ],
             [
              0.5555555555555556,
              "#d8576b"
             ],
             [
              0.6666666666666666,
              "#ed7953"
             ],
             [
              0.7777777777777778,
              "#fb9f3a"
             ],
             [
              0.8888888888888888,
              "#fdca26"
             ],
             [
              1,
              "#f0f921"
             ]
            ],
            "type": "surface"
           }
          ],
          "table": [
           {
            "cells": {
             "fill": {
              "color": "#EBF0F8"
             },
             "line": {
              "color": "white"
             }
            },
            "header": {
             "fill": {
              "color": "#C8D4E3"
             },
             "line": {
              "color": "white"
             }
            },
            "type": "table"
           }
          ]
         },
         "layout": {
          "annotationdefaults": {
           "arrowcolor": "#2a3f5f",
           "arrowhead": 0,
           "arrowwidth": 1
          },
          "autotypenumbers": "strict",
          "coloraxis": {
           "colorbar": {
            "outlinewidth": 0,
            "ticks": ""
           }
          },
          "colorscale": {
           "diverging": [
            [
             0,
             "#8e0152"
            ],
            [
             0.1,
             "#c51b7d"
            ],
            [
             0.2,
             "#de77ae"
            ],
            [
             0.3,
             "#f1b6da"
            ],
            [
             0.4,
             "#fde0ef"
            ],
            [
             0.5,
             "#f7f7f7"
            ],
            [
             0.6,
             "#e6f5d0"
            ],
            [
             0.7,
             "#b8e186"
            ],
            [
             0.8,
             "#7fbc41"
            ],
            [
             0.9,
             "#4d9221"
            ],
            [
             1,
             "#276419"
            ]
           ],
           "sequential": [
            [
             0,
             "#0d0887"
            ],
            [
             0.1111111111111111,
             "#46039f"
            ],
            [
             0.2222222222222222,
             "#7201a8"
            ],
            [
             0.3333333333333333,
             "#9c179e"
            ],
            [
             0.4444444444444444,
             "#bd3786"
            ],
            [
             0.5555555555555556,
             "#d8576b"
            ],
            [
             0.6666666666666666,
             "#ed7953"
            ],
            [
             0.7777777777777778,
             "#fb9f3a"
            ],
            [
             0.8888888888888888,
             "#fdca26"
            ],
            [
             1,
             "#f0f921"
            ]
           ],
           "sequentialminus": [
            [
             0,
             "#0d0887"
            ],
            [
             0.1111111111111111,
             "#46039f"
            ],
            [
             0.2222222222222222,
             "#7201a8"
            ],
            [
             0.3333333333333333,
             "#9c179e"
            ],
            [
             0.4444444444444444,
             "#bd3786"
            ],
            [
             0.5555555555555556,
             "#d8576b"
            ],
            [
             0.6666666666666666,
             "#ed7953"
            ],
            [
             0.7777777777777778,
             "#fb9f3a"
            ],
            [
             0.8888888888888888,
             "#fdca26"
            ],
            [
             1,
             "#f0f921"
            ]
           ]
          },
          "colorway": [
           "#636efa",
           "#EF553B",
           "#00cc96",
           "#ab63fa",
           "#FFA15A",
           "#19d3f3",
           "#FF6692",
           "#B6E880",
           "#FF97FF",
           "#FECB52"
          ],
          "font": {
           "color": "#2a3f5f"
          },
          "geo": {
           "bgcolor": "white",
           "lakecolor": "white",
           "landcolor": "#E5ECF6",
           "showlakes": true,
           "showland": true,
           "subunitcolor": "white"
          },
          "hoverlabel": {
           "align": "left"
          },
          "hovermode": "closest",
          "mapbox": {
           "style": "light"
          },
          "paper_bgcolor": "white",
          "plot_bgcolor": "#E5ECF6",
          "polar": {
           "angularaxis": {
            "gridcolor": "white",
            "linecolor": "white",
            "ticks": ""
           },
           "bgcolor": "#E5ECF6",
           "radialaxis": {
            "gridcolor": "white",
            "linecolor": "white",
            "ticks": ""
           }
          },
          "scene": {
           "xaxis": {
            "backgroundcolor": "#E5ECF6",
            "gridcolor": "white",
            "gridwidth": 2,
            "linecolor": "white",
            "showbackground": true,
            "ticks": "",
            "zerolinecolor": "white"
           },
           "yaxis": {
            "backgroundcolor": "#E5ECF6",
            "gridcolor": "white",
            "gridwidth": 2,
            "linecolor": "white",
            "showbackground": true,
            "ticks": "",
            "zerolinecolor": "white"
           },
           "zaxis": {
            "backgroundcolor": "#E5ECF6",
            "gridcolor": "white",
            "gridwidth": 2,
            "linecolor": "white",
            "showbackground": true,
            "ticks": "",
            "zerolinecolor": "white"
           }
          },
          "shapedefaults": {
           "line": {
            "color": "#2a3f5f"
           }
          },
          "ternary": {
           "aaxis": {
            "gridcolor": "white",
            "linecolor": "white",
            "ticks": ""
           },
           "baxis": {
            "gridcolor": "white",
            "linecolor": "white",
            "ticks": ""
           },
           "bgcolor": "#E5ECF6",
           "caxis": {
            "gridcolor": "white",
            "linecolor": "white",
            "ticks": ""
           }
          },
          "title": {
           "x": 0.05
          },
          "xaxis": {
           "automargin": true,
           "gridcolor": "white",
           "linecolor": "white",
           "ticks": "",
           "title": {
            "standoff": 15
           },
           "zerolinecolor": "white",
           "zerolinewidth": 2
          },
          "yaxis": {
           "automargin": true,
           "gridcolor": "white",
           "linecolor": "white",
           "ticks": "",
           "title": {
            "standoff": 15
           },
           "zerolinecolor": "white",
           "zerolinewidth": 2
          }
         }
        },
        "title": {
         "text": "Proporção dos tipos de trabalho"
        }
       }
      }
     },
     "metadata": {},
     "output_type": "display_data"
    }
   ],
   "source": [
    "remoto_contagem = df_limpo['remoto'].value_counts().reset_index()\n",
    "remoto_contagem.columns = ['remoto', 'quantidade']\n",
    "\n",
    "fig = px.pie(remoto_contagem,\n",
    "             names='remoto',\n",
    "             values='quantidade',\n",
    "             title='Proporção dos tipos de trabalho',\n",
    "             hole=0.5)\n",
    "fig.update_traces(textinfo='percent+label')\n",
    "fig.show()"
   ]
  },
  {
   "cell_type": "markdown",
   "id": "5ca008de",
   "metadata": {},
   "source": [
    "### Desafio Aula 3"
   ]
  },
  {
   "cell_type": "markdown",
   "id": "8bcd31a3",
   "metadata": {},
   "source": [
    "O objetivo é descobrir como a média salarial para o cargo de Cientista de Dados (conhecido como \"Data Scientist\") se comporta em diferentes países e mostre o salário médio por país  na base original.\n",
    "\n",
    "\n"
   ]
  },
  {
   "cell_type": "code",
   "execution_count": 55,
   "id": "96c9c4b0",
   "metadata": {},
   "outputs": [
    {
     "data": {
      "application/vnd.plotly.v1+json": {
       "config": {
        "plotlyServerURL": "https://plot.ly"
       },
       "data": [
        {
         "hovertemplate": "País de Residência=%{x}<br>Salário Médio Anual (Dólar)=%{y}<extra></extra>",
         "legendgroup": "",
         "marker": {
          "color": "#636efa",
          "pattern": {
           "shape": ""
          }
         },
         "name": "",
         "orientation": "v",
         "showlegend": false,
         "textposition": "auto",
         "type": "bar",
         "x": [
          "US",
          "SG",
          "BG",
          "CH",
          "EG",
          "CA",
          "MX",
          "NZ",
          "JP",
          "AU",
          "IT",
          "DO",
          "DZ",
          "KR",
          "DE",
          "FR",
          "IE",
          "PT",
          "NO",
          "SE",
          "GB",
          "UA",
          "PH",
          "BR",
          "PL",
          "UZ",
          "NL",
          "CL",
          "BE",
          "RU",
          "HK",
          "CY",
          "LT",
          "LV",
          "AD",
          "AT",
          "NG",
          "KE",
          "ES",
          "TR",
          "ZA",
          "FI",
          "IN",
          "GR",
          "AR",
          "EE",
          "RO",
          "SK",
          "TH",
          "RS",
          "HU",
          "PK",
          "TW",
          "EC"
         ],
         "xaxis": "x",
         "y": {
          "bdata": "B3Ly9JPfA0G3bdu2VZ4CQQAAAACgnQJBVVVVVQWWAkFddNFFlywBQXrZyuA/JwFBVVVVVZUlAUEAAAAAHAP+QKuqqqpquv1AAAAAAOBj+0BVVVVVkTL7QAAAAAAA2/pAAAAAAABq+EAAAAAAgDz4QJjHVgTdhfZAXx5bEeQv9kALWchClsP1QAAAAACEs/VAAAAAAOCY9UAAAAAAWEf1QHiuTvaAD/VAAAAAAIDA9EAAAAAAAMTyQLrooouO//FA5DiO46jv8UAAAAAAgNLxQAAAAABvG/FAAAAAACDu8EAAAAAAbE7wQAAAAABAPPBAAAAAAEDE70AAAAAAoBrvQAAAAABApe5AAAAAABAf7kAAAAAAIMfoQO/LYyvClOhAAAAAAABq6EAAAAAAAGroQIqd2ImtquZAAAAAAGD75UAAAAAA+OjlQAAAAABgS+VARERERATk5EBVVVVVddfkQAAAAAAAguRAAAAAAACI40AAAAAAAIfjQJqZmZmZzt1AAAAAAEBT2kAAAAAAAO/YQAAAAADwX9dAAAAAAACC1EAAAAAAoODQQAAAAAAAQM9A",
          "dtype": "f8"
         },
         "yaxis": "y"
        }
       ],
       "layout": {
        "barmode": "relative",
        "legend": {
         "tracegroupgap": 0
        },
        "template": {
         "data": {
          "bar": [
           {
            "error_x": {
             "color": "#2a3f5f"
            },
            "error_y": {
             "color": "#2a3f5f"
            },
            "marker": {
             "line": {
              "color": "#E5ECF6",
              "width": 0.5
             },
             "pattern": {
              "fillmode": "overlay",
              "size": 10,
              "solidity": 0.2
             }
            },
            "type": "bar"
           }
          ],
          "barpolar": [
           {
            "marker": {
             "line": {
              "color": "#E5ECF6",
              "width": 0.5
             },
             "pattern": {
              "fillmode": "overlay",
              "size": 10,
              "solidity": 0.2
             }
            },
            "type": "barpolar"
           }
          ],
          "carpet": [
           {
            "aaxis": {
             "endlinecolor": "#2a3f5f",
             "gridcolor": "white",
             "linecolor": "white",
             "minorgridcolor": "white",
             "startlinecolor": "#2a3f5f"
            },
            "baxis": {
             "endlinecolor": "#2a3f5f",
             "gridcolor": "white",
             "linecolor": "white",
             "minorgridcolor": "white",
             "startlinecolor": "#2a3f5f"
            },
            "type": "carpet"
           }
          ],
          "choropleth": [
           {
            "colorbar": {
             "outlinewidth": 0,
             "ticks": ""
            },
            "type": "choropleth"
           }
          ],
          "contour": [
           {
            "colorbar": {
             "outlinewidth": 0,
             "ticks": ""
            },
            "colorscale": [
             [
              0,
              "#0d0887"
             ],
             [
              0.1111111111111111,
              "#46039f"
             ],
             [
              0.2222222222222222,
              "#7201a8"
             ],
             [
              0.3333333333333333,
              "#9c179e"
             ],
             [
              0.4444444444444444,
              "#bd3786"
             ],
             [
              0.5555555555555556,
              "#d8576b"
             ],
             [
              0.6666666666666666,
              "#ed7953"
             ],
             [
              0.7777777777777778,
              "#fb9f3a"
             ],
             [
              0.8888888888888888,
              "#fdca26"
             ],
             [
              1,
              "#f0f921"
             ]
            ],
            "type": "contour"
           }
          ],
          "contourcarpet": [
           {
            "colorbar": {
             "outlinewidth": 0,
             "ticks": ""
            },
            "type": "contourcarpet"
           }
          ],
          "heatmap": [
           {
            "colorbar": {
             "outlinewidth": 0,
             "ticks": ""
            },
            "colorscale": [
             [
              0,
              "#0d0887"
             ],
             [
              0.1111111111111111,
              "#46039f"
             ],
             [
              0.2222222222222222,
              "#7201a8"
             ],
             [
              0.3333333333333333,
              "#9c179e"
             ],
             [
              0.4444444444444444,
              "#bd3786"
             ],
             [
              0.5555555555555556,
              "#d8576b"
             ],
             [
              0.6666666666666666,
              "#ed7953"
             ],
             [
              0.7777777777777778,
              "#fb9f3a"
             ],
             [
              0.8888888888888888,
              "#fdca26"
             ],
             [
              1,
              "#f0f921"
             ]
            ],
            "type": "heatmap"
           }
          ],
          "histogram": [
           {
            "marker": {
             "pattern": {
              "fillmode": "overlay",
              "size": 10,
              "solidity": 0.2
             }
            },
            "type": "histogram"
           }
          ],
          "histogram2d": [
           {
            "colorbar": {
             "outlinewidth": 0,
             "ticks": ""
            },
            "colorscale": [
             [
              0,
              "#0d0887"
             ],
             [
              0.1111111111111111,
              "#46039f"
             ],
             [
              0.2222222222222222,
              "#7201a8"
             ],
             [
              0.3333333333333333,
              "#9c179e"
             ],
             [
              0.4444444444444444,
              "#bd3786"
             ],
             [
              0.5555555555555556,
              "#d8576b"
             ],
             [
              0.6666666666666666,
              "#ed7953"
             ],
             [
              0.7777777777777778,
              "#fb9f3a"
             ],
             [
              0.8888888888888888,
              "#fdca26"
             ],
             [
              1,
              "#f0f921"
             ]
            ],
            "type": "histogram2d"
           }
          ],
          "histogram2dcontour": [
           {
            "colorbar": {
             "outlinewidth": 0,
             "ticks": ""
            },
            "colorscale": [
             [
              0,
              "#0d0887"
             ],
             [
              0.1111111111111111,
              "#46039f"
             ],
             [
              0.2222222222222222,
              "#7201a8"
             ],
             [
              0.3333333333333333,
              "#9c179e"
             ],
             [
              0.4444444444444444,
              "#bd3786"
             ],
             [
              0.5555555555555556,
              "#d8576b"
             ],
             [
              0.6666666666666666,
              "#ed7953"
             ],
             [
              0.7777777777777778,
              "#fb9f3a"
             ],
             [
              0.8888888888888888,
              "#fdca26"
             ],
             [
              1,
              "#f0f921"
             ]
            ],
            "type": "histogram2dcontour"
           }
          ],
          "mesh3d": [
           {
            "colorbar": {
             "outlinewidth": 0,
             "ticks": ""
            },
            "type": "mesh3d"
           }
          ],
          "parcoords": [
           {
            "line": {
             "colorbar": {
              "outlinewidth": 0,
              "ticks": ""
             }
            },
            "type": "parcoords"
           }
          ],
          "pie": [
           {
            "automargin": true,
            "type": "pie"
           }
          ],
          "scatter": [
           {
            "fillpattern": {
             "fillmode": "overlay",
             "size": 10,
             "solidity": 0.2
            },
            "type": "scatter"
           }
          ],
          "scatter3d": [
           {
            "line": {
             "colorbar": {
              "outlinewidth": 0,
              "ticks": ""
             }
            },
            "marker": {
             "colorbar": {
              "outlinewidth": 0,
              "ticks": ""
             }
            },
            "type": "scatter3d"
           }
          ],
          "scattercarpet": [
           {
            "marker": {
             "colorbar": {
              "outlinewidth": 0,
              "ticks": ""
             }
            },
            "type": "scattercarpet"
           }
          ],
          "scattergeo": [
           {
            "marker": {
             "colorbar": {
              "outlinewidth": 0,
              "ticks": ""
             }
            },
            "type": "scattergeo"
           }
          ],
          "scattergl": [
           {
            "marker": {
             "colorbar": {
              "outlinewidth": 0,
              "ticks": ""
             }
            },
            "type": "scattergl"
           }
          ],
          "scattermap": [
           {
            "marker": {
             "colorbar": {
              "outlinewidth": 0,
              "ticks": ""
             }
            },
            "type": "scattermap"
           }
          ],
          "scattermapbox": [
           {
            "marker": {
             "colorbar": {
              "outlinewidth": 0,
              "ticks": ""
             }
            },
            "type": "scattermapbox"
           }
          ],
          "scatterpolar": [
           {
            "marker": {
             "colorbar": {
              "outlinewidth": 0,
              "ticks": ""
             }
            },
            "type": "scatterpolar"
           }
          ],
          "scatterpolargl": [
           {
            "marker": {
             "colorbar": {
              "outlinewidth": 0,
              "ticks": ""
             }
            },
            "type": "scatterpolargl"
           }
          ],
          "scatterternary": [
           {
            "marker": {
             "colorbar": {
              "outlinewidth": 0,
              "ticks": ""
             }
            },
            "type": "scatterternary"
           }
          ],
          "surface": [
           {
            "colorbar": {
             "outlinewidth": 0,
             "ticks": ""
            },
            "colorscale": [
             [
              0,
              "#0d0887"
             ],
             [
              0.1111111111111111,
              "#46039f"
             ],
             [
              0.2222222222222222,
              "#7201a8"
             ],
             [
              0.3333333333333333,
              "#9c179e"
             ],
             [
              0.4444444444444444,
              "#bd3786"
             ],
             [
              0.5555555555555556,
              "#d8576b"
             ],
             [
              0.6666666666666666,
              "#ed7953"
             ],
             [
              0.7777777777777778,
              "#fb9f3a"
             ],
             [
              0.8888888888888888,
              "#fdca26"
             ],
             [
              1,
              "#f0f921"
             ]
            ],
            "type": "surface"
           }
          ],
          "table": [
           {
            "cells": {
             "fill": {
              "color": "#EBF0F8"
             },
             "line": {
              "color": "white"
             }
            },
            "header": {
             "fill": {
              "color": "#C8D4E3"
             },
             "line": {
              "color": "white"
             }
            },
            "type": "table"
           }
          ]
         },
         "layout": {
          "annotationdefaults": {
           "arrowcolor": "#2a3f5f",
           "arrowhead": 0,
           "arrowwidth": 1
          },
          "autotypenumbers": "strict",
          "coloraxis": {
           "colorbar": {
            "outlinewidth": 0,
            "ticks": ""
           }
          },
          "colorscale": {
           "diverging": [
            [
             0,
             "#8e0152"
            ],
            [
             0.1,
             "#c51b7d"
            ],
            [
             0.2,
             "#de77ae"
            ],
            [
             0.3,
             "#f1b6da"
            ],
            [
             0.4,
             "#fde0ef"
            ],
            [
             0.5,
             "#f7f7f7"
            ],
            [
             0.6,
             "#e6f5d0"
            ],
            [
             0.7,
             "#b8e186"
            ],
            [
             0.8,
             "#7fbc41"
            ],
            [
             0.9,
             "#4d9221"
            ],
            [
             1,
             "#276419"
            ]
           ],
           "sequential": [
            [
             0,
             "#0d0887"
            ],
            [
             0.1111111111111111,
             "#46039f"
            ],
            [
             0.2222222222222222,
             "#7201a8"
            ],
            [
             0.3333333333333333,
             "#9c179e"
            ],
            [
             0.4444444444444444,
             "#bd3786"
            ],
            [
             0.5555555555555556,
             "#d8576b"
            ],
            [
             0.6666666666666666,
             "#ed7953"
            ],
            [
             0.7777777777777778,
             "#fb9f3a"
            ],
            [
             0.8888888888888888,
             "#fdca26"
            ],
            [
             1,
             "#f0f921"
            ]
           ],
           "sequentialminus": [
            [
             0,
             "#0d0887"
            ],
            [
             0.1111111111111111,
             "#46039f"
            ],
            [
             0.2222222222222222,
             "#7201a8"
            ],
            [
             0.3333333333333333,
             "#9c179e"
            ],
            [
             0.4444444444444444,
             "#bd3786"
            ],
            [
             0.5555555555555556,
             "#d8576b"
            ],
            [
             0.6666666666666666,
             "#ed7953"
            ],
            [
             0.7777777777777778,
             "#fb9f3a"
            ],
            [
             0.8888888888888888,
             "#fdca26"
            ],
            [
             1,
             "#f0f921"
            ]
           ]
          },
          "colorway": [
           "#636efa",
           "#EF553B",
           "#00cc96",
           "#ab63fa",
           "#FFA15A",
           "#19d3f3",
           "#FF6692",
           "#B6E880",
           "#FF97FF",
           "#FECB52"
          ],
          "font": {
           "color": "#2a3f5f"
          },
          "geo": {
           "bgcolor": "white",
           "lakecolor": "white",
           "landcolor": "#E5ECF6",
           "showlakes": true,
           "showland": true,
           "subunitcolor": "white"
          },
          "hoverlabel": {
           "align": "left"
          },
          "hovermode": "closest",
          "mapbox": {
           "style": "light"
          },
          "paper_bgcolor": "white",
          "plot_bgcolor": "#E5ECF6",
          "polar": {
           "angularaxis": {
            "gridcolor": "white",
            "linecolor": "white",
            "ticks": ""
           },
           "bgcolor": "#E5ECF6",
           "radialaxis": {
            "gridcolor": "white",
            "linecolor": "white",
            "ticks": ""
           }
          },
          "scene": {
           "xaxis": {
            "backgroundcolor": "#E5ECF6",
            "gridcolor": "white",
            "gridwidth": 2,
            "linecolor": "white",
            "showbackground": true,
            "ticks": "",
            "zerolinecolor": "white"
           },
           "yaxis": {
            "backgroundcolor": "#E5ECF6",
            "gridcolor": "white",
            "gridwidth": 2,
            "linecolor": "white",
            "showbackground": true,
            "ticks": "",
            "zerolinecolor": "white"
           },
           "zaxis": {
            "backgroundcolor": "#E5ECF6",
            "gridcolor": "white",
            "gridwidth": 2,
            "linecolor": "white",
            "showbackground": true,
            "ticks": "",
            "zerolinecolor": "white"
           }
          },
          "shapedefaults": {
           "line": {
            "color": "#2a3f5f"
           }
          },
          "ternary": {
           "aaxis": {
            "gridcolor": "white",
            "linecolor": "white",
            "ticks": ""
           },
           "baxis": {
            "gridcolor": "white",
            "linecolor": "white",
            "ticks": ""
           },
           "bgcolor": "#E5ECF6",
           "caxis": {
            "gridcolor": "white",
            "linecolor": "white",
            "ticks": ""
           }
          },
          "title": {
           "x": 0.05
          },
          "xaxis": {
           "automargin": true,
           "gridcolor": "white",
           "linecolor": "white",
           "ticks": "",
           "title": {
            "standoff": 15
           },
           "zerolinecolor": "white",
           "zerolinewidth": 2
          },
          "yaxis": {
           "automargin": true,
           "gridcolor": "white",
           "linecolor": "white",
           "ticks": "",
           "title": {
            "standoff": 15
           },
           "zerolinecolor": "white",
           "zerolinewidth": 2
          }
         }
        },
        "title": {
         "text": "Salário Médio Anual de Cientistas de Dados por País"
        },
        "xaxis": {
         "anchor": "y",
         "domain": [
          0,
          1
         ],
         "title": {
          "text": "País de Residência"
         }
        },
        "yaxis": {
         "anchor": "x",
         "domain": [
          0,
          1
         ],
         "title": {
          "text": "Salário Médio Anual (Dólar)"
         }
        }
       }
      }
     },
     "metadata": {},
     "output_type": "display_data"
    }
   ],
   "source": [
    "df_cientista_dados = df_limpo[df_limpo['cargo'] == 'Data Scientist']\n",
    "\n",
    "salario_medio_por_pais = df_cientista_dados.groupby('residencia')['dolar'].mean().sort_values(ascending=False).reset_index()\n",
    "\n",
    "fig = px.bar(\n",
    "    salario_medio_por_pais,\n",
    "    x='residencia',\n",
    "    y='dolar',\n",
    "    title='Salário Médio Anual de Cientistas de Dados por País',\n",
    "    labels={'residencia': 'País de Residência', 'dolar': 'Salário Médio Anual (Dólar)'}\n",
    ")\n",
    "\n",
    "fig.show()"
   ]
  },
  {
   "cell_type": "code",
   "execution_count": 56,
   "id": "8b008655",
   "metadata": {},
   "outputs": [
    {
     "data": {
      "application/vnd.plotly.v1+json": {
       "config": {
        "plotlyServerURL": "https://plot.ly"
       },
       "data": [
        {
         "coloraxis": "coloraxis",
         "customdata": {
          "bdata": "AAAAACDH6EAAAAAAAILkQO/LYyvClOhAAAAAAOBj+0AAAAAAbE7wQAAAAACgnQJBuuiii47/8UB62crgPycBQVVVVVUFlgJBAAAAACDu8EAAAAAAoBrvQJjHVgTdhfZAAAAAAADb+kAAAAAAAGr4QAAAAAAAQM9AAAAAAACI40BddNFFlywBQYqd2ImtquZAAAAAAGBL5UBfHlsR5C/2QHiuTvaAD/VAVVVVVXXX5EAAAAAAQMTvQAAAAADwX9dAC1nIQpbD9UBEREREBOTkQFVVVVWRMvtAq6qqqmq6/UAAAAAAAGroQAAAAACAPPhAAAAAAECl7kAAAAAAEB/uQFVVVVWVJQFBAAAAAABq6EAAAAAAbxvxQAAAAADgmPVAAAAAABwD/kAAAAAAAMTyQAAAAAAAgtRA5DiO46jv8UAAAAAAhLP1QAAAAAAAh+NAAAAAAADv2EAAAAAAQDzwQAAAAABYR/VAt23btlWeAkGamZmZmc7dQAAAAABAU9pAAAAAAGD75UAAAAAAoODQQAAAAACAwPRAB3Ly9JPfA0EAAAAAgNLxQAAAAAD46OVA",
          "dtype": "f8",
          "shape": "54, 1"
         },
         "geo": "geo",
         "hovertemplate": "<b>%{hovertext}</b><br><br>pais=%{location}<br>dolar=%{z}<extra></extra>",
         "hovertext": [
          null,
          "Argentina",
          "Austria",
          "Australia",
          "Belgium",
          "Bulgaria",
          "Brazil",
          "Canada",
          "Switzerland",
          "Chile",
          "Cyprus",
          "Germany",
          "Dominican Republic",
          "Algeria",
          "Ecuador",
          "Estonia",
          "Egypt",
          "Spain",
          "Finland",
          "France",
          "United Kingdom",
          "Greece",
          "Hong Kong",
          "Hungary",
          "Ireland",
          "India",
          "Italy",
          "Japan",
          "Kenya",
          null,
          "Lithuania",
          null,
          "Mexico",
          "Nigeria",
          "Netherlands",
          "Norway",
          "New Zealand",
          "Philippines",
          "Pakistan",
          "Poland",
          "Portugal",
          "Romania",
          "Serbia",
          "Russia",
          "Sweden",
          "Singapore",
          null,
          "Thailand",
          "Turkey",
          null,
          "Ukraine",
          "United States",
          "Uzbekistan",
          "South Africa"
         ],
         "locationmode": "country names",
         "locations": [
          null,
          "Argentina",
          "Austria",
          "Australia",
          "Belgium",
          "Bulgaria",
          "Brazil",
          "Canada",
          "Switzerland",
          "Chile",
          "Cyprus",
          "Germany",
          "Dominican Republic",
          "Algeria",
          "Ecuador",
          "Estonia",
          "Egypt",
          "Spain",
          "Finland",
          "France",
          "United Kingdom",
          "Greece",
          "Hong Kong",
          "Hungary",
          "Ireland",
          "India",
          "Italy",
          "Japan",
          "Kenya",
          null,
          "Lithuania",
          null,
          "Mexico",
          "Nigeria",
          "Netherlands",
          "Norway",
          "New Zealand",
          "Philippines",
          "Pakistan",
          "Poland",
          "Portugal",
          "Romania",
          "Serbia",
          "Russia",
          "Sweden",
          "Singapore",
          null,
          "Thailand",
          "Turkey",
          null,
          "Ukraine",
          "United States",
          "Uzbekistan",
          "South Africa"
         ],
         "name": "",
         "type": "choropleth",
         "z": {
          "bdata": "AAAAACDH6EAAAAAAAILkQO/LYyvClOhAAAAAAOBj+0AAAAAAbE7wQAAAAACgnQJBuuiii47/8UB62crgPycBQVVVVVUFlgJBAAAAACDu8EAAAAAAoBrvQJjHVgTdhfZAAAAAAADb+kAAAAAAAGr4QAAAAAAAQM9AAAAAAACI40BddNFFlywBQYqd2ImtquZAAAAAAGBL5UBfHlsR5C/2QHiuTvaAD/VAVVVVVXXX5EAAAAAAQMTvQAAAAADwX9dAC1nIQpbD9UBEREREBOTkQFVVVVWRMvtAq6qqqmq6/UAAAAAAAGroQAAAAACAPPhAAAAAAECl7kAAAAAAEB/uQFVVVVWVJQFBAAAAAABq6EAAAAAAbxvxQAAAAADgmPVAAAAAABwD/kAAAAAAAMTyQAAAAAAAgtRA5DiO46jv8UAAAAAAhLP1QAAAAAAAh+NAAAAAAADv2EAAAAAAQDzwQAAAAABYR/VAt23btlWeAkGamZmZmc7dQAAAAABAU9pAAAAAAGD75UAAAAAAoODQQAAAAACAwPRAB3Ly9JPfA0EAAAAAgNLxQAAAAAD46OVA",
          "dtype": "f8"
         }
        }
       ],
       "layout": {
        "coloraxis": {
         "colorbar": {
          "title": {
           "text": "dolar"
          }
         },
         "colorscale": [
          [
           0,
           "#440154"
          ],
          [
           0.1111111111111111,
           "#482878"
          ],
          [
           0.2222222222222222,
           "#3e4989"
          ],
          [
           0.3333333333333333,
           "#31688e"
          ],
          [
           0.4444444444444444,
           "#26828e"
          ],
          [
           0.5555555555555556,
           "#1f9e89"
          ],
          [
           0.6666666666666666,
           "#35b779"
          ],
          [
           0.7777777777777778,
           "#6ece58"
          ],
          [
           0.8888888888888888,
           "#b5de2b"
          ],
          [
           1,
           "#fde725"
          ]
         ]
        },
        "dragmode": false,
        "geo": {
         "center": {},
         "domain": {
          "x": [
           0,
           1
          ],
          "y": [
           0,
           1
          ]
         },
         "scope": "world"
        },
        "height": 600,
        "legend": {
         "tracegroupgap": 0
        },
        "template": {
         "data": {
          "bar": [
           {
            "error_x": {
             "color": "#2a3f5f"
            },
            "error_y": {
             "color": "#2a3f5f"
            },
            "marker": {
             "line": {
              "color": "#E5ECF6",
              "width": 0.5
             },
             "pattern": {
              "fillmode": "overlay",
              "size": 10,
              "solidity": 0.2
             }
            },
            "type": "bar"
           }
          ],
          "barpolar": [
           {
            "marker": {
             "line": {
              "color": "#E5ECF6",
              "width": 0.5
             },
             "pattern": {
              "fillmode": "overlay",
              "size": 10,
              "solidity": 0.2
             }
            },
            "type": "barpolar"
           }
          ],
          "carpet": [
           {
            "aaxis": {
             "endlinecolor": "#2a3f5f",
             "gridcolor": "white",
             "linecolor": "white",
             "minorgridcolor": "white",
             "startlinecolor": "#2a3f5f"
            },
            "baxis": {
             "endlinecolor": "#2a3f5f",
             "gridcolor": "white",
             "linecolor": "white",
             "minorgridcolor": "white",
             "startlinecolor": "#2a3f5f"
            },
            "type": "carpet"
           }
          ],
          "choropleth": [
           {
            "colorbar": {
             "outlinewidth": 0,
             "ticks": ""
            },
            "type": "choropleth"
           }
          ],
          "contour": [
           {
            "colorbar": {
             "outlinewidth": 0,
             "ticks": ""
            },
            "colorscale": [
             [
              0,
              "#0d0887"
             ],
             [
              0.1111111111111111,
              "#46039f"
             ],
             [
              0.2222222222222222,
              "#7201a8"
             ],
             [
              0.3333333333333333,
              "#9c179e"
             ],
             [
              0.4444444444444444,
              "#bd3786"
             ],
             [
              0.5555555555555556,
              "#d8576b"
             ],
             [
              0.6666666666666666,
              "#ed7953"
             ],
             [
              0.7777777777777778,
              "#fb9f3a"
             ],
             [
              0.8888888888888888,
              "#fdca26"
             ],
             [
              1,
              "#f0f921"
             ]
            ],
            "type": "contour"
           }
          ],
          "contourcarpet": [
           {
            "colorbar": {
             "outlinewidth": 0,
             "ticks": ""
            },
            "type": "contourcarpet"
           }
          ],
          "heatmap": [
           {
            "colorbar": {
             "outlinewidth": 0,
             "ticks": ""
            },
            "colorscale": [
             [
              0,
              "#0d0887"
             ],
             [
              0.1111111111111111,
              "#46039f"
             ],
             [
              0.2222222222222222,
              "#7201a8"
             ],
             [
              0.3333333333333333,
              "#9c179e"
             ],
             [
              0.4444444444444444,
              "#bd3786"
             ],
             [
              0.5555555555555556,
              "#d8576b"
             ],
             [
              0.6666666666666666,
              "#ed7953"
             ],
             [
              0.7777777777777778,
              "#fb9f3a"
             ],
             [
              0.8888888888888888,
              "#fdca26"
             ],
             [
              1,
              "#f0f921"
             ]
            ],
            "type": "heatmap"
           }
          ],
          "histogram": [
           {
            "marker": {
             "pattern": {
              "fillmode": "overlay",
              "size": 10,
              "solidity": 0.2
             }
            },
            "type": "histogram"
           }
          ],
          "histogram2d": [
           {
            "colorbar": {
             "outlinewidth": 0,
             "ticks": ""
            },
            "colorscale": [
             [
              0,
              "#0d0887"
             ],
             [
              0.1111111111111111,
              "#46039f"
             ],
             [
              0.2222222222222222,
              "#7201a8"
             ],
             [
              0.3333333333333333,
              "#9c179e"
             ],
             [
              0.4444444444444444,
              "#bd3786"
             ],
             [
              0.5555555555555556,
              "#d8576b"
             ],
             [
              0.6666666666666666,
              "#ed7953"
             ],
             [
              0.7777777777777778,
              "#fb9f3a"
             ],
             [
              0.8888888888888888,
              "#fdca26"
             ],
             [
              1,
              "#f0f921"
             ]
            ],
            "type": "histogram2d"
           }
          ],
          "histogram2dcontour": [
           {
            "colorbar": {
             "outlinewidth": 0,
             "ticks": ""
            },
            "colorscale": [
             [
              0,
              "#0d0887"
             ],
             [
              0.1111111111111111,
              "#46039f"
             ],
             [
              0.2222222222222222,
              "#7201a8"
             ],
             [
              0.3333333333333333,
              "#9c179e"
             ],
             [
              0.4444444444444444,
              "#bd3786"
             ],
             [
              0.5555555555555556,
              "#d8576b"
             ],
             [
              0.6666666666666666,
              "#ed7953"
             ],
             [
              0.7777777777777778,
              "#fb9f3a"
             ],
             [
              0.8888888888888888,
              "#fdca26"
             ],
             [
              1,
              "#f0f921"
             ]
            ],
            "type": "histogram2dcontour"
           }
          ],
          "mesh3d": [
           {
            "colorbar": {
             "outlinewidth": 0,
             "ticks": ""
            },
            "type": "mesh3d"
           }
          ],
          "parcoords": [
           {
            "line": {
             "colorbar": {
              "outlinewidth": 0,
              "ticks": ""
             }
            },
            "type": "parcoords"
           }
          ],
          "pie": [
           {
            "automargin": true,
            "type": "pie"
           }
          ],
          "scatter": [
           {
            "fillpattern": {
             "fillmode": "overlay",
             "size": 10,
             "solidity": 0.2
            },
            "type": "scatter"
           }
          ],
          "scatter3d": [
           {
            "line": {
             "colorbar": {
              "outlinewidth": 0,
              "ticks": ""
             }
            },
            "marker": {
             "colorbar": {
              "outlinewidth": 0,
              "ticks": ""
             }
            },
            "type": "scatter3d"
           }
          ],
          "scattercarpet": [
           {
            "marker": {
             "colorbar": {
              "outlinewidth": 0,
              "ticks": ""
             }
            },
            "type": "scattercarpet"
           }
          ],
          "scattergeo": [
           {
            "marker": {
             "colorbar": {
              "outlinewidth": 0,
              "ticks": ""
             }
            },
            "type": "scattergeo"
           }
          ],
          "scattergl": [
           {
            "marker": {
             "colorbar": {
              "outlinewidth": 0,
              "ticks": ""
             }
            },
            "type": "scattergl"
           }
          ],
          "scattermap": [
           {
            "marker": {
             "colorbar": {
              "outlinewidth": 0,
              "ticks": ""
             }
            },
            "type": "scattermap"
           }
          ],
          "scattermapbox": [
           {
            "marker": {
             "colorbar": {
              "outlinewidth": 0,
              "ticks": ""
             }
            },
            "type": "scattermapbox"
           }
          ],
          "scatterpolar": [
           {
            "marker": {
             "colorbar": {
              "outlinewidth": 0,
              "ticks": ""
             }
            },
            "type": "scatterpolar"
           }
          ],
          "scatterpolargl": [
           {
            "marker": {
             "colorbar": {
              "outlinewidth": 0,
              "ticks": ""
             }
            },
            "type": "scatterpolargl"
           }
          ],
          "scatterternary": [
           {
            "marker": {
             "colorbar": {
              "outlinewidth": 0,
              "ticks": ""
             }
            },
            "type": "scatterternary"
           }
          ],
          "surface": [
           {
            "colorbar": {
             "outlinewidth": 0,
             "ticks": ""
            },
            "colorscale": [
             [
              0,
              "#0d0887"
             ],
             [
              0.1111111111111111,
              "#46039f"
             ],
             [
              0.2222222222222222,
              "#7201a8"
             ],
             [
              0.3333333333333333,
              "#9c179e"
             ],
             [
              0.4444444444444444,
              "#bd3786"
             ],
             [
              0.5555555555555556,
              "#d8576b"
             ],
             [
              0.6666666666666666,
              "#ed7953"
             ],
             [
              0.7777777777777778,
              "#fb9f3a"
             ],
             [
              0.8888888888888888,
              "#fdca26"
             ],
             [
              1,
              "#f0f921"
             ]
            ],
            "type": "surface"
           }
          ],
          "table": [
           {
            "cells": {
             "fill": {
              "color": "#EBF0F8"
             },
             "line": {
              "color": "white"
             }
            },
            "header": {
             "fill": {
              "color": "#C8D4E3"
             },
             "line": {
              "color": "white"
             }
            },
            "type": "table"
           }
          ]
         },
         "layout": {
          "annotationdefaults": {
           "arrowcolor": "#2a3f5f",
           "arrowhead": 0,
           "arrowwidth": 1
          },
          "autotypenumbers": "strict",
          "coloraxis": {
           "colorbar": {
            "outlinewidth": 0,
            "ticks": ""
           }
          },
          "colorscale": {
           "diverging": [
            [
             0,
             "#8e0152"
            ],
            [
             0.1,
             "#c51b7d"
            ],
            [
             0.2,
             "#de77ae"
            ],
            [
             0.3,
             "#f1b6da"
            ],
            [
             0.4,
             "#fde0ef"
            ],
            [
             0.5,
             "#f7f7f7"
            ],
            [
             0.6,
             "#e6f5d0"
            ],
            [
             0.7,
             "#b8e186"
            ],
            [
             0.8,
             "#7fbc41"
            ],
            [
             0.9,
             "#4d9221"
            ],
            [
             1,
             "#276419"
            ]
           ],
           "sequential": [
            [
             0,
             "#0d0887"
            ],
            [
             0.1111111111111111,
             "#46039f"
            ],
            [
             0.2222222222222222,
             "#7201a8"
            ],
            [
             0.3333333333333333,
             "#9c179e"
            ],
            [
             0.4444444444444444,
             "#bd3786"
            ],
            [
             0.5555555555555556,
             "#d8576b"
            ],
            [
             0.6666666666666666,
             "#ed7953"
            ],
            [
             0.7777777777777778,
             "#fb9f3a"
            ],
            [
             0.8888888888888888,
             "#fdca26"
            ],
            [
             1,
             "#f0f921"
            ]
           ],
           "sequentialminus": [
            [
             0,
             "#0d0887"
            ],
            [
             0.1111111111111111,
             "#46039f"
            ],
            [
             0.2222222222222222,
             "#7201a8"
            ],
            [
             0.3333333333333333,
             "#9c179e"
            ],
            [
             0.4444444444444444,
             "#bd3786"
            ],
            [
             0.5555555555555556,
             "#d8576b"
            ],
            [
             0.6666666666666666,
             "#ed7953"
            ],
            [
             0.7777777777777778,
             "#fb9f3a"
            ],
            [
             0.8888888888888888,
             "#fdca26"
            ],
            [
             1,
             "#f0f921"
            ]
           ]
          },
          "colorway": [
           "#636efa",
           "#EF553B",
           "#00cc96",
           "#ab63fa",
           "#FFA15A",
           "#19d3f3",
           "#FF6692",
           "#B6E880",
           "#FF97FF",
           "#FECB52"
          ],
          "font": {
           "color": "#2a3f5f"
          },
          "geo": {
           "bgcolor": "white",
           "lakecolor": "white",
           "landcolor": "#E5ECF6",
           "showlakes": true,
           "showland": true,
           "subunitcolor": "white"
          },
          "hoverlabel": {
           "align": "left"
          },
          "hovermode": "closest",
          "mapbox": {
           "style": "light"
          },
          "paper_bgcolor": "white",
          "plot_bgcolor": "#E5ECF6",
          "polar": {
           "angularaxis": {
            "gridcolor": "white",
            "linecolor": "white",
            "ticks": ""
           },
           "bgcolor": "#E5ECF6",
           "radialaxis": {
            "gridcolor": "white",
            "linecolor": "white",
            "ticks": ""
           }
          },
          "scene": {
           "xaxis": {
            "backgroundcolor": "#E5ECF6",
            "gridcolor": "white",
            "gridwidth": 2,
            "linecolor": "white",
            "showbackground": true,
            "ticks": "",
            "zerolinecolor": "white"
           },
           "yaxis": {
            "backgroundcolor": "#E5ECF6",
            "gridcolor": "white",
            "gridwidth": 2,
            "linecolor": "white",
            "showbackground": true,
            "ticks": "",
            "zerolinecolor": "white"
           },
           "zaxis": {
            "backgroundcolor": "#E5ECF6",
            "gridcolor": "white",
            "gridwidth": 2,
            "linecolor": "white",
            "showbackground": true,
            "ticks": "",
            "zerolinecolor": "white"
           }
          },
          "shapedefaults": {
           "line": {
            "color": "#2a3f5f"
           }
          },
          "ternary": {
           "aaxis": {
            "gridcolor": "white",
            "linecolor": "white",
            "ticks": ""
           },
           "baxis": {
            "gridcolor": "white",
            "linecolor": "white",
            "ticks": ""
           },
           "bgcolor": "#E5ECF6",
           "caxis": {
            "gridcolor": "white",
            "linecolor": "white",
            "ticks": ""
           }
          },
          "title": {
           "x": 0.05
          },
          "xaxis": {
           "automargin": true,
           "gridcolor": "white",
           "linecolor": "white",
           "ticks": "",
           "title": {
            "standoff": 15
           },
           "zerolinecolor": "white",
           "zerolinewidth": 2
          },
          "yaxis": {
           "automargin": true,
           "gridcolor": "white",
           "linecolor": "white",
           "ticks": "",
           "title": {
            "standoff": 15
           },
           "zerolinecolor": "white",
           "zerolinewidth": 2
          }
         }
        },
        "title": {
         "text": "Salário Médio Anual de Cientistas de Dados por País (USD)"
        },
        "width": 1000
       }
      }
     },
     "metadata": {},
     "output_type": "display_data"
    }
   ],
   "source": [
    "df_cientista_dados = df_limpo[df_limpo['cargo'] == 'Data Scientist']\n",
    "salario_medio_por_pais = df_cientista_dados.groupby('residencia')['dolar'].mean().reset_index()\n",
    "\n",
    "country_names = {\n",
    "    'US': 'United States',\n",
    "    'GB': 'United Kingdom',\n",
    "    'CA': 'Canada',\n",
    "    'AU': 'Australia',\n",
    "    'DE': 'Germany',\n",
    "    'FR': 'France',\n",
    "    'ES': 'Spain',\n",
    "    'NL': 'Netherlands',\n",
    "    'JP': 'Japan',\n",
    "    'IN': 'India',\n",
    "    'BR': 'Brazil',\n",
    "    'IT': 'Italy',\n",
    "    'IE': 'Ireland',\n",
    "    'CH': 'Switzerland',\n",
    "    'RU': 'Russia',\n",
    "    'PL': 'Poland',\n",
    "    'MX': 'Mexico',\n",
    "    'AE': 'United Arab Emirates',\n",
    "    'TR': 'Turkey',\n",
    "    'NG': 'Nigeria',\n",
    "    'AT': 'Austria',\n",
    "    'NO': 'Norway',\n",
    "    'HU': 'Hungary',\n",
    "    'SE': 'Sweden',\n",
    "    'GR': 'Greece',\n",
    "    'BE': 'Belgium',\n",
    "    'PT': 'Portugal',\n",
    "    'FI': 'Finland',\n",
    "    'AR': 'Argentina',\n",
    "    'DK': 'Denmark',\n",
    "    'NZ': 'New Zealand',\n",
    "    'SG': 'Singapore',\n",
    "    'UA': 'Ukraine',\n",
    "    'HN': 'Honduras',\n",
    "    'PH': 'Philippines',\n",
    "    'RO': 'Romania',\n",
    "    'IR': 'Iran',\n",
    "    'VN': 'Vietnam',\n",
    "    'PK': 'Pakistan',\n",
    "    'SI': 'Slovenia',\n",
    "    'HR': 'Croatia',\n",
    "    'EE': 'Estonia',\n",
    "    'DZ': 'Algeria',\n",
    "    'CR': 'Costa Rica',\n",
    "    'CY': 'Cyprus',\n",
    "    'LU': 'Luxembourg',\n",
    "    'CZ': 'Czech Republic',\n",
    "    'BG': 'Bulgaria',\n",
    "    'CL': 'Chile',\n",
    "    'HK': 'Hong Kong',\n",
    "    'KE': 'Kenya',\n",
    "    'MA': 'Morocco',\n",
    "    'LT': 'Lithuania',\n",
    "    'IS': 'Iceland',\n",
    "    'TH': 'Thailand',\n",
    "    'ID': 'Indonesia',\n",
    "    'IL': 'Israel',\n",
    "    'KW': 'Kuwait',\n",
    "    'MT': 'Malta',\n",
    "    'RS': 'Serbia',\n",
    "    'SA': 'Saudi Arabia',\n",
    "    'BA': 'Bosnia and Herzegovina',\n",
    "    'MD': 'Moldova',\n",
    "    'AM': 'Armenia',\n",
    "    'AZ': 'Azerbaijan',\n",
    "    'BS': 'Bahamas',\n",
    "    'BO': 'Bolivia',\n",
    "    'CN': 'China',\n",
    "    'CO': 'Colombia',\n",
    "    'CU': 'Cuba',\n",
    "    'DO': 'Dominican Republic',\n",
    "    'EC': 'Ecuador',\n",
    "    'EG': 'Egypt',\n",
    "    'ET': 'Ethiopia',\n",
    "    'FJ': 'Fiji',\n",
    "    'GA': 'Gabon',\n",
    "    'GE': 'Georgia',\n",
    "    'GH': 'Ghana',\n",
    "    'GT': 'Guatemala',\n",
    "    'IQ': 'Iraq',\n",
    "    'JM': 'Jamaica',\n",
    "    'JO': 'Jordan',\n",
    "    'KZ': 'Kazakhstan',\n",
    "    'LB': 'Lebanon',\n",
    "    'LY': 'Libya',\n",
    "    'MK': 'North Macedonia',\n",
    "    'MN': 'Mongolia',\n",
    "    'MO': 'Macau',\n",
    "    'MU': 'Mauritius',\n",
    "    'MW': 'Malawi',\n",
    "    'MY': 'Malaysia',\n",
    "    'NA': 'Namibia',\n",
    "    'NP': 'Nepal',\n",
    "    'OM': 'Oman',\n",
    "    'PA': 'Panama',\n",
    "    'PE': 'Peru',\n",
    "    'PG': 'Papua New Guinea',\n",
    "    'PR': 'Puerto Rico',\n",
    "    'PY': 'Paraguay',\n",
    "    'QA': 'Qatar',\n",
    "    'RW': 'Rwanda',\n",
    "    'SN': 'Senegal',\n",
    "    'TJ': 'Tajikistan',\n",
    "    'TN': 'Tunisia',\n",
    "    'TZ': 'Tanzania',\n",
    "    'UG': 'Uganda',\n",
    "    'UY': 'Uruguay',\n",
    "    'UZ': 'Uzbekistan',\n",
    "    'VE': 'Venezuela',\n",
    "    'YE': 'Yemen',\n",
    "    'ZA': 'South Africa',\n",
    "    'ZM': 'Zambia',\n",
    "    'ZW': 'Zimbabwe'\n",
    "}\n",
    "\n",
    "salario_medio_por_pais['pais'] = salario_medio_por_pais['residencia'].map(country_names)\n",
    "\n",
    "fig = px.choropleth(\n",
    "    salario_medio_por_pais,\n",
    "    locations='pais',\n",
    "    locationmode='country names',\n",
    "    color='dolar',\n",
    "    hover_name='pais',\n",
    "    hover_data=['dolar'], \n",
    "    color_continuous_scale=px.colors.sequential.Viridis,\n",
    "    title='Salário Médio Anual de Cientistas de Dados por País (USD)',\n",
    "    width=1000,\n",
    "    height=600,\n",
    "    scope='world'\n",
    ")\n",
    "\n",
    "fig.update_layout(dragmode=False)\n",
    "fig.show()\n"
   ]
  },
  {
   "cell_type": "markdown",
   "id": "00ba5128",
   "metadata": {},
   "source": [
    "### Aula 4 - Criando o Dashboard"
   ]
  },
  {
   "cell_type": "code",
   "execution_count": null,
   "id": "4642214a",
   "metadata": {},
   "outputs": [],
   "source": [
    "# Exportar o DataFrame limpo para um arquivo CSV\n",
    "df_limpo.to_csv('dados.csv', index=False)"
   ]
  }
 ],
 "metadata": {
  "kernelspec": {
   "display_name": "venv",
   "language": "python",
   "name": "python3"
  },
  "language_info": {
   "codemirror_mode": {
    "name": "ipython",
    "version": 3
   },
   "file_extension": ".py",
   "mimetype": "text/x-python",
   "name": "python",
   "nbconvert_exporter": "python",
   "pygments_lexer": "ipython3",
   "version": "3.13.5"
  }
 },
 "nbformat": 4,
 "nbformat_minor": 5
}
